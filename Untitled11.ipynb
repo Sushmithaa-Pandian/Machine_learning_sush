{
  "nbformat": 4,
  "nbformat_minor": 0,
  "metadata": {
    "colab": {
      "provenance": [],
      "authorship_tag": "ABX9TyMlNBrAvc3S5XRaCSr7+BNS",
      "include_colab_link": true
    },
    "kernelspec": {
      "name": "python3",
      "display_name": "Python 3"
    },
    "language_info": {
      "name": "python"
    },
    "accelerator": "TPU"
  },
  "cells": [
    {
      "cell_type": "markdown",
      "metadata": {
        "id": "view-in-github",
        "colab_type": "text"
      },
      "source": [
        "<a href=\"https://colab.research.google.com/github/Sushmithaa-Pandian/Machine_learning_sush/blob/main/Untitled11.ipynb\" target=\"_parent\"><img src=\"https://colab.research.google.com/assets/colab-badge.svg\" alt=\"Open In Colab\"/></a>"
      ]
    },
    {
      "cell_type": "code",
      "execution_count": null,
      "metadata": {
        "colab": {
          "base_uri": "https://localhost:8080/"
        },
        "id": "B5xUb3u7_aoA",
        "outputId": "95722e06-6641-48db-aa29-b5e38cbf4afc"
      },
      "outputs": [
        {
          "output_type": "stream",
          "name": "stdout",
          "text": [
            "Mounted at /content/gdrive\n"
          ]
        }
      ],
      "source": [
        "from google.colab import drive\n",
        "\n",
        "drive.mount('/content/gdrive')"
      ]
    },
    {
      "cell_type": "code",
      "source": [
        "import numpy as np\n",
        "import matplotlib.pyplot as plt\n",
        "import seaborn as sns\n",
        "%matplotlib inline\n",
        "\n",
        "import cv2\n",
        "import os\n",
        "os.environ[\"TF_CPP_MIN_LOG_LEVEL\"] = \"2\"\n",
        "import warnings\n",
        "warnings.filterwarnings('ignore')\n",
        "\n",
        "from sklearn.metrics import confusion_matrix, classification_report\n",
        "\n",
        "import tensorflow as tf\n",
        "from tensorflow.keras.models import Sequential\n",
        "from tensorflow.keras.layers import Activation, BatchNormalization, Conv2D, Dense, Dropout, Flatten, MaxPooling2D\n",
        "from tensorflow.keras.preprocessing.image import ImageDataGenerator\n",
        "from tensorflow.keras.optimizers import Adam\n",
        "from tensorflow.keras.losses import CategoricalCrossentropy\n",
        "from tensorflow.keras.regularizers import l2\n",
        "from tensorflow.keras.callbacks import ReduceLROnPlateau, EarlyStopping"
      ],
      "metadata": {
        "id": "K4tyt35pA0J9"
      },
      "execution_count": null,
      "outputs": []
    },
    {
      "cell_type": "code",
      "source": [
        "train_path=\"/content/gdrive/MyDrive/fruits/train\""
      ],
      "metadata": {
        "id": "hW80R2-9_vh9"
      },
      "execution_count": null,
      "outputs": []
    },
    {
      "cell_type": "code",
      "source": [
        "valid_path='/content/gdrive/MyDrive/fruits/test'"
      ],
      "metadata": {
        "id": "-5A-CPOP_6bb"
      },
      "execution_count": null,
      "outputs": []
    },
    {
      "cell_type": "code",
      "source": [
        "IMG_WIDTH = 150\n",
        "IMG_HEIGHT = 150\n",
        "BATCH_SIZE = 32"
      ],
      "metadata": {
        "id": "PEqJ9EAW_8lX"
      },
      "execution_count": null,
      "outputs": []
    },
    {
      "cell_type": "code",
      "source": [
        "train_datagen = ImageDataGenerator(rescale=1.0/255,\n",
        "                                  zoom_range=0.2,\n",
        "                                  width_shift_range=0.2,\n",
        "                                  height_shift_range=0.2,\n",
        "                                  fill_mode='nearest')\n",
        "train_generator = train_datagen.flow_from_directory(train_path,\n",
        "                                                   target_size=(IMG_WIDTH, IMG_HEIGHT),\n",
        "                                                   batch_size=BATCH_SIZE,\n",
        "                                                   class_mode='categorical',\n",
        "                                                   shuffle=True)"
      ],
      "metadata": {
        "colab": {
          "base_uri": "https://localhost:8080/"
        },
        "id": "SnJ3iiDyAK76",
        "outputId": "30f3c93a-bb36-44ef-90cc-8f3b5bbbf115"
      },
      "execution_count": null,
      "outputs": [
        {
          "output_type": "stream",
          "name": "stdout",
          "text": [
            "Found 10901 images belonging to 6 classes.\n"
          ]
        }
      ]
    },
    {
      "cell_type": "code",
      "source": [
        "validation_datagen = ImageDataGenerator(rescale=1.0/255)\n",
        "validation_generator = validation_datagen.flow_from_directory(valid_path,\n",
        "                                                             target_size=(IMG_WIDTH, IMG_HEIGHT),\n",
        "                                                             batch_size=BATCH_SIZE,\n",
        "                                                             class_mode='categorical',\n",
        "                                                             shuffle=True)\n"
      ],
      "metadata": {
        "colab": {
          "base_uri": "https://localhost:8080/"
        },
        "id": "zlByjlpRANQB",
        "outputId": "6ce2e90b-11d0-4091-b1b6-4a2064aa72a2"
      },
      "execution_count": null,
      "outputs": [
        {
          "output_type": "stream",
          "name": "stdout",
          "text": [
            "Found 2698 images belonging to 6 classes.\n"
          ]
        }
      ]
    },
    {
      "cell_type": "code",
      "source": [
        "labels = {value: key for key, value in train_generator.class_indices.items()}\n",
        "\n",
        "print(\"Label Mappings for classes present in the training and validation datasets\\n\")\n",
        "for key, value in labels.items():\n",
        "    print(f\"{key} : {value}\")"
      ],
      "metadata": {
        "colab": {
          "base_uri": "https://localhost:8080/"
        },
        "id": "fsQx0QHnAVx3",
        "outputId": "2bb8744b-c087-4abd-da4e-727978be7db2"
      },
      "execution_count": null,
      "outputs": [
        {
          "output_type": "stream",
          "name": "stdout",
          "text": [
            "Label Mappings for classes present in the training and validation datasets\n",
            "\n",
            "0 : freshapples\n",
            "1 : freshbanana\n",
            "2 : freshoranges\n",
            "3 : rottenapples\n",
            "4 : rottenbanana\n",
            "5 : rottenoranges\n"
          ]
        }
      ]
    },
    {
      "cell_type": "code",
      "source": [
        "import os\n",
        "import numpy as np # linear algebra\n",
        "import matplotlib.pyplot as plt\n",
        "from sklearn.model_selection import train_test_split\n",
        "from sklearn.metrics import accuracy_score\n",
        "import pandas as pd # data processing, CSV file I/O (e.g. pd.read_csv)\n",
        "import tensorflow as tf\n",
        "import PIL\n",
        "import PIL.Image\n",
        "from tensorflow import keras\n",
        "import tensorflow_datasets as tfds\n",
        "import matplotlib.pyplot as plt"
      ],
      "metadata": {
        "id": "JO4iM285GGtA"
      },
      "execution_count": null,
      "outputs": []
    },
    {
      "cell_type": "code",
      "source": [
        "def fruit_class():\n",
        "\n",
        "\n",
        "    # Defines & compiles the model\n",
        "    model = tf.keras.models.Sequential([\n",
        "        tf.keras.layers.Conv2D(16, (3,3), activation='relu', input_shape=(150, 150, 3)),\n",
        "    tf.keras.layers.MaxPooling2D(2, 2),\n",
        "    keras.layers.Dropout(rate=0.15), #adding dropout regularization throughout the model to deal with overfitting\n",
        "    # The second convolution\n",
        "    tf.keras.layers.Conv2D(32, (3,3), activation='relu'),\n",
        "    tf.keras.layers.MaxPooling2D(2,2),\n",
        "    keras.layers.Dropout(rate=0.1),\n",
        "    # The third convolution\n",
        "    tf.keras.layers.Conv2D(64, (3,3), activation='relu'),\n",
        "    tf.keras.layers.MaxPooling2D(2,2),\n",
        "    keras.layers.Dropout(rate=0.10),\n",
        "    # Flatten the results to feed into a DNN\n",
        "    tf.keras.layers.Flatten(),\n",
        "    # 512 neuron hidden layer\n",
        "    tf.keras.layers.Dense(512, activation='relu'),\n",
        "\n",
        "    # 3 output neuron for the 3 classes of Animal Images\n",
        "    tf.keras.layers.Dense(6, activation='softmax')\n",
        "    ])\n",
        "\n",
        "    from tensorflow.keras.optimizers import RMSprop\n",
        "\n",
        "    model.compile(loss='categorical_crossentropy',\n",
        "              optimizer=\"adam\",\n",
        "              metrics=['acc'])\n",
        "    return model"
      ],
      "metadata": {
        "id": "AcrG3_VrF6_g"
      },
      "execution_count": null,
      "outputs": []
    },
    {
      "cell_type": "code",
      "source": [
        "model=fruit_class()"
      ],
      "metadata": {
        "id": "2n89iUAeG5K0"
      },
      "execution_count": null,
      "outputs": []
    },
    {
      "cell_type": "code",
      "source": [
        "model.fit_generator(\n",
        "      train_generator,\n",
        "      steps_per_epoch=150,\n",
        "      epochs=15,\n",
        "      validation_data = validation_generator,\n",
        "      validation_steps = 50,\n",
        "      verbose=1)"
      ],
      "metadata": {
        "colab": {
          "base_uri": "https://localhost:8080/"
        },
        "id": "HY6xZh_GF95b",
        "outputId": "ea72786f-f88e-4e63-e22b-acea35d4a178"
      },
      "execution_count": null,
      "outputs": [
        {
          "output_type": "stream",
          "name": "stdout",
          "text": [
            "Epoch 1/15\n",
            "150/150 [==============================] - 1250s 8s/step - loss: 1.3434 - acc: 0.5031 - val_loss: 0.7501 - val_acc: 0.7494\n",
            "Epoch 2/15\n",
            "150/150 [==============================] - 723s 5s/step - loss: 0.6976 - acc: 0.7582 - val_loss: 0.4618 - val_acc: 0.8469\n",
            "Epoch 3/15\n",
            "150/150 [==============================] - 495s 3s/step - loss: 0.6164 - acc: 0.7788 - val_loss: 0.4951 - val_acc: 0.8413\n",
            "Epoch 4/15\n",
            "150/150 [==============================] - 321s 2s/step - loss: 0.5183 - acc: 0.8135 - val_loss: 0.4849 - val_acc: 0.8188\n",
            "Epoch 5/15\n",
            "150/150 [==============================] - 285s 2s/step - loss: 0.4602 - acc: 0.8298 - val_loss: 0.3357 - val_acc: 0.8813\n",
            "Epoch 6/15\n",
            "150/150 [==============================] - 252s 2s/step - loss: 0.4233 - acc: 0.8506 - val_loss: 0.3732 - val_acc: 0.8662\n",
            "Epoch 7/15\n",
            "150/150 [==============================] - 251s 2s/step - loss: 0.3619 - acc: 0.8677 - val_loss: 0.3879 - val_acc: 0.8631\n",
            "Epoch 8/15\n",
            "150/150 [==============================] - 215s 1s/step - loss: 0.3814 - acc: 0.8647 - val_loss: 0.3282 - val_acc: 0.8888\n",
            "Epoch 9/15\n",
            "150/150 [==============================] - 216s 1s/step - loss: 0.3547 - acc: 0.8693 - val_loss: 0.3181 - val_acc: 0.8875\n",
            "Epoch 10/15\n",
            "150/150 [==============================] - 212s 1s/step - loss: 0.3201 - acc: 0.8856 - val_loss: 0.2732 - val_acc: 0.9000\n",
            "Epoch 11/15\n",
            "150/150 [==============================] - 208s 1s/step - loss: 0.3285 - acc: 0.8783 - val_loss: 0.2784 - val_acc: 0.9019\n",
            "Epoch 12/15\n",
            "150/150 [==============================] - 215s 1s/step - loss: 0.2976 - acc: 0.8900 - val_loss: 0.2318 - val_acc: 0.9131\n",
            "Epoch 13/15\n",
            "150/150 [==============================] - 207s 1s/step - loss: 0.2860 - acc: 0.8917 - val_loss: 0.2940 - val_acc: 0.8906\n",
            "Epoch 14/15\n",
            "150/150 [==============================] - 235s 2s/step - loss: 0.2724 - acc: 0.8992 - val_loss: 0.2196 - val_acc: 0.9250\n",
            "Epoch 15/15\n",
            "150/150 [==============================] - 251s 2s/step - loss: 0.2900 - acc: 0.8946 - val_loss: 0.1699 - val_acc: 0.9513\n"
          ]
        },
        {
          "output_type": "execute_result",
          "data": {
            "text/plain": [
              "<keras.callbacks.History at 0x7cf8748364d0>"
            ]
          },
          "metadata": {},
          "execution_count": 55
        }
      ]
    },
    {
      "cell_type": "code",
      "source": [
        "model.save(\"my_model.h5\")"
      ],
      "metadata": {
        "id": "DsdXN-2LcUzb"
      },
      "execution_count": null,
      "outputs": []
    },
    {
      "cell_type": "code",
      "source": [
        "test_loss, test_accuracy = model.evaluate(validation_generator)"
      ],
      "metadata": {
        "colab": {
          "base_uri": "https://localhost:8080/"
        },
        "id": "BONHc5MKcP8G",
        "outputId": "a3b90e1e-1e47-4390-9f90-61d83c2a413f"
      },
      "execution_count": null,
      "outputs": [
        {
          "output_type": "stream",
          "name": "stdout",
          "text": [
            "85/85 [==============================] - 39s 457ms/step - loss: 0.1673 - acc: 0.9496\n"
          ]
        }
      ]
    },
    {
      "cell_type": "code",
      "source": [
        "print(f\"Test Loss:     {test_loss}\")\n",
        "print(f\"Test Accuracy: {test_accuracy}\")"
      ],
      "metadata": {
        "colab": {
          "base_uri": "https://localhost:8080/"
        },
        "id": "vFC-bpqpcq21",
        "outputId": "2dbbc9e7-c72b-4391-bfa4-fc705a432eac"
      },
      "execution_count": null,
      "outputs": [
        {
          "output_type": "stream",
          "name": "stdout",
          "text": [
            "Test Loss:     0.16734792292118073\n",
            "Test Accuracy: 0.9495922923088074\n"
          ]
        }
      ]
    },
    {
      "cell_type": "code",
      "source": [
        "predictions = model.predict(validation_generator)"
      ],
      "metadata": {
        "colab": {
          "base_uri": "https://localhost:8080/"
        },
        "id": "YsYS_3rZcwwp",
        "outputId": "4058cb83-ed9c-4a96-f83e-bf7f04d09386"
      },
      "execution_count": null,
      "outputs": [
        {
          "output_type": "stream",
          "name": "stdout",
          "text": [
            "85/85 [==============================] - 43s 503ms/step\n"
          ]
        }
      ]
    },
    {
      "cell_type": "code",
      "source": [
        "y_pred = np.argmax(predictions, axis=1)\n",
        "y_true = validation_generator.classes"
      ],
      "metadata": {
        "id": "Wbp3EQKDdBP2"
      },
      "execution_count": null,
      "outputs": []
    },
    {
      "cell_type": "code",
      "source": [
        "print(classification_report(y_true, y_pred, target_names=labels.values()))"
      ],
      "metadata": {
        "colab": {
          "base_uri": "https://localhost:8080/"
        },
        "id": "xnhMLDBHdQN_",
        "outputId": "2c94276f-672f-4bb1-9a53-d028d04ebb0d"
      },
      "execution_count": null,
      "outputs": [
        {
          "output_type": "stream",
          "name": "stdout",
          "text": [
            "               precision    recall  f1-score   support\n",
            "\n",
            "  freshapples       0.14      0.15      0.15       395\n",
            "  freshbanana       0.13      0.13      0.13       381\n",
            " freshoranges       0.14      0.14      0.14       388\n",
            " rottenapples       0.21      0.20      0.21       601\n",
            " rottenbanana       0.21      0.21      0.21       530\n",
            "rottenoranges       0.16      0.16      0.16       403\n",
            "\n",
            "     accuracy                           0.17      2698\n",
            "    macro avg       0.17      0.17      0.17      2698\n",
            " weighted avg       0.17      0.17      0.17      2698\n",
            "\n"
          ]
        }
      ]
    },
    {
      "cell_type": "code",
      "source": [],
      "metadata": {
        "id": "yThmbZTMdope"
      },
      "execution_count": null,
      "outputs": []
    }
  ]
}