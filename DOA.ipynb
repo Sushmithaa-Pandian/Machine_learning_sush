{
  "nbformat": 4,
  "nbformat_minor": 0,
  "metadata": {
    "colab": {
      "provenance": [],
      "mount_file_id": "1FVp3rDIjBSm0o_4FRvOCwrhCXEZOiwio",
      "authorship_tag": "ABX9TyNJCsRA7U0sJDO04B+RRggN",
      "include_colab_link": true
    },
    "kernelspec": {
      "name": "python3",
      "display_name": "Python 3"
    },
    "language_info": {
      "name": "python"
    }
  },
  "cells": [
    {
      "cell_type": "markdown",
      "metadata": {
        "id": "view-in-github",
        "colab_type": "text"
      },
      "source": [
        "<a href=\"https://colab.research.google.com/github/Sushmithaa-Pandian/Machine_learning_sush/blob/main/DOA.ipynb\" target=\"_parent\"><img src=\"https://colab.research.google.com/assets/colab-badge.svg\" alt=\"Open In Colab\"/></a>"
      ]
    },
    {
      "cell_type": "code",
      "execution_count": 52,
      "metadata": {
        "colab": {
          "base_uri": "https://localhost:8080/"
        },
        "id": "YInBg-xopARq",
        "outputId": "b0068c63-0324-4daa-deb6-5aea7092db64"
      },
      "outputs": [
        {
          "output_type": "stream",
          "name": "stdout",
          "text": [
            "Mounted at /content/gdrive\n"
          ]
        }
      ],
      "source": [
        "from google.colab import drive\n",
        "\n",
        "drive.mount('/content/gdrive')"
      ]
    },
    {
      "cell_type": "code",
      "source": [
        "import numpy as np\n",
        "import pandas as pd\n",
        "import seaborn as sns"
      ],
      "metadata": {
        "id": "T41XY0_xqR0H"
      },
      "execution_count": 53,
      "outputs": []
    },
    {
      "cell_type": "code",
      "source": [
        "df=pd.read_excel(\"/content/gdrive/MyDrive/Data.xlsx\")"
      ],
      "metadata": {
        "id": "c8qX_Q2lqi2g"
      },
      "execution_count": 239,
      "outputs": []
    },
    {
      "cell_type": "code",
      "source": [
        "df.head()"
      ],
      "metadata": {
        "colab": {
          "base_uri": "https://localhost:8080/",
          "height": 300
        },
        "id": "FRbCyy70q0zG",
        "outputId": "88527999-28ac-4087-a2a7-fefc3f63b60a"
      },
      "execution_count": 304,
      "outputs": [
        {
          "output_type": "execute_result",
          "data": {
            "text/plain": [
              "   theta  sanpshot1  sanpshot2  sanpshot3  sanpshot4  sanpshot5  sanpshot6  \\\n",
              "0      0   0.000036   0.000041   0.000102   0.000142   0.048602   0.048936   \n",
              "1      1   0.000242   0.048908   0.048209   0.000165   0.000055   0.000036   \n",
              "2      2   0.000160   0.046377   0.000136   0.058347   0.000860   0.048948   \n",
              "3      3   0.040071   0.053506   0.000613   0.000207   0.056684   0.000749   \n",
              "4      4   0.067336   0.000609   0.001195   0.054772   0.001732   0.058968   \n",
              "\n",
              "   sanpshot7  sanpshot8  sanpshot9  ...  sanpshot11  sanpshot12  sanpshot13  \\\n",
              "0   0.051556   0.052656   0.000025  ...    0.000066    0.049989    0.000035   \n",
              "1   0.050384   0.049726   0.050332  ...    0.000148    0.050531    0.047938   \n",
              "2   0.051798   0.000068   0.048072  ...    0.000110    0.058134    0.046259   \n",
              "3   0.000559   0.000169   0.057459  ...    0.001059    0.000246    0.000083   \n",
              "4   0.049906   0.042941   0.048899  ...    0.053252    0.001782    0.001412   \n",
              "\n",
              "   sanpshot14  sanpshot15  sanpshot16  sanpshot17  sanpshot18  sanpshot19  \\\n",
              "0    0.000042    0.000060    0.051490    0.049428    0.000025    0.051649   \n",
              "1    0.047116    0.000017    0.049534    0.046587    0.049571    0.049518   \n",
              "2    0.000089    0.051167    0.049258    0.052145    0.000172    0.000092   \n",
              "3    0.000871    0.048813    0.045224    0.047338    0.000344    0.001140   \n",
              "4    0.051787    0.051349    0.059482    0.001141    0.048767    0.001312   \n",
              "\n",
              "   sanpshot20  \n",
              "0    0.048400  \n",
              "1    0.051270  \n",
              "2    0.000435  \n",
              "3    0.043144  \n",
              "4    0.055870  \n",
              "\n",
              "[5 rows x 21 columns]"
            ],
            "text/html": [
              "\n",
              "\n",
              "  <div id=\"df-9d8dc189-8423-45df-a9a1-1090260d5c53\">\n",
              "    <div class=\"colab-df-container\">\n",
              "      <div>\n",
              "<style scoped>\n",
              "    .dataframe tbody tr th:only-of-type {\n",
              "        vertical-align: middle;\n",
              "    }\n",
              "\n",
              "    .dataframe tbody tr th {\n",
              "        vertical-align: top;\n",
              "    }\n",
              "\n",
              "    .dataframe thead th {\n",
              "        text-align: right;\n",
              "    }\n",
              "</style>\n",
              "<table border=\"1\" class=\"dataframe\">\n",
              "  <thead>\n",
              "    <tr style=\"text-align: right;\">\n",
              "      <th></th>\n",
              "      <th>theta</th>\n",
              "      <th>sanpshot1</th>\n",
              "      <th>sanpshot2</th>\n",
              "      <th>sanpshot3</th>\n",
              "      <th>sanpshot4</th>\n",
              "      <th>sanpshot5</th>\n",
              "      <th>sanpshot6</th>\n",
              "      <th>sanpshot7</th>\n",
              "      <th>sanpshot8</th>\n",
              "      <th>sanpshot9</th>\n",
              "      <th>...</th>\n",
              "      <th>sanpshot11</th>\n",
              "      <th>sanpshot12</th>\n",
              "      <th>sanpshot13</th>\n",
              "      <th>sanpshot14</th>\n",
              "      <th>sanpshot15</th>\n",
              "      <th>sanpshot16</th>\n",
              "      <th>sanpshot17</th>\n",
              "      <th>sanpshot18</th>\n",
              "      <th>sanpshot19</th>\n",
              "      <th>sanpshot20</th>\n",
              "    </tr>\n",
              "  </thead>\n",
              "  <tbody>\n",
              "    <tr>\n",
              "      <th>0</th>\n",
              "      <td>0</td>\n",
              "      <td>0.000036</td>\n",
              "      <td>0.000041</td>\n",
              "      <td>0.000102</td>\n",
              "      <td>0.000142</td>\n",
              "      <td>0.048602</td>\n",
              "      <td>0.048936</td>\n",
              "      <td>0.051556</td>\n",
              "      <td>0.052656</td>\n",
              "      <td>0.000025</td>\n",
              "      <td>...</td>\n",
              "      <td>0.000066</td>\n",
              "      <td>0.049989</td>\n",
              "      <td>0.000035</td>\n",
              "      <td>0.000042</td>\n",
              "      <td>0.000060</td>\n",
              "      <td>0.051490</td>\n",
              "      <td>0.049428</td>\n",
              "      <td>0.000025</td>\n",
              "      <td>0.051649</td>\n",
              "      <td>0.048400</td>\n",
              "    </tr>\n",
              "    <tr>\n",
              "      <th>1</th>\n",
              "      <td>1</td>\n",
              "      <td>0.000242</td>\n",
              "      <td>0.048908</td>\n",
              "      <td>0.048209</td>\n",
              "      <td>0.000165</td>\n",
              "      <td>0.000055</td>\n",
              "      <td>0.000036</td>\n",
              "      <td>0.050384</td>\n",
              "      <td>0.049726</td>\n",
              "      <td>0.050332</td>\n",
              "      <td>...</td>\n",
              "      <td>0.000148</td>\n",
              "      <td>0.050531</td>\n",
              "      <td>0.047938</td>\n",
              "      <td>0.047116</td>\n",
              "      <td>0.000017</td>\n",
              "      <td>0.049534</td>\n",
              "      <td>0.046587</td>\n",
              "      <td>0.049571</td>\n",
              "      <td>0.049518</td>\n",
              "      <td>0.051270</td>\n",
              "    </tr>\n",
              "    <tr>\n",
              "      <th>2</th>\n",
              "      <td>2</td>\n",
              "      <td>0.000160</td>\n",
              "      <td>0.046377</td>\n",
              "      <td>0.000136</td>\n",
              "      <td>0.058347</td>\n",
              "      <td>0.000860</td>\n",
              "      <td>0.048948</td>\n",
              "      <td>0.051798</td>\n",
              "      <td>0.000068</td>\n",
              "      <td>0.048072</td>\n",
              "      <td>...</td>\n",
              "      <td>0.000110</td>\n",
              "      <td>0.058134</td>\n",
              "      <td>0.046259</td>\n",
              "      <td>0.000089</td>\n",
              "      <td>0.051167</td>\n",
              "      <td>0.049258</td>\n",
              "      <td>0.052145</td>\n",
              "      <td>0.000172</td>\n",
              "      <td>0.000092</td>\n",
              "      <td>0.000435</td>\n",
              "    </tr>\n",
              "    <tr>\n",
              "      <th>3</th>\n",
              "      <td>3</td>\n",
              "      <td>0.040071</td>\n",
              "      <td>0.053506</td>\n",
              "      <td>0.000613</td>\n",
              "      <td>0.000207</td>\n",
              "      <td>0.056684</td>\n",
              "      <td>0.000749</td>\n",
              "      <td>0.000559</td>\n",
              "      <td>0.000169</td>\n",
              "      <td>0.057459</td>\n",
              "      <td>...</td>\n",
              "      <td>0.001059</td>\n",
              "      <td>0.000246</td>\n",
              "      <td>0.000083</td>\n",
              "      <td>0.000871</td>\n",
              "      <td>0.048813</td>\n",
              "      <td>0.045224</td>\n",
              "      <td>0.047338</td>\n",
              "      <td>0.000344</td>\n",
              "      <td>0.001140</td>\n",
              "      <td>0.043144</td>\n",
              "    </tr>\n",
              "    <tr>\n",
              "      <th>4</th>\n",
              "      <td>4</td>\n",
              "      <td>0.067336</td>\n",
              "      <td>0.000609</td>\n",
              "      <td>0.001195</td>\n",
              "      <td>0.054772</td>\n",
              "      <td>0.001732</td>\n",
              "      <td>0.058968</td>\n",
              "      <td>0.049906</td>\n",
              "      <td>0.042941</td>\n",
              "      <td>0.048899</td>\n",
              "      <td>...</td>\n",
              "      <td>0.053252</td>\n",
              "      <td>0.001782</td>\n",
              "      <td>0.001412</td>\n",
              "      <td>0.051787</td>\n",
              "      <td>0.051349</td>\n",
              "      <td>0.059482</td>\n",
              "      <td>0.001141</td>\n",
              "      <td>0.048767</td>\n",
              "      <td>0.001312</td>\n",
              "      <td>0.055870</td>\n",
              "    </tr>\n",
              "  </tbody>\n",
              "</table>\n",
              "<p>5 rows × 21 columns</p>\n",
              "</div>\n",
              "      <button class=\"colab-df-convert\" onclick=\"convertToInteractive('df-9d8dc189-8423-45df-a9a1-1090260d5c53')\"\n",
              "              title=\"Convert this dataframe to an interactive table.\"\n",
              "              style=\"display:none;\">\n",
              "\n",
              "  <svg xmlns=\"http://www.w3.org/2000/svg\" height=\"24px\"viewBox=\"0 0 24 24\"\n",
              "       width=\"24px\">\n",
              "    <path d=\"M0 0h24v24H0V0z\" fill=\"none\"/>\n",
              "    <path d=\"M18.56 5.44l.94 2.06.94-2.06 2.06-.94-2.06-.94-.94-2.06-.94 2.06-2.06.94zm-11 1L8.5 8.5l.94-2.06 2.06-.94-2.06-.94L8.5 2.5l-.94 2.06-2.06.94zm10 10l.94 2.06.94-2.06 2.06-.94-2.06-.94-.94-2.06-.94 2.06-2.06.94z\"/><path d=\"M17.41 7.96l-1.37-1.37c-.4-.4-.92-.59-1.43-.59-.52 0-1.04.2-1.43.59L10.3 9.45l-7.72 7.72c-.78.78-.78 2.05 0 2.83L4 21.41c.39.39.9.59 1.41.59.51 0 1.02-.2 1.41-.59l7.78-7.78 2.81-2.81c.8-.78.8-2.07 0-2.86zM5.41 20L4 18.59l7.72-7.72 1.47 1.35L5.41 20z\"/>\n",
              "  </svg>\n",
              "      </button>\n",
              "\n",
              "\n",
              "\n",
              "    <div id=\"df-84955247-2036-410f-ad5f-cd2f9e9f49dd\">\n",
              "      <button class=\"colab-df-quickchart\" onclick=\"quickchart('df-84955247-2036-410f-ad5f-cd2f9e9f49dd')\"\n",
              "              title=\"Suggest charts.\"\n",
              "              style=\"display:none;\">\n",
              "\n",
              "<svg xmlns=\"http://www.w3.org/2000/svg\" height=\"24px\"viewBox=\"0 0 24 24\"\n",
              "     width=\"24px\">\n",
              "    <g>\n",
              "        <path d=\"M19 3H5c-1.1 0-2 .9-2 2v14c0 1.1.9 2 2 2h14c1.1 0 2-.9 2-2V5c0-1.1-.9-2-2-2zM9 17H7v-7h2v7zm4 0h-2V7h2v10zm4 0h-2v-4h2v4z\"/>\n",
              "    </g>\n",
              "</svg>\n",
              "      </button>\n",
              "    </div>\n",
              "\n",
              "<style>\n",
              "  .colab-df-quickchart {\n",
              "    background-color: #E8F0FE;\n",
              "    border: none;\n",
              "    border-radius: 50%;\n",
              "    cursor: pointer;\n",
              "    display: none;\n",
              "    fill: #1967D2;\n",
              "    height: 32px;\n",
              "    padding: 0 0 0 0;\n",
              "    width: 32px;\n",
              "  }\n",
              "\n",
              "  .colab-df-quickchart:hover {\n",
              "    background-color: #E2EBFA;\n",
              "    box-shadow: 0px 1px 2px rgba(60, 64, 67, 0.3), 0px 1px 3px 1px rgba(60, 64, 67, 0.15);\n",
              "    fill: #174EA6;\n",
              "  }\n",
              "\n",
              "  [theme=dark] .colab-df-quickchart {\n",
              "    background-color: #3B4455;\n",
              "    fill: #D2E3FC;\n",
              "  }\n",
              "\n",
              "  [theme=dark] .colab-df-quickchart:hover {\n",
              "    background-color: #434B5C;\n",
              "    box-shadow: 0px 1px 3px 1px rgba(0, 0, 0, 0.15);\n",
              "    filter: drop-shadow(0px 1px 2px rgba(0, 0, 0, 0.3));\n",
              "    fill: #FFFFFF;\n",
              "  }\n",
              "</style>\n",
              "\n",
              "    <script>\n",
              "      async function quickchart(key) {\n",
              "        const containerElement = document.querySelector('#' + key);\n",
              "        const charts = await google.colab.kernel.invokeFunction(\n",
              "            'suggestCharts', [key], {});\n",
              "      }\n",
              "    </script>\n",
              "\n",
              "      <script>\n",
              "\n",
              "function displayQuickchartButton(domScope) {\n",
              "  let quickchartButtonEl =\n",
              "    domScope.querySelector('#df-84955247-2036-410f-ad5f-cd2f9e9f49dd button.colab-df-quickchart');\n",
              "  quickchartButtonEl.style.display =\n",
              "    google.colab.kernel.accessAllowed ? 'block' : 'none';\n",
              "}\n",
              "\n",
              "        displayQuickchartButton(document);\n",
              "      </script>\n",
              "      <style>\n",
              "    .colab-df-container {\n",
              "      display:flex;\n",
              "      flex-wrap:wrap;\n",
              "      gap: 12px;\n",
              "    }\n",
              "\n",
              "    .colab-df-convert {\n",
              "      background-color: #E8F0FE;\n",
              "      border: none;\n",
              "      border-radius: 50%;\n",
              "      cursor: pointer;\n",
              "      display: none;\n",
              "      fill: #1967D2;\n",
              "      height: 32px;\n",
              "      padding: 0 0 0 0;\n",
              "      width: 32px;\n",
              "    }\n",
              "\n",
              "    .colab-df-convert:hover {\n",
              "      background-color: #E2EBFA;\n",
              "      box-shadow: 0px 1px 2px rgba(60, 64, 67, 0.3), 0px 1px 3px 1px rgba(60, 64, 67, 0.15);\n",
              "      fill: #174EA6;\n",
              "    }\n",
              "\n",
              "    [theme=dark] .colab-df-convert {\n",
              "      background-color: #3B4455;\n",
              "      fill: #D2E3FC;\n",
              "    }\n",
              "\n",
              "    [theme=dark] .colab-df-convert:hover {\n",
              "      background-color: #434B5C;\n",
              "      box-shadow: 0px 1px 3px 1px rgba(0, 0, 0, 0.15);\n",
              "      filter: drop-shadow(0px 1px 2px rgba(0, 0, 0, 0.3));\n",
              "      fill: #FFFFFF;\n",
              "    }\n",
              "  </style>\n",
              "\n",
              "      <script>\n",
              "        const buttonEl =\n",
              "          document.querySelector('#df-9d8dc189-8423-45df-a9a1-1090260d5c53 button.colab-df-convert');\n",
              "        buttonEl.style.display =\n",
              "          google.colab.kernel.accessAllowed ? 'block' : 'none';\n",
              "\n",
              "        async function convertToInteractive(key) {\n",
              "          const element = document.querySelector('#df-9d8dc189-8423-45df-a9a1-1090260d5c53');\n",
              "          const dataTable =\n",
              "            await google.colab.kernel.invokeFunction('convertToInteractive',\n",
              "                                                     [key], {});\n",
              "          if (!dataTable) return;\n",
              "\n",
              "          const docLinkHtml = 'Like what you see? Visit the ' +\n",
              "            '<a target=\"_blank\" href=https://colab.research.google.com/notebooks/data_table.ipynb>data table notebook</a>'\n",
              "            + ' to learn more about interactive tables.';\n",
              "          element.innerHTML = '';\n",
              "          dataTable['output_type'] = 'display_data';\n",
              "          await google.colab.output.renderOutput(dataTable, element);\n",
              "          const docLink = document.createElement('div');\n",
              "          docLink.innerHTML = docLinkHtml;\n",
              "          element.appendChild(docLink);\n",
              "        }\n",
              "      </script>\n",
              "    </div>\n",
              "  </div>\n"
            ]
          },
          "metadata": {},
          "execution_count": 304
        }
      ]
    },
    {
      "cell_type": "code",
      "source": [
        "df.isnull().sum()"
      ],
      "metadata": {
        "colab": {
          "base_uri": "https://localhost:8080/"
        },
        "id": "RRdRXeYIq2pu",
        "outputId": "c0e49088-2b03-40e7-f9ba-8172a5e798d5"
      },
      "execution_count": 305,
      "outputs": [
        {
          "output_type": "execute_result",
          "data": {
            "text/plain": [
              "theta         0\n",
              "sanpshot1     0\n",
              "sanpshot2     0\n",
              "sanpshot3     0\n",
              "sanpshot4     0\n",
              "sanpshot5     0\n",
              "sanpshot6     0\n",
              "sanpshot7     0\n",
              "sanpshot8     0\n",
              "sanpshot9     0\n",
              "sanpshot10    0\n",
              "sanpshot11    0\n",
              "sanpshot12    0\n",
              "sanpshot13    0\n",
              "sanpshot14    0\n",
              "sanpshot15    0\n",
              "sanpshot16    0\n",
              "sanpshot17    0\n",
              "sanpshot18    0\n",
              "sanpshot19    0\n",
              "sanpshot20    0\n",
              "dtype: int64"
            ]
          },
          "metadata": {},
          "execution_count": 305
        }
      ]
    },
    {
      "cell_type": "code",
      "source": [
        "y=df[\"theta\"]"
      ],
      "metadata": {
        "id": "PkqAkTgCsSec"
      },
      "execution_count": 306,
      "outputs": []
    },
    {
      "cell_type": "code",
      "source": [
        "x=df.drop(\"theta\",axis=1)"
      ],
      "metadata": {
        "id": "gwknfK1pshRB"
      },
      "execution_count": 307,
      "outputs": []
    },
    {
      "cell_type": "code",
      "source": [
        "from sklearn.model_selection import train_test_split\n",
        "x_train, x_test, y_train, y_test = train_test_split(x,y, test_size=0.2, random_state=42)\n",
        "print(x_train.shape)\n",
        "print(x_test.shape)\n",
        "print(y_train.shape)\n",
        "print(y_test.shape)"
      ],
      "metadata": {
        "colab": {
          "base_uri": "https://localhost:8080/"
        },
        "id": "IWdgL_yQsnx3",
        "outputId": "33808ad8-bdae-43f0-aadb-b3cd5414311b"
      },
      "execution_count": 308,
      "outputs": [
        {
          "output_type": "stream",
          "name": "stdout",
          "text": [
            "(144, 20)\n",
            "(37, 20)\n",
            "(144,)\n",
            "(37,)\n"
          ]
        }
      ]
    },
    {
      "cell_type": "code",
      "source": [
        "import math\n",
        "import pandas as pd\n",
        "import tensorflow as tf\n",
        "import matplotlib.pyplot as plt\n",
        "from tensorflow.keras import Model\n",
        "from tensorflow.keras import Sequential\n",
        "from tensorflow.keras.optimizers import Adam\n",
        "from sklearn.preprocessing import StandardScaler\n",
        "from tensorflow.keras.layers import Dense, Dropout\n",
        "from sklearn.model_selection import train_test_split\n",
        "from tensorflow.keras.losses import MeanSquaredLogarithmicError"
      ],
      "metadata": {
        "id": "S-vQuOEXyRtu"
      },
      "execution_count": 309,
      "outputs": []
    },
    {
      "cell_type": "code",
      "source": [
        "!pip install keras-tuner"
      ],
      "metadata": {
        "colab": {
          "base_uri": "https://localhost:8080/"
        },
        "id": "vwSF2Z4n94oF",
        "outputId": "3b3c036b-7204-4812-8f60-26b08390f1c3"
      },
      "execution_count": 246,
      "outputs": [
        {
          "output_type": "stream",
          "name": "stdout",
          "text": [
            "Requirement already satisfied: keras-tuner in /usr/local/lib/python3.10/dist-packages (1.3.5)\n",
            "Requirement already satisfied: packaging in /usr/local/lib/python3.10/dist-packages (from keras-tuner) (23.1)\n",
            "Requirement already satisfied: requests in /usr/local/lib/python3.10/dist-packages (from keras-tuner) (2.31.0)\n",
            "Requirement already satisfied: kt-legacy in /usr/local/lib/python3.10/dist-packages (from keras-tuner) (1.0.5)\n",
            "Requirement already satisfied: charset-normalizer<4,>=2 in /usr/local/lib/python3.10/dist-packages (from requests->keras-tuner) (3.2.0)\n",
            "Requirement already satisfied: idna<4,>=2.5 in /usr/local/lib/python3.10/dist-packages (from requests->keras-tuner) (3.4)\n",
            "Requirement already satisfied: urllib3<3,>=1.21.1 in /usr/local/lib/python3.10/dist-packages (from requests->keras-tuner) (2.0.4)\n",
            "Requirement already satisfied: certifi>=2017.4.17 in /usr/local/lib/python3.10/dist-packages (from requests->keras-tuner) (2023.7.22)\n"
          ]
        }
      ]
    },
    {
      "cell_type": "code",
      "source": [
        "from numpy.random import seed\n",
        "seed(123)\n",
        "\n",
        "import os\n",
        "os.environ['PYTHONHASHSEED']=str(123)\n",
        "\n",
        "import random\n",
        "random.seed(123)\n",
        "\n",
        "import tensorflow as tf\n",
        "tf.random.set_seed(123)"
      ],
      "metadata": {
        "id": "KlCF_CZlH1XJ"
      },
      "execution_count": 310,
      "outputs": []
    },
    {
      "cell_type": "code",
      "source": [
        "\n",
        "import kerastuner as kt\n",
        "msle = MeanSquaredLogarithmicError()\n",
        "\n",
        "\n",
        "def build_model(hp):\n",
        "  model = tf.keras.Sequential()\n",
        "\n",
        "  # Tune the number of units in the first Dense layer\n",
        "  # Choose an optimal value between 32-512\n",
        "  hp_units1 = hp.Int('units1', min_value=32, max_value=512, step=32)\n",
        "  hp_units2 = hp.Int('units2', min_value=32, max_value=512, step=32)\n",
        "  hp_units3 = hp.Int('units3', min_value=32, max_value=512, step=32)\n",
        "  hp_units4 = hp.Int('units4', min_value=32, max_value=512, step=32)\n",
        "  hp_units5 = hp.Int('units5', min_value=32, max_value=512, step=32)\n",
        "  model.add(Dense(units=hp_units1, activation='relu'))\n",
        "  model.add(Dropout(0.5))\n",
        "  model.add(tf.keras.layers.Dense(units=hp_units2, activation='relu'))\n",
        "  model.add(Dropout(0.5))\n",
        "  model.add(tf.keras.layers.Dense(units=hp_units3, activation='relu'))\n",
        "  model.add(Dropout(0.5))\n",
        "  model.add(tf.keras.layers.Dense(units=hp_units4, activation='relu'))\n",
        "  model.add(Dropout(0.5))\n",
        "  model.add(tf.keras.layers.Dense(units=hp_units5, activation='relu'))\n",
        "  model.add(Dropout(0.5))\n",
        "  model.add(Dense(1, kernel_initializer='normal', activation='linear'))\n",
        "\n",
        "  # Tune the learning rate for the optimizer\n",
        "  # Choose an optimal value from 0.01, 0.001, or 0.0001\n",
        "  hp_learning_rate = hp.Choice('learning_rate', values=[1e-2])\n",
        "\n",
        "  model.compile(\n",
        "      optimizer=tf.keras.optimizers.Adam(learning_rate=hp_learning_rate),\n",
        "      loss=msle,\n",
        "      metrics=[msle]\n",
        "  )\n",
        "\n",
        "  return model"
      ],
      "metadata": {
        "id": "fggoVn5Y9lRd"
      },
      "execution_count": 346,
      "outputs": []
    },
    {
      "cell_type": "code",
      "source": [
        "es = EarlyStopping(monitor='val_mean_squared_logarithmic_error', mode='min', verbose=1, patience=200)"
      ],
      "metadata": {
        "id": "cXV4piiIIniO"
      },
      "execution_count": 347,
      "outputs": []
    },
    {
      "cell_type": "code",
      "source": [
        "\n",
        "# train the model\n",
        "history = model.fit(\n",
        "    x_train,\n",
        "    y_train,\n",
        "    epochs=150,\n",
        "    callbacks = [es],\n",
        "    use_multiprocessing = True,\n",
        "    batch_size=64,\n",
        "    validation_split=0.2\n",
        ")\n"
      ],
      "metadata": {
        "colab": {
          "base_uri": "https://localhost:8080/"
        },
        "id": "N4RM7HcLyI79",
        "outputId": "fe07c466-d863-4ff6-ea47-a2c3910fb0f7"
      },
      "execution_count": 348,
      "outputs": [
        {
          "output_type": "stream",
          "name": "stdout",
          "text": [
            "Epoch 1/150\n",
            "2/2 [==============================] - 0s 94ms/step - loss: 0.0205 - mean_squared_logarithmic_error: 0.0202 - val_loss: 0.1187 - val_mean_squared_logarithmic_error: 0.1187\n",
            "Epoch 2/150\n",
            "2/2 [==============================] - 0s 37ms/step - loss: 0.0194 - mean_squared_logarithmic_error: 0.0196 - val_loss: 0.1196 - val_mean_squared_logarithmic_error: 0.1196\n",
            "Epoch 3/150\n",
            "2/2 [==============================] - 0s 39ms/step - loss: 0.0190 - mean_squared_logarithmic_error: 0.0195 - val_loss: 0.1234 - val_mean_squared_logarithmic_error: 0.1234\n",
            "Epoch 4/150\n",
            "2/2 [==============================] - 0s 53ms/step - loss: 0.0145 - mean_squared_logarithmic_error: 0.0144 - val_loss: 0.1259 - val_mean_squared_logarithmic_error: 0.1259\n",
            "Epoch 5/150\n",
            "2/2 [==============================] - 0s 39ms/step - loss: 0.0147 - mean_squared_logarithmic_error: 0.0149 - val_loss: 0.1160 - val_mean_squared_logarithmic_error: 0.1160\n",
            "Epoch 6/150\n",
            "2/2 [==============================] - 0s 42ms/step - loss: 0.0200 - mean_squared_logarithmic_error: 0.0199 - val_loss: 0.1056 - val_mean_squared_logarithmic_error: 0.1056\n",
            "Epoch 7/150\n",
            "2/2 [==============================] - 0s 41ms/step - loss: 0.0198 - mean_squared_logarithmic_error: 0.0195 - val_loss: 0.1151 - val_mean_squared_logarithmic_error: 0.1151\n",
            "Epoch 8/150\n",
            "2/2 [==============================] - 0s 36ms/step - loss: 0.0203 - mean_squared_logarithmic_error: 0.0207 - val_loss: 0.1415 - val_mean_squared_logarithmic_error: 0.1415\n",
            "Epoch 9/150\n",
            "2/2 [==============================] - 0s 67ms/step - loss: 0.0189 - mean_squared_logarithmic_error: 0.0187 - val_loss: 0.1161 - val_mean_squared_logarithmic_error: 0.1161\n",
            "Epoch 10/150\n",
            "2/2 [==============================] - 0s 42ms/step - loss: 0.0161 - mean_squared_logarithmic_error: 0.0163 - val_loss: 0.1057 - val_mean_squared_logarithmic_error: 0.1057\n",
            "Epoch 11/150\n",
            "2/2 [==============================] - 0s 47ms/step - loss: 0.0189 - mean_squared_logarithmic_error: 0.0185 - val_loss: 0.1122 - val_mean_squared_logarithmic_error: 0.1122\n",
            "Epoch 12/150\n",
            "2/2 [==============================] - 0s 58ms/step - loss: 0.0234 - mean_squared_logarithmic_error: 0.0237 - val_loss: 0.1230 - val_mean_squared_logarithmic_error: 0.1230\n",
            "Epoch 13/150\n",
            "2/2 [==============================] - 0s 77ms/step - loss: 0.0238 - mean_squared_logarithmic_error: 0.0232 - val_loss: 0.1045 - val_mean_squared_logarithmic_error: 0.1045\n",
            "Epoch 14/150\n",
            "2/2 [==============================] - 0s 49ms/step - loss: 0.0221 - mean_squared_logarithmic_error: 0.0225 - val_loss: 0.1211 - val_mean_squared_logarithmic_error: 0.1211\n",
            "Epoch 15/150\n",
            "2/2 [==============================] - 0s 61ms/step - loss: 0.0156 - mean_squared_logarithmic_error: 0.0157 - val_loss: 0.1309 - val_mean_squared_logarithmic_error: 0.1309\n",
            "Epoch 16/150\n",
            "2/2 [==============================] - 0s 62ms/step - loss: 0.0201 - mean_squared_logarithmic_error: 0.0195 - val_loss: 0.1100 - val_mean_squared_logarithmic_error: 0.1100\n",
            "Epoch 17/150\n",
            "2/2 [==============================] - 0s 61ms/step - loss: 0.0205 - mean_squared_logarithmic_error: 0.0206 - val_loss: 0.1149 - val_mean_squared_logarithmic_error: 0.1149\n",
            "Epoch 18/150\n",
            "2/2 [==============================] - 0s 44ms/step - loss: 0.0184 - mean_squared_logarithmic_error: 0.0187 - val_loss: 0.1359 - val_mean_squared_logarithmic_error: 0.1359\n",
            "Epoch 19/150\n",
            "2/2 [==============================] - 0s 48ms/step - loss: 0.0206 - mean_squared_logarithmic_error: 0.0208 - val_loss: 0.1212 - val_mean_squared_logarithmic_error: 0.1212\n",
            "Epoch 20/150\n",
            "2/2 [==============================] - 0s 58ms/step - loss: 0.0185 - mean_squared_logarithmic_error: 0.0182 - val_loss: 0.1037 - val_mean_squared_logarithmic_error: 0.1037\n",
            "Epoch 21/150\n",
            "2/2 [==============================] - 0s 45ms/step - loss: 0.0183 - mean_squared_logarithmic_error: 0.0184 - val_loss: 0.1071 - val_mean_squared_logarithmic_error: 0.1071\n",
            "Epoch 22/150\n",
            "2/2 [==============================] - 0s 44ms/step - loss: 0.0197 - mean_squared_logarithmic_error: 0.0197 - val_loss: 0.1132 - val_mean_squared_logarithmic_error: 0.1132\n",
            "Epoch 23/150\n",
            "2/2 [==============================] - 0s 67ms/step - loss: 0.0287 - mean_squared_logarithmic_error: 0.0278 - val_loss: 0.1036 - val_mean_squared_logarithmic_error: 0.1036\n",
            "Epoch 24/150\n",
            "2/2 [==============================] - 0s 48ms/step - loss: 0.0250 - mean_squared_logarithmic_error: 0.0251 - val_loss: 0.1022 - val_mean_squared_logarithmic_error: 0.1022\n",
            "Epoch 25/150\n",
            "2/2 [==============================] - 0s 62ms/step - loss: 0.0176 - mean_squared_logarithmic_error: 0.0178 - val_loss: 0.1302 - val_mean_squared_logarithmic_error: 0.1302\n",
            "Epoch 26/150\n",
            "2/2 [==============================] - 0s 62ms/step - loss: 0.0221 - mean_squared_logarithmic_error: 0.0218 - val_loss: 0.1210 - val_mean_squared_logarithmic_error: 0.1210\n",
            "Epoch 27/150\n",
            "2/2 [==============================] - 0s 41ms/step - loss: 0.0197 - mean_squared_logarithmic_error: 0.0192 - val_loss: 0.1008 - val_mean_squared_logarithmic_error: 0.1008\n",
            "Epoch 28/150\n",
            "2/2 [==============================] - 0s 39ms/step - loss: 0.0228 - mean_squared_logarithmic_error: 0.0233 - val_loss: 0.1110 - val_mean_squared_logarithmic_error: 0.1110\n",
            "Epoch 29/150\n",
            "2/2 [==============================] - 0s 40ms/step - loss: 0.0186 - mean_squared_logarithmic_error: 0.0190 - val_loss: 0.1478 - val_mean_squared_logarithmic_error: 0.1478\n",
            "Epoch 30/150\n",
            "2/2 [==============================] - 0s 41ms/step - loss: 0.0240 - mean_squared_logarithmic_error: 0.0242 - val_loss: 0.1107 - val_mean_squared_logarithmic_error: 0.1107\n",
            "Epoch 31/150\n",
            "2/2 [==============================] - 0s 41ms/step - loss: 0.0316 - mean_squared_logarithmic_error: 0.0327 - val_loss: 0.1112 - val_mean_squared_logarithmic_error: 0.1112\n",
            "Epoch 32/150\n",
            "2/2 [==============================] - 0s 41ms/step - loss: 0.0253 - mean_squared_logarithmic_error: 0.0254 - val_loss: 0.1443 - val_mean_squared_logarithmic_error: 0.1443\n",
            "Epoch 33/150\n",
            "2/2 [==============================] - 0s 39ms/step - loss: 0.0209 - mean_squared_logarithmic_error: 0.0209 - val_loss: 0.1248 - val_mean_squared_logarithmic_error: 0.1248\n",
            "Epoch 34/150\n",
            "2/2 [==============================] - 0s 73ms/step - loss: 0.0206 - mean_squared_logarithmic_error: 0.0204 - val_loss: 0.1027 - val_mean_squared_logarithmic_error: 0.1027\n",
            "Epoch 35/150\n",
            "2/2 [==============================] - 0s 81ms/step - loss: 0.0191 - mean_squared_logarithmic_error: 0.0195 - val_loss: 0.1230 - val_mean_squared_logarithmic_error: 0.1230\n",
            "Epoch 36/150\n",
            "2/2 [==============================] - 0s 55ms/step - loss: 0.0216 - mean_squared_logarithmic_error: 0.0217 - val_loss: 0.1288 - val_mean_squared_logarithmic_error: 0.1288\n",
            "Epoch 37/150\n",
            "2/2 [==============================] - 0s 80ms/step - loss: 0.0211 - mean_squared_logarithmic_error: 0.0211 - val_loss: 0.1009 - val_mean_squared_logarithmic_error: 0.1009\n",
            "Epoch 38/150\n",
            "2/2 [==============================] - 0s 85ms/step - loss: 0.0228 - mean_squared_logarithmic_error: 0.0224 - val_loss: 0.1024 - val_mean_squared_logarithmic_error: 0.1024\n",
            "Epoch 39/150\n",
            "2/2 [==============================] - 0s 63ms/step - loss: 0.0196 - mean_squared_logarithmic_error: 0.0199 - val_loss: 0.1263 - val_mean_squared_logarithmic_error: 0.1263\n",
            "Epoch 40/150\n",
            "2/2 [==============================] - 0s 79ms/step - loss: 0.0206 - mean_squared_logarithmic_error: 0.0206 - val_loss: 0.1000 - val_mean_squared_logarithmic_error: 0.1000\n",
            "Epoch 41/150\n",
            "2/2 [==============================] - 0s 70ms/step - loss: 0.0228 - mean_squared_logarithmic_error: 0.0233 - val_loss: 0.0961 - val_mean_squared_logarithmic_error: 0.0961\n",
            "Epoch 42/150\n",
            "2/2 [==============================] - 0s 63ms/step - loss: 0.0246 - mean_squared_logarithmic_error: 0.0239 - val_loss: 0.1294 - val_mean_squared_logarithmic_error: 0.1294\n",
            "Epoch 43/150\n",
            "2/2 [==============================] - 0s 62ms/step - loss: 0.0229 - mean_squared_logarithmic_error: 0.0234 - val_loss: 0.1174 - val_mean_squared_logarithmic_error: 0.1174\n",
            "Epoch 44/150\n",
            "2/2 [==============================] - 0s 66ms/step - loss: 0.0184 - mean_squared_logarithmic_error: 0.0184 - val_loss: 0.0988 - val_mean_squared_logarithmic_error: 0.0988\n",
            "Epoch 45/150\n",
            "2/2 [==============================] - 0s 85ms/step - loss: 0.0259 - mean_squared_logarithmic_error: 0.0255 - val_loss: 0.1108 - val_mean_squared_logarithmic_error: 0.1108\n",
            "Epoch 46/150\n",
            "2/2 [==============================] - 0s 93ms/step - loss: 0.0227 - mean_squared_logarithmic_error: 0.0230 - val_loss: 0.1371 - val_mean_squared_logarithmic_error: 0.1371\n",
            "Epoch 47/150\n",
            "2/2 [==============================] - 0s 65ms/step - loss: 0.0192 - mean_squared_logarithmic_error: 0.0188 - val_loss: 0.1063 - val_mean_squared_logarithmic_error: 0.1063\n",
            "Epoch 48/150\n",
            "2/2 [==============================] - 0s 81ms/step - loss: 0.0199 - mean_squared_logarithmic_error: 0.0206 - val_loss: 0.1052 - val_mean_squared_logarithmic_error: 0.1052\n",
            "Epoch 49/150\n",
            "2/2 [==============================] - 0s 62ms/step - loss: 0.0207 - mean_squared_logarithmic_error: 0.0201 - val_loss: 0.1472 - val_mean_squared_logarithmic_error: 0.1472\n",
            "Epoch 50/150\n",
            "2/2 [==============================] - 0s 80ms/step - loss: 0.0221 - mean_squared_logarithmic_error: 0.0220 - val_loss: 0.1101 - val_mean_squared_logarithmic_error: 0.1101\n",
            "Epoch 51/150\n",
            "2/2 [==============================] - 0s 72ms/step - loss: 0.0240 - mean_squared_logarithmic_error: 0.0245 - val_loss: 0.1075 - val_mean_squared_logarithmic_error: 0.1075\n",
            "Epoch 52/150\n",
            "2/2 [==============================] - 0s 72ms/step - loss: 0.0137 - mean_squared_logarithmic_error: 0.0137 - val_loss: 0.1224 - val_mean_squared_logarithmic_error: 0.1224\n",
            "Epoch 53/150\n",
            "2/2 [==============================] - 0s 69ms/step - loss: 0.0260 - mean_squared_logarithmic_error: 0.0256 - val_loss: 0.1012 - val_mean_squared_logarithmic_error: 0.1012\n",
            "Epoch 54/150\n",
            "2/2 [==============================] - 0s 71ms/step - loss: 0.0204 - mean_squared_logarithmic_error: 0.0205 - val_loss: 0.1117 - val_mean_squared_logarithmic_error: 0.1117\n",
            "Epoch 55/150\n",
            "2/2 [==============================] - 0s 55ms/step - loss: 0.0219 - mean_squared_logarithmic_error: 0.0218 - val_loss: 0.1165 - val_mean_squared_logarithmic_error: 0.1165\n",
            "Epoch 56/150\n",
            "2/2 [==============================] - 0s 72ms/step - loss: 0.0194 - mean_squared_logarithmic_error: 0.0201 - val_loss: 0.1122 - val_mean_squared_logarithmic_error: 0.1122\n",
            "Epoch 57/150\n",
            "2/2 [==============================] - 0s 56ms/step - loss: 0.0148 - mean_squared_logarithmic_error: 0.0146 - val_loss: 0.1210 - val_mean_squared_logarithmic_error: 0.1210\n",
            "Epoch 58/150\n",
            "2/2 [==============================] - 0s 78ms/step - loss: 0.0177 - mean_squared_logarithmic_error: 0.0181 - val_loss: 0.1193 - val_mean_squared_logarithmic_error: 0.1193\n",
            "Epoch 59/150\n",
            "2/2 [==============================] - 0s 82ms/step - loss: 0.0182 - mean_squared_logarithmic_error: 0.0178 - val_loss: 0.1070 - val_mean_squared_logarithmic_error: 0.1070\n",
            "Epoch 60/150\n",
            "2/2 [==============================] - 0s 63ms/step - loss: 0.0199 - mean_squared_logarithmic_error: 0.0202 - val_loss: 0.0998 - val_mean_squared_logarithmic_error: 0.0998\n",
            "Epoch 61/150\n",
            "2/2 [==============================] - 0s 53ms/step - loss: 0.0163 - mean_squared_logarithmic_error: 0.0162 - val_loss: 0.1174 - val_mean_squared_logarithmic_error: 0.1174\n",
            "Epoch 62/150\n",
            "2/2 [==============================] - 0s 83ms/step - loss: 0.0173 - mean_squared_logarithmic_error: 0.0173 - val_loss: 0.1303 - val_mean_squared_logarithmic_error: 0.1303\n",
            "Epoch 63/150\n",
            "2/2 [==============================] - 0s 57ms/step - loss: 0.0314 - mean_squared_logarithmic_error: 0.0327 - val_loss: 0.1114 - val_mean_squared_logarithmic_error: 0.1114\n",
            "Epoch 64/150\n",
            "2/2 [==============================] - 0s 75ms/step - loss: 0.0189 - mean_squared_logarithmic_error: 0.0185 - val_loss: 0.1178 - val_mean_squared_logarithmic_error: 0.1178\n",
            "Epoch 65/150\n",
            "2/2 [==============================] - 0s 62ms/step - loss: 0.0254 - mean_squared_logarithmic_error: 0.0252 - val_loss: 0.1307 - val_mean_squared_logarithmic_error: 0.1307\n",
            "Epoch 66/150\n",
            "2/2 [==============================] - 0s 61ms/step - loss: 0.0163 - mean_squared_logarithmic_error: 0.0161 - val_loss: 0.1206 - val_mean_squared_logarithmic_error: 0.1206\n",
            "Epoch 67/150\n",
            "2/2 [==============================] - 0s 59ms/step - loss: 0.0177 - mean_squared_logarithmic_error: 0.0171 - val_loss: 0.1212 - val_mean_squared_logarithmic_error: 0.1212\n",
            "Epoch 68/150\n",
            "2/2 [==============================] - 0s 72ms/step - loss: 0.0225 - mean_squared_logarithmic_error: 0.0226 - val_loss: 0.1039 - val_mean_squared_logarithmic_error: 0.1039\n",
            "Epoch 69/150\n",
            "2/2 [==============================] - 0s 58ms/step - loss: 0.0195 - mean_squared_logarithmic_error: 0.0194 - val_loss: 0.0953 - val_mean_squared_logarithmic_error: 0.0953\n",
            "Epoch 70/150\n",
            "2/2 [==============================] - 0s 55ms/step - loss: 0.0192 - mean_squared_logarithmic_error: 0.0186 - val_loss: 0.0997 - val_mean_squared_logarithmic_error: 0.0997\n",
            "Epoch 71/150\n",
            "2/2 [==============================] - 0s 62ms/step - loss: 0.0164 - mean_squared_logarithmic_error: 0.0163 - val_loss: 0.1125 - val_mean_squared_logarithmic_error: 0.1125\n",
            "Epoch 72/150\n",
            "2/2 [==============================] - 0s 77ms/step - loss: 0.0135 - mean_squared_logarithmic_error: 0.0134 - val_loss: 0.1241 - val_mean_squared_logarithmic_error: 0.1241\n",
            "Epoch 73/150\n",
            "2/2 [==============================] - 0s 77ms/step - loss: 0.0170 - mean_squared_logarithmic_error: 0.0168 - val_loss: 0.1108 - val_mean_squared_logarithmic_error: 0.1108\n",
            "Epoch 74/150\n",
            "2/2 [==============================] - 0s 90ms/step - loss: 0.0154 - mean_squared_logarithmic_error: 0.0156 - val_loss: 0.1048 - val_mean_squared_logarithmic_error: 0.1048\n",
            "Epoch 75/150\n",
            "2/2 [==============================] - 0s 59ms/step - loss: 0.0222 - mean_squared_logarithmic_error: 0.0222 - val_loss: 0.1195 - val_mean_squared_logarithmic_error: 0.1195\n",
            "Epoch 76/150\n",
            "2/2 [==============================] - 0s 74ms/step - loss: 0.0203 - mean_squared_logarithmic_error: 0.0201 - val_loss: 0.1266 - val_mean_squared_logarithmic_error: 0.1266\n",
            "Epoch 77/150\n",
            "2/2 [==============================] - 0s 54ms/step - loss: 0.0163 - mean_squared_logarithmic_error: 0.0167 - val_loss: 0.0998 - val_mean_squared_logarithmic_error: 0.0998\n",
            "Epoch 78/150\n",
            "2/2 [==============================] - 0s 70ms/step - loss: 0.0232 - mean_squared_logarithmic_error: 0.0226 - val_loss: 0.0983 - val_mean_squared_logarithmic_error: 0.0983\n",
            "Epoch 79/150\n",
            "2/2 [==============================] - 0s 72ms/step - loss: 0.0216 - mean_squared_logarithmic_error: 0.0213 - val_loss: 0.1326 - val_mean_squared_logarithmic_error: 0.1326\n",
            "Epoch 80/150\n",
            "2/2 [==============================] - 0s 55ms/step - loss: 0.0242 - mean_squared_logarithmic_error: 0.0246 - val_loss: 0.1219 - val_mean_squared_logarithmic_error: 0.1219\n",
            "Epoch 81/150\n",
            "2/2 [==============================] - 0s 67ms/step - loss: 0.0160 - mean_squared_logarithmic_error: 0.0161 - val_loss: 0.1062 - val_mean_squared_logarithmic_error: 0.1062\n",
            "Epoch 82/150\n",
            "2/2 [==============================] - 0s 78ms/step - loss: 0.0161 - mean_squared_logarithmic_error: 0.0159 - val_loss: 0.1090 - val_mean_squared_logarithmic_error: 0.1090\n",
            "Epoch 83/150\n",
            "2/2 [==============================] - 0s 57ms/step - loss: 0.0174 - mean_squared_logarithmic_error: 0.0173 - val_loss: 0.1251 - val_mean_squared_logarithmic_error: 0.1251\n",
            "Epoch 84/150\n",
            "2/2 [==============================] - 0s 75ms/step - loss: 0.0254 - mean_squared_logarithmic_error: 0.0248 - val_loss: 0.0992 - val_mean_squared_logarithmic_error: 0.0992\n",
            "Epoch 85/150\n",
            "2/2 [==============================] - 0s 60ms/step - loss: 0.0169 - mean_squared_logarithmic_error: 0.0170 - val_loss: 0.1143 - val_mean_squared_logarithmic_error: 0.1143\n",
            "Epoch 86/150\n",
            "2/2 [==============================] - 0s 41ms/step - loss: 0.0170 - mean_squared_logarithmic_error: 0.0169 - val_loss: 0.1288 - val_mean_squared_logarithmic_error: 0.1288\n",
            "Epoch 87/150\n",
            "2/2 [==============================] - 0s 39ms/step - loss: 0.0206 - mean_squared_logarithmic_error: 0.0200 - val_loss: 0.1168 - val_mean_squared_logarithmic_error: 0.1168\n",
            "Epoch 88/150\n",
            "2/2 [==============================] - 0s 38ms/step - loss: 0.0154 - mean_squared_logarithmic_error: 0.0152 - val_loss: 0.1071 - val_mean_squared_logarithmic_error: 0.1071\n",
            "Epoch 89/150\n",
            "2/2 [==============================] - 0s 58ms/step - loss: 0.0180 - mean_squared_logarithmic_error: 0.0183 - val_loss: 0.1044 - val_mean_squared_logarithmic_error: 0.1044\n",
            "Epoch 90/150\n",
            "2/2 [==============================] - 0s 40ms/step - loss: 0.0186 - mean_squared_logarithmic_error: 0.0186 - val_loss: 0.1113 - val_mean_squared_logarithmic_error: 0.1113\n",
            "Epoch 91/150\n",
            "2/2 [==============================] - 0s 38ms/step - loss: 0.0181 - mean_squared_logarithmic_error: 0.0177 - val_loss: 0.1119 - val_mean_squared_logarithmic_error: 0.1119\n",
            "Epoch 92/150\n",
            "2/2 [==============================] - 0s 41ms/step - loss: 0.0168 - mean_squared_logarithmic_error: 0.0176 - val_loss: 0.1027 - val_mean_squared_logarithmic_error: 0.1027\n",
            "Epoch 93/150\n",
            "2/2 [==============================] - 0s 40ms/step - loss: 0.0191 - mean_squared_logarithmic_error: 0.0189 - val_loss: 0.1086 - val_mean_squared_logarithmic_error: 0.1086\n",
            "Epoch 94/150\n",
            "2/2 [==============================] - 0s 41ms/step - loss: 0.0160 - mean_squared_logarithmic_error: 0.0164 - val_loss: 0.1159 - val_mean_squared_logarithmic_error: 0.1159\n",
            "Epoch 95/150\n",
            "2/2 [==============================] - 0s 50ms/step - loss: 0.0191 - mean_squared_logarithmic_error: 0.0190 - val_loss: 0.1115 - val_mean_squared_logarithmic_error: 0.1115\n",
            "Epoch 96/150\n",
            "2/2 [==============================] - 0s 38ms/step - loss: 0.0243 - mean_squared_logarithmic_error: 0.0234 - val_loss: 0.1133 - val_mean_squared_logarithmic_error: 0.1133\n",
            "Epoch 97/150\n",
            "2/2 [==============================] - 0s 39ms/step - loss: 0.0269 - mean_squared_logarithmic_error: 0.0282 - val_loss: 0.1225 - val_mean_squared_logarithmic_error: 0.1225\n",
            "Epoch 98/150\n",
            "2/2 [==============================] - 0s 41ms/step - loss: 0.0199 - mean_squared_logarithmic_error: 0.0202 - val_loss: 0.1060 - val_mean_squared_logarithmic_error: 0.1060\n",
            "Epoch 99/150\n",
            "2/2 [==============================] - 0s 38ms/step - loss: 0.0160 - mean_squared_logarithmic_error: 0.0157 - val_loss: 0.1161 - val_mean_squared_logarithmic_error: 0.1161\n",
            "Epoch 100/150\n",
            "2/2 [==============================] - 0s 58ms/step - loss: 0.0218 - mean_squared_logarithmic_error: 0.0221 - val_loss: 0.1256 - val_mean_squared_logarithmic_error: 0.1256\n",
            "Epoch 101/150\n",
            "2/2 [==============================] - 0s 43ms/step - loss: 0.0175 - mean_squared_logarithmic_error: 0.0180 - val_loss: 0.1165 - val_mean_squared_logarithmic_error: 0.1165\n",
            "Epoch 102/150\n",
            "2/2 [==============================] - 0s 70ms/step - loss: 0.0140 - mean_squared_logarithmic_error: 0.0140 - val_loss: 0.1156 - val_mean_squared_logarithmic_error: 0.1156\n",
            "Epoch 103/150\n",
            "2/2 [==============================] - 0s 45ms/step - loss: 0.0179 - mean_squared_logarithmic_error: 0.0175 - val_loss: 0.1059 - val_mean_squared_logarithmic_error: 0.1059\n",
            "Epoch 104/150\n",
            "2/2 [==============================] - 0s 62ms/step - loss: 0.0196 - mean_squared_logarithmic_error: 0.0190 - val_loss: 0.1338 - val_mean_squared_logarithmic_error: 0.1338\n",
            "Epoch 105/150\n",
            "2/2 [==============================] - 0s 45ms/step - loss: 0.0183 - mean_squared_logarithmic_error: 0.0192 - val_loss: 0.1344 - val_mean_squared_logarithmic_error: 0.1344\n",
            "Epoch 106/150\n",
            "2/2 [==============================] - 0s 62ms/step - loss: 0.0171 - mean_squared_logarithmic_error: 0.0164 - val_loss: 0.1036 - val_mean_squared_logarithmic_error: 0.1036\n",
            "Epoch 107/150\n",
            "2/2 [==============================] - 0s 53ms/step - loss: 0.0204 - mean_squared_logarithmic_error: 0.0207 - val_loss: 0.1090 - val_mean_squared_logarithmic_error: 0.1090\n",
            "Epoch 108/150\n",
            "2/2 [==============================] - 0s 57ms/step - loss: 0.0198 - mean_squared_logarithmic_error: 0.0196 - val_loss: 0.1259 - val_mean_squared_logarithmic_error: 0.1259\n",
            "Epoch 109/150\n",
            "2/2 [==============================] - 0s 42ms/step - loss: 0.0179 - mean_squared_logarithmic_error: 0.0178 - val_loss: 0.0978 - val_mean_squared_logarithmic_error: 0.0978\n",
            "Epoch 110/150\n",
            "2/2 [==============================] - 0s 52ms/step - loss: 0.0193 - mean_squared_logarithmic_error: 0.0192 - val_loss: 0.1125 - val_mean_squared_logarithmic_error: 0.1125\n",
            "Epoch 111/150\n",
            "2/2 [==============================] - 0s 41ms/step - loss: 0.0264 - mean_squared_logarithmic_error: 0.0255 - val_loss: 0.1233 - val_mean_squared_logarithmic_error: 0.1233\n",
            "Epoch 112/150\n",
            "2/2 [==============================] - 0s 47ms/step - loss: 0.0188 - mean_squared_logarithmic_error: 0.0190 - val_loss: 0.1106 - val_mean_squared_logarithmic_error: 0.1106\n",
            "Epoch 113/150\n",
            "2/2 [==============================] - 0s 48ms/step - loss: 0.0157 - mean_squared_logarithmic_error: 0.0159 - val_loss: 0.1337 - val_mean_squared_logarithmic_error: 0.1337\n",
            "Epoch 114/150\n",
            "2/2 [==============================] - 0s 45ms/step - loss: 0.0224 - mean_squared_logarithmic_error: 0.0224 - val_loss: 0.1141 - val_mean_squared_logarithmic_error: 0.1141\n",
            "Epoch 115/150\n",
            "2/2 [==============================] - 0s 46ms/step - loss: 0.0174 - mean_squared_logarithmic_error: 0.0176 - val_loss: 0.0984 - val_mean_squared_logarithmic_error: 0.0984\n",
            "Epoch 116/150\n",
            "2/2 [==============================] - 0s 43ms/step - loss: 0.0153 - mean_squared_logarithmic_error: 0.0150 - val_loss: 0.1184 - val_mean_squared_logarithmic_error: 0.1184\n",
            "Epoch 117/150\n",
            "2/2 [==============================] - 0s 49ms/step - loss: 0.0152 - mean_squared_logarithmic_error: 0.0150 - val_loss: 0.1387 - val_mean_squared_logarithmic_error: 0.1387\n",
            "Epoch 118/150\n",
            "2/2 [==============================] - 0s 40ms/step - loss: 0.0191 - mean_squared_logarithmic_error: 0.0188 - val_loss: 0.1098 - val_mean_squared_logarithmic_error: 0.1098\n",
            "Epoch 119/150\n",
            "2/2 [==============================] - 0s 44ms/step - loss: 0.0181 - mean_squared_logarithmic_error: 0.0178 - val_loss: 0.1053 - val_mean_squared_logarithmic_error: 0.1053\n",
            "Epoch 120/150\n",
            "2/2 [==============================] - 0s 41ms/step - loss: 0.0171 - mean_squared_logarithmic_error: 0.0168 - val_loss: 0.1193 - val_mean_squared_logarithmic_error: 0.1193\n",
            "Epoch 121/150\n",
            "2/2 [==============================] - 0s 41ms/step - loss: 0.0160 - mean_squared_logarithmic_error: 0.0160 - val_loss: 0.1203 - val_mean_squared_logarithmic_error: 0.1203\n",
            "Epoch 122/150\n",
            "2/2 [==============================] - 0s 40ms/step - loss: 0.0209 - mean_squared_logarithmic_error: 0.0220 - val_loss: 0.1303 - val_mean_squared_logarithmic_error: 0.1303\n",
            "Epoch 123/150\n",
            "2/2 [==============================] - 0s 43ms/step - loss: 0.0161 - mean_squared_logarithmic_error: 0.0163 - val_loss: 0.1139 - val_mean_squared_logarithmic_error: 0.1139\n",
            "Epoch 124/150\n",
            "2/2 [==============================] - 0s 42ms/step - loss: 0.0199 - mean_squared_logarithmic_error: 0.0199 - val_loss: 0.1069 - val_mean_squared_logarithmic_error: 0.1069\n",
            "Epoch 125/150\n",
            "2/2 [==============================] - 0s 40ms/step - loss: 0.0167 - mean_squared_logarithmic_error: 0.0170 - val_loss: 0.1285 - val_mean_squared_logarithmic_error: 0.1285\n",
            "Epoch 126/150\n",
            "2/2 [==============================] - 0s 61ms/step - loss: 0.0180 - mean_squared_logarithmic_error: 0.0174 - val_loss: 0.1329 - val_mean_squared_logarithmic_error: 0.1329\n",
            "Epoch 127/150\n",
            "2/2 [==============================] - 0s 44ms/step - loss: 0.0138 - mean_squared_logarithmic_error: 0.0138 - val_loss: 0.1255 - val_mean_squared_logarithmic_error: 0.1255\n",
            "Epoch 128/150\n",
            "2/2 [==============================] - 0s 42ms/step - loss: 0.0208 - mean_squared_logarithmic_error: 0.0206 - val_loss: 0.1112 - val_mean_squared_logarithmic_error: 0.1112\n",
            "Epoch 129/150\n",
            "2/2 [==============================] - 0s 40ms/step - loss: 0.0168 - mean_squared_logarithmic_error: 0.0166 - val_loss: 0.1240 - val_mean_squared_logarithmic_error: 0.1240\n",
            "Epoch 130/150\n",
            "2/2 [==============================] - 0s 41ms/step - loss: 0.0283 - mean_squared_logarithmic_error: 0.0293 - val_loss: 0.1253 - val_mean_squared_logarithmic_error: 0.1253\n",
            "Epoch 131/150\n",
            "2/2 [==============================] - 0s 41ms/step - loss: 0.0145 - mean_squared_logarithmic_error: 0.0144 - val_loss: 0.1233 - val_mean_squared_logarithmic_error: 0.1233\n",
            "Epoch 132/150\n",
            "2/2 [==============================] - 0s 41ms/step - loss: 0.0138 - mean_squared_logarithmic_error: 0.0141 - val_loss: 0.1285 - val_mean_squared_logarithmic_error: 0.1285\n",
            "Epoch 133/150\n",
            "2/2 [==============================] - 0s 41ms/step - loss: 0.0161 - mean_squared_logarithmic_error: 0.0160 - val_loss: 0.1175 - val_mean_squared_logarithmic_error: 0.1175\n",
            "Epoch 134/150\n",
            "2/2 [==============================] - 0s 48ms/step - loss: 0.0236 - mean_squared_logarithmic_error: 0.0233 - val_loss: 0.1192 - val_mean_squared_logarithmic_error: 0.1192\n",
            "Epoch 135/150\n",
            "2/2 [==============================] - 0s 57ms/step - loss: 0.0260 - mean_squared_logarithmic_error: 0.0249 - val_loss: 0.1386 - val_mean_squared_logarithmic_error: 0.1386\n",
            "Epoch 136/150\n",
            "2/2 [==============================] - 0s 41ms/step - loss: 0.0193 - mean_squared_logarithmic_error: 0.0191 - val_loss: 0.1325 - val_mean_squared_logarithmic_error: 0.1325\n",
            "Epoch 137/150\n",
            "2/2 [==============================] - 0s 41ms/step - loss: 0.0185 - mean_squared_logarithmic_error: 0.0183 - val_loss: 0.1078 - val_mean_squared_logarithmic_error: 0.1078\n",
            "Epoch 138/150\n",
            "2/2 [==============================] - 0s 41ms/step - loss: 0.0189 - mean_squared_logarithmic_error: 0.0186 - val_loss: 0.1291 - val_mean_squared_logarithmic_error: 0.1291\n",
            "Epoch 139/150\n",
            "2/2 [==============================] - 0s 41ms/step - loss: 0.0183 - mean_squared_logarithmic_error: 0.0179 - val_loss: 0.1455 - val_mean_squared_logarithmic_error: 0.1455\n",
            "Epoch 140/150\n",
            "2/2 [==============================] - 0s 44ms/step - loss: 0.0176 - mean_squared_logarithmic_error: 0.0177 - val_loss: 0.1142 - val_mean_squared_logarithmic_error: 0.1142\n",
            "Epoch 141/150\n",
            "2/2 [==============================] - 0s 45ms/step - loss: 0.0193 - mean_squared_logarithmic_error: 0.0194 - val_loss: 0.1084 - val_mean_squared_logarithmic_error: 0.1084\n",
            "Epoch 142/150\n",
            "2/2 [==============================] - 0s 61ms/step - loss: 0.0220 - mean_squared_logarithmic_error: 0.0218 - val_loss: 0.1720 - val_mean_squared_logarithmic_error: 0.1720\n",
            "Epoch 143/150\n",
            "2/2 [==============================] - 0s 61ms/step - loss: 0.0283 - mean_squared_logarithmic_error: 0.0279 - val_loss: 0.1160 - val_mean_squared_logarithmic_error: 0.1160\n",
            "Epoch 144/150\n",
            "2/2 [==============================] - 0s 44ms/step - loss: 0.0214 - mean_squared_logarithmic_error: 0.0218 - val_loss: 0.1094 - val_mean_squared_logarithmic_error: 0.1094\n",
            "Epoch 145/150\n",
            "2/2 [==============================] - 0s 59ms/step - loss: 0.0172 - mean_squared_logarithmic_error: 0.0173 - val_loss: 0.1418 - val_mean_squared_logarithmic_error: 0.1418\n",
            "Epoch 146/150\n",
            "2/2 [==============================] - 0s 61ms/step - loss: 0.0195 - mean_squared_logarithmic_error: 0.0194 - val_loss: 0.1238 - val_mean_squared_logarithmic_error: 0.1238\n",
            "Epoch 147/150\n",
            "2/2 [==============================] - 0s 47ms/step - loss: 0.0203 - mean_squared_logarithmic_error: 0.0212 - val_loss: 0.1072 - val_mean_squared_logarithmic_error: 0.1072\n",
            "Epoch 148/150\n",
            "2/2 [==============================] - 0s 64ms/step - loss: 0.0248 - mean_squared_logarithmic_error: 0.0240 - val_loss: 0.1318 - val_mean_squared_logarithmic_error: 0.1318\n",
            "Epoch 149/150\n",
            "2/2 [==============================] - 0s 46ms/step - loss: 0.0214 - mean_squared_logarithmic_error: 0.0213 - val_loss: 0.1225 - val_mean_squared_logarithmic_error: 0.1225\n",
            "Epoch 150/150\n",
            "2/2 [==============================] - 0s 47ms/step - loss: 0.0226 - mean_squared_logarithmic_error: 0.0230 - val_loss: 0.0985 - val_mean_squared_logarithmic_error: 0.0985\n"
          ]
        }
      ]
    },
    {
      "cell_type": "code",
      "source": [
        "predictions = model.predict(x_test)"
      ],
      "metadata": {
        "colab": {
          "base_uri": "https://localhost:8080/"
        },
        "id": "NWII-TKCtXVK",
        "outputId": "fedaa77b-dc39-4e34-baa6-34a8e1dcf9f6"
      },
      "execution_count": 349,
      "outputs": [
        {
          "output_type": "stream",
          "name": "stdout",
          "text": [
            "2/2 [==============================] - 0s 6ms/step\n"
          ]
        }
      ]
    },
    {
      "cell_type": "code",
      "source": [
        "predictions"
      ],
      "metadata": {
        "colab": {
          "base_uri": "https://localhost:8080/"
        },
        "id": "ZBgQVa4-wBn1",
        "outputId": "26964501-e7c7-4227-8368-c9ddd3d95b2c"
      },
      "execution_count": 350,
      "outputs": [
        {
          "output_type": "execute_result",
          "data": {
            "text/plain": [
              "array([[  9.022807 ],\n",
              "       [ 44.51739  ],\n",
              "       [151.84729  ],\n",
              "       [ 69.65593  ],\n",
              "       [128.14563  ],\n",
              "       [  6.318913 ],\n",
              "       [ 13.18293  ],\n",
              "       [ 57.38609  ],\n",
              "       [ 88.36048  ],\n",
              "       [120.113945 ],\n",
              "       [ 84.80496  ],\n",
              "       [135.96954  ],\n",
              "       [ 59.922146 ],\n",
              "       [114.26043  ],\n",
              "       [ 38.500446 ],\n",
              "       [  6.6842246],\n",
              "       [ 43.397976 ],\n",
              "       [106.11813  ],\n",
              "       [ 79.78932  ],\n",
              "       [ 41.60517  ],\n",
              "       [ 84.257484 ],\n",
              "       [113.97765  ],\n",
              "       [119.02117  ],\n",
              "       [ 18.940866 ],\n",
              "       [ 12.28434  ],\n",
              "       [141.103    ],\n",
              "       [ 69.37     ],\n",
              "       [ 10.704076 ],\n",
              "       [113.6367   ],\n",
              "       [135.53868  ],\n",
              "       [ 83.54333  ],\n",
              "       [ 45.88101  ],\n",
              "       [104.99633  ],\n",
              "       [ 97.08309  ],\n",
              "       [ 57.16882  ],\n",
              "       [ 27.446781 ],\n",
              "       [104.78179  ]], dtype=float32)"
            ]
          },
          "metadata": {},
          "execution_count": 350
        }
      ]
    },
    {
      "cell_type": "code",
      "source": [
        "import matplotlib.pyplot as plt\n",
        "\n"
      ],
      "metadata": {
        "id": "wJkPIbXi3L18"
      },
      "execution_count": 351,
      "outputs": []
    },
    {
      "cell_type": "code",
      "source": [
        "print(history.history.keys())\n",
        "plt.plot(history.history['loss'])\n",
        "plt.plot(history.history['val_loss'])\n",
        "\n",
        "plt.title('Model Loss Progression During Training/Validation')\n",
        "plt.ylabel('Training and Validation Losses')\n",
        "plt.xlabel('Epoch Number')\n",
        "plt.legend(['Training Loss', 'Validation Loss'])"
      ],
      "metadata": {
        "colab": {
          "base_uri": "https://localhost:8080/",
          "height": 507
        },
        "id": "l7Qd4Jyt5Ulh",
        "outputId": "5280106d-e0c7-4e2e-cda8-0ddfcfe369c8"
      },
      "execution_count": 352,
      "outputs": [
        {
          "output_type": "stream",
          "name": "stdout",
          "text": [
            "dict_keys(['loss', 'mean_squared_logarithmic_error', 'val_loss', 'val_mean_squared_logarithmic_error'])\n"
          ]
        },
        {
          "output_type": "execute_result",
          "data": {
            "text/plain": [
              "<matplotlib.legend.Legend at 0x7cc226b4fe80>"
            ]
          },
          "metadata": {},
          "execution_count": 352
        },
        {
          "output_type": "display_data",
          "data": {
            "text/plain": [
              "<Figure size 640x480 with 1 Axes>"
            ],
            "image/png": "[encoded data removed]"
          },
          "metadata": {}
        }
      ]
    },
    {
      "cell_type": "code",
      "source": [
        "plt.scatter(y_test,predictions)\n",
        "plt.xlabel(\"Real Values\")\n",
        "plt.ylabel(\"predicted values\")"
      ],
      "metadata": {
        "colab": {
          "base_uri": "https://localhost:8080/",
          "height": 466
        },
        "id": "jjQyWofs58HW",
        "outputId": "326bfbb4-e234-49a1-fdae-877266e3e434"
      },
      "execution_count": 355,
      "outputs": [
        {
          "output_type": "execute_result",
          "data": {
            "text/plain": [
              "Text(0, 0.5, 'predicted values')"
            ]
          },
          "metadata": {},
          "execution_count": 355
        },
        {
          "output_type": "display_data",
          "data": {
            "text/plain": [
              "<Figure size 640x480 with 1 Axes>"
            ],
            "image/png": "[encoded data removed]"
          },
          "metadata": {}
        }
      ]
    },
    {
      "cell_type": "code",
      "source": [
        "from sklearn.metrics import r2_score\n",
        "score = r2_score(y_test,predictions)\n",
        "print(\"The accuracy of our model is {}%\".format(round(score, 2) *100))"
      ],
      "metadata": {
        "colab": {
          "base_uri": "https://localhost:8080/"
        },
        "id": "W9JCZKOA7ydg",
        "outputId": "f82fe0e1-4b90-4976-8016-e85db35da635"
      },
      "execution_count": 356,
      "outputs": [
        {
          "output_type": "stream",
          "name": "stdout",
          "text": [
            "The accuracy of our model is 88.0%\n"
          ]
        }
      ]
    },
    {
      "cell_type": "code",
      "source": [
        "from sklearn.metrics import mean_absolute_error\n",
        "score = mean_absolute_error(y_test,predictions)\n",
        "print(\"The Mean Absolute Error of our Model is {}%\".format(round(score, 2)))"
      ],
      "metadata": {
        "colab": {
          "base_uri": "https://localhost:8080/"
        },
        "id": "_cSA8Za6BA35",
        "outputId": "6e23ba7d-ca85-47cb-e507-fd9ddabaea14"
      },
      "execution_count": 357,
      "outputs": [
        {
          "output_type": "stream",
          "name": "stdout",
          "text": [
            "The Mean Absolute Error of our Model is 14.44%\n"
          ]
        }
      ]
    },
    {
      "cell_type": "code",
      "source": [],
      "metadata": {
        "id": "eZVe5GgTBL8F"
      },
      "execution_count": null,
      "outputs": []
    }
  ]
}