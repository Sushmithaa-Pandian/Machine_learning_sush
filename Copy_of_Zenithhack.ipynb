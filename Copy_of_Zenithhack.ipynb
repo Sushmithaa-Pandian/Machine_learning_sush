{
  "nbformat": 4,
  "nbformat_minor": 0,
  "metadata": {
    "colab": {
      "provenance": [],
      "gpuType": "T4",
      "include_colab_link": true
    },
    "kernelspec": {
      "name": "python3",
      "display_name": "Python 3"
    },
    "language_info": {
      "name": "python"
    },
    "accelerator": "GPU",
    "gpuClass": "standard"
  },
  "cells": [
    {
      "cell_type": "markdown",
      "metadata": {
        "id": "view-in-github",
        "colab_type": "text"
      },
      "source": [
        "<a href=\"https://colab.research.google.com/github/Sushmithaa-Pandian/Machine_learning_sush/blob/main/Copy_of_Zenithhack.ipynb\" target=\"_parent\"><img src=\"https://colab.research.google.com/assets/colab-badge.svg\" alt=\"Open In Colab\"/></a>"
      ]
    },
    {
      "cell_type": "code",
      "source": [
        "from google.colab import files\n",
        "uploaded=files.upload()"
      ],
      "metadata": {
        "id": "jSmp2mLEk9Hr",
        "colab": {
          "base_uri": "https://localhost:8080/",
          "height": 73
        },
        "outputId": "e00f7f4d-e102-4c83-fee5-141bd029af42"
      },
      "execution_count": null,
      "outputs": [
        {
          "output_type": "display_data",
          "data": {
            "text/plain": [
              "<IPython.core.display.HTML object>"
            ],
            "text/html": [
              "\n",
              "     <input type=\"file\" id=\"files-736dde56-be5b-4d05-b436-b72386bca8bd\" name=\"files[]\" multiple disabled\n",
              "        style=\"border:none\" />\n",
              "     <output id=\"result-736dde56-be5b-4d05-b436-b72386bca8bd\">\n",
              "      Upload widget is only available when the cell has been executed in the\n",
              "      current browser session. Please rerun this cell to enable.\n",
              "      </output>\n",
              "      <script>// Copyright 2017 Google LLC\n",
              "//\n",
              "// Licensed under the Apache License, Version 2.0 (the \"License\");\n",
              "// you may not use this file except in compliance with the License.\n",
              "// You may obtain a copy of the License at\n",
              "//\n",
              "//      http://www.apache.org/licenses/LICENSE-2.0\n",
              "//\n",
              "// Unless required by applicable law or agreed to in writing, software\n",
              "// distributed under the License is distributed on an \"AS IS\" BASIS,\n",
              "// WITHOUT WARRANTIES OR CONDITIONS OF ANY KIND, either express or implied.\n",
              "// See the License for the specific language governing permissions and\n",
              "// limitations under the License.\n",
              "\n",
              "/**\n",
              " * @fileoverview Helpers for google.colab Python module.\n",
              " */\n",
              "(function(scope) {\n",
              "function span(text, styleAttributes = {}) {\n",
              "  const element = document.createElement('span');\n",
              "  element.textContent = text;\n",
              "  for (const key of Object.keys(styleAttributes)) {\n",
              "    element.style[key] = styleAttributes[key];\n",
              "  }\n",
              "  return element;\n",
              "}\n",
              "\n",
              "// Max number of bytes which will be uploaded at a time.\n",
              "const MAX_PAYLOAD_SIZE = 100 * 1024;\n",
              "\n",
              "function _uploadFiles(inputId, outputId) {\n",
              "  const steps = uploadFilesStep(inputId, outputId);\n",
              "  const outputElement = document.getElementById(outputId);\n",
              "  // Cache steps on the outputElement to make it available for the next call\n",
              "  // to uploadFilesContinue from Python.\n",
              "  outputElement.steps = steps;\n",
              "\n",
              "  return _uploadFilesContinue(outputId);\n",
              "}\n",
              "\n",
              "// This is roughly an async generator (not supported in the browser yet),\n",
              "// where there are multiple asynchronous steps and the Python side is going\n",
              "// to poll for completion of each step.\n",
              "// This uses a Promise to block the python side on completion of each step,\n",
              "// then passes the result of the previous step as the input to the next step.\n",
              "function _uploadFilesContinue(outputId) {\n",
              "  const outputElement = document.getElementById(outputId);\n",
              "  const steps = outputElement.steps;\n",
              "\n",
              "  const next = steps.next(outputElement.lastPromiseValue);\n",
              "  return Promise.resolve(next.value.promise).then((value) => {\n",
              "    // Cache the last promise value to make it available to the next\n",
              "    // step of the generator.\n",
              "    outputElement.lastPromiseValue = value;\n",
              "    return next.value.response;\n",
              "  });\n",
              "}\n",
              "\n",
              "/**\n",
              " * Generator function which is called between each async step of the upload\n",
              " * process.\n",
              " * @param {string} inputId Element ID of the input file picker element.\n",
              " * @param {string} outputId Element ID of the output display.\n",
              " * @return {!Iterable<!Object>} Iterable of next steps.\n",
              " */\n",
              "function* uploadFilesStep(inputId, outputId) {\n",
              "  const inputElement = document.getElementById(inputId);\n",
              "  inputElement.disabled = false;\n",
              "\n",
              "  const outputElement = document.getElementById(outputId);\n",
              "  outputElement.innerHTML = '';\n",
              "\n",
              "  const pickedPromise = new Promise((resolve) => {\n",
              "    inputElement.addEventListener('change', (e) => {\n",
              "      resolve(e.target.files);\n",
              "    });\n",
              "  });\n",
              "\n",
              "  const cancel = document.createElement('button');\n",
              "  inputElement.parentElement.appendChild(cancel);\n",
              "  cancel.textContent = 'Cancel upload';\n",
              "  const cancelPromise = new Promise((resolve) => {\n",
              "    cancel.onclick = () => {\n",
              "      resolve(null);\n",
              "    };\n",
              "  });\n",
              "\n",
              "  // Wait for the user to pick the files.\n",
              "  const files = yield {\n",
              "    promise: Promise.race([pickedPromise, cancelPromise]),\n",
              "    response: {\n",
              "      action: 'starting',\n",
              "    }\n",
              "  };\n",
              "\n",
              "  cancel.remove();\n",
              "\n",
              "  // Disable the input element since further picks are not allowed.\n",
              "  inputElement.disabled = true;\n",
              "\n",
              "  if (!files) {\n",
              "    return {\n",
              "      response: {\n",
              "        action: 'complete',\n",
              "      }\n",
              "    };\n",
              "  }\n",
              "\n",
              "  for (const file of files) {\n",
              "    const li = document.createElement('li');\n",
              "    li.append(span(file.name, {fontWeight: 'bold'}));\n",
              "    li.append(span(\n",
              "        `(${file.type || 'n/a'}) - ${file.size} bytes, ` +\n",
              "        `last modified: ${\n",
              "            file.lastModifiedDate ? file.lastModifiedDate.toLocaleDateString() :\n",
              "                                    'n/a'} - `));\n",
              "    const percent = span('0% done');\n",
              "    li.appendChild(percent);\n",
              "\n",
              "    outputElement.appendChild(li);\n",
              "\n",
              "    const fileDataPromise = new Promise((resolve) => {\n",
              "      const reader = new FileReader();\n",
              "      reader.onload = (e) => {\n",
              "        resolve(e.target.result);\n",
              "      };\n",
              "      reader.readAsArrayBuffer(file);\n",
              "    });\n",
              "    // Wait for the data to be ready.\n",
              "    let fileData = yield {\n",
              "      promise: fileDataPromise,\n",
              "      response: {\n",
              "        action: 'continue',\n",
              "      }\n",
              "    };\n",
              "\n",
              "    // Use a chunked sending to avoid message size limits. See b/62115660.\n",
              "    let position = 0;\n",
              "    do {\n",
              "      const length = Math.min(fileData.byteLength - position, MAX_PAYLOAD_SIZE);\n",
              "      const chunk = new Uint8Array(fileData, position, length);\n",
              "      position += length;\n",
              "\n",
              "      const base64 = btoa(String.fromCharCode.apply(null, chunk));\n",
              "      yield {\n",
              "        response: {\n",
              "          action: 'append',\n",
              "          file: file.name,\n",
              "          data: base64,\n",
              "        },\n",
              "      };\n",
              "\n",
              "      let percentDone = fileData.byteLength === 0 ?\n",
              "          100 :\n",
              "          Math.round((position / fileData.byteLength) * 100);\n",
              "      percent.textContent = `${percentDone}% done`;\n",
              "\n",
              "    } while (position < fileData.byteLength);\n",
              "  }\n",
              "\n",
              "  // All done.\n",
              "  yield {\n",
              "    response: {\n",
              "      action: 'complete',\n",
              "    }\n",
              "  };\n",
              "}\n",
              "\n",
              "scope.google = scope.google || {};\n",
              "scope.google.colab = scope.google.colab || {};\n",
              "scope.google.colab._files = {\n",
              "  _uploadFiles,\n",
              "  _uploadFilesContinue,\n",
              "};\n",
              "})(self);\n",
              "</script> "
            ]
          },
          "metadata": {}
        },
        {
          "output_type": "stream",
          "name": "stdout",
          "text": [
            "Saving train.csv to train.csv\n"
          ]
        }
      ]
    },
    {
      "cell_type": "code",
      "source": [
        "from google.colab import drive\n",
        "drive.mount(\"/content/drive\")"
      ],
      "metadata": {
        "colab": {
          "base_uri": "https://localhost:8080/"
        },
        "id": "CbjvcOkKysaW",
        "outputId": "f180c956-37ec-474d-82f0-0a29228b6e92"
      },
      "execution_count": null,
      "outputs": [
        {
          "output_type": "stream",
          "name": "stdout",
          "text": [
            "Drive already mounted at /content/drive; to attempt to forcibly remount, call drive.mount(\"/content/drive\", force_remount=True).\n"
          ]
        }
      ]
    },
    {
      "cell_type": "code",
      "source": [],
      "metadata": {
        "id": "VZIjDG2xyxw_"
      },
      "execution_count": null,
      "outputs": []
    },
    {
      "cell_type": "code",
      "source": [
        "pip install keras_nlp --upgrade"
      ],
      "metadata": {
        "colab": {
          "base_uri": "https://localhost:8080/"
        },
        "id": "fk0RFn9XvRtD",
        "outputId": "344daedb-c293-40e7-c0cd-e6e96eacfdcd"
      },
      "execution_count": null,
      "outputs": [
        {
          "output_type": "stream",
          "name": "stdout",
          "text": [
            "Looking in indexes: https://pypi.org/simple, https://us-python.pkg.dev/colab-wheels/public/simple/\n",
            "Requirement already satisfied: keras_nlp in /usr/local/lib/python3.10/dist-packages (0.5.2)\n",
            "Requirement already satisfied: absl-py in /usr/local/lib/python3.10/dist-packages (from keras_nlp) (1.4.0)\n",
            "Requirement already satisfied: numpy in /usr/local/lib/python3.10/dist-packages (from keras_nlp) (1.22.4)\n",
            "Requirement already satisfied: packaging in /usr/local/lib/python3.10/dist-packages (from keras_nlp) (23.1)\n",
            "Requirement already satisfied: tensorflow-text in /usr/local/lib/python3.10/dist-packages (from keras_nlp) (2.12.1)\n",
            "Requirement already satisfied: tensorflow-hub>=0.8.0 in /usr/local/lib/python3.10/dist-packages (from tensorflow-text->keras_nlp) (0.13.0)\n",
            "Requirement already satisfied: tensorflow<2.13,>=2.12.0 in /usr/local/lib/python3.10/dist-packages (from tensorflow-text->keras_nlp) (2.12.0)\n",
            "Requirement already satisfied: astunparse>=1.6.0 in /usr/local/lib/python3.10/dist-packages (from tensorflow<2.13,>=2.12.0->tensorflow-text->keras_nlp) (1.6.3)\n",
            "Requirement already satisfied: flatbuffers>=2.0 in /usr/local/lib/python3.10/dist-packages (from tensorflow<2.13,>=2.12.0->tensorflow-text->keras_nlp) (23.3.3)\n",
            "Requirement already satisfied: gast<=0.4.0,>=0.2.1 in /usr/local/lib/python3.10/dist-packages (from tensorflow<2.13,>=2.12.0->tensorflow-text->keras_nlp) (0.4.0)\n",
            "Requirement already satisfied: google-pasta>=0.1.1 in /usr/local/lib/python3.10/dist-packages (from tensorflow<2.13,>=2.12.0->tensorflow-text->keras_nlp) (0.2.0)\n",
            "Requirement already satisfied: grpcio<2.0,>=1.24.3 in /usr/local/lib/python3.10/dist-packages (from tensorflow<2.13,>=2.12.0->tensorflow-text->keras_nlp) (1.54.0)\n",
            "Requirement already satisfied: h5py>=2.9.0 in /usr/local/lib/python3.10/dist-packages (from tensorflow<2.13,>=2.12.0->tensorflow-text->keras_nlp) (3.8.0)\n",
            "Requirement already satisfied: jax>=0.3.15 in /usr/local/lib/python3.10/dist-packages (from tensorflow<2.13,>=2.12.0->tensorflow-text->keras_nlp) (0.4.8)\n",
            "Requirement already satisfied: keras<2.13,>=2.12.0 in /usr/local/lib/python3.10/dist-packages (from tensorflow<2.13,>=2.12.0->tensorflow-text->keras_nlp) (2.12.0)\n",
            "Requirement already satisfied: libclang>=13.0.0 in /usr/local/lib/python3.10/dist-packages (from tensorflow<2.13,>=2.12.0->tensorflow-text->keras_nlp) (16.0.0)\n",
            "Requirement already satisfied: opt-einsum>=2.3.2 in /usr/local/lib/python3.10/dist-packages (from tensorflow<2.13,>=2.12.0->tensorflow-text->keras_nlp) (3.3.0)\n",
            "Requirement already satisfied: protobuf!=4.21.0,!=4.21.1,!=4.21.2,!=4.21.3,!=4.21.4,!=4.21.5,<5.0.0dev,>=3.20.3 in /usr/local/lib/python3.10/dist-packages (from tensorflow<2.13,>=2.12.0->tensorflow-text->keras_nlp) (3.20.3)\n",
            "Requirement already satisfied: setuptools in /usr/local/lib/python3.10/dist-packages (from tensorflow<2.13,>=2.12.0->tensorflow-text->keras_nlp) (67.7.2)\n",
            "Requirement already satisfied: six>=1.12.0 in /usr/local/lib/python3.10/dist-packages (from tensorflow<2.13,>=2.12.0->tensorflow-text->keras_nlp) (1.16.0)\n",
            "Requirement already satisfied: tensorboard<2.13,>=2.12 in /usr/local/lib/python3.10/dist-packages (from tensorflow<2.13,>=2.12.0->tensorflow-text->keras_nlp) (2.12.2)\n",
            "Requirement already satisfied: tensorflow-estimator<2.13,>=2.12.0 in /usr/local/lib/python3.10/dist-packages (from tensorflow<2.13,>=2.12.0->tensorflow-text->keras_nlp) (2.12.0)\n",
            "Requirement already satisfied: termcolor>=1.1.0 in /usr/local/lib/python3.10/dist-packages (from tensorflow<2.13,>=2.12.0->tensorflow-text->keras_nlp) (2.3.0)\n",
            "Requirement already satisfied: typing-extensions>=3.6.6 in /usr/local/lib/python3.10/dist-packages (from tensorflow<2.13,>=2.12.0->tensorflow-text->keras_nlp) (4.5.0)\n",
            "Requirement already satisfied: wrapt<1.15,>=1.11.0 in /usr/local/lib/python3.10/dist-packages (from tensorflow<2.13,>=2.12.0->tensorflow-text->keras_nlp) (1.14.1)\n",
            "Requirement already satisfied: tensorflow-io-gcs-filesystem>=0.23.1 in /usr/local/lib/python3.10/dist-packages (from tensorflow<2.13,>=2.12.0->tensorflow-text->keras_nlp) (0.32.0)\n",
            "Requirement already satisfied: wheel<1.0,>=0.23.0 in /usr/local/lib/python3.10/dist-packages (from astunparse>=1.6.0->tensorflow<2.13,>=2.12.0->tensorflow-text->keras_nlp) (0.40.0)\n",
            "Requirement already satisfied: ml-dtypes>=0.0.3 in /usr/local/lib/python3.10/dist-packages (from jax>=0.3.15->tensorflow<2.13,>=2.12.0->tensorflow-text->keras_nlp) (0.1.0)\n",
            "Requirement already satisfied: scipy>=1.7 in /usr/local/lib/python3.10/dist-packages (from jax>=0.3.15->tensorflow<2.13,>=2.12.0->tensorflow-text->keras_nlp) (1.10.1)\n",
            "Requirement already satisfied: google-auth<3,>=1.6.3 in /usr/local/lib/python3.10/dist-packages (from tensorboard<2.13,>=2.12->tensorflow<2.13,>=2.12.0->tensorflow-text->keras_nlp) (2.17.3)\n",
            "Requirement already satisfied: google-auth-oauthlib<1.1,>=0.5 in /usr/local/lib/python3.10/dist-packages (from tensorboard<2.13,>=2.12->tensorflow<2.13,>=2.12.0->tensorflow-text->keras_nlp) (1.0.0)\n",
            "Requirement already satisfied: markdown>=2.6.8 in /usr/local/lib/python3.10/dist-packages (from tensorboard<2.13,>=2.12->tensorflow<2.13,>=2.12.0->tensorflow-text->keras_nlp) (3.4.3)\n",
            "Requirement already satisfied: requests<3,>=2.21.0 in /usr/local/lib/python3.10/dist-packages (from tensorboard<2.13,>=2.12->tensorflow<2.13,>=2.12.0->tensorflow-text->keras_nlp) (2.27.1)\n",
            "Requirement already satisfied: tensorboard-data-server<0.8.0,>=0.7.0 in /usr/local/lib/python3.10/dist-packages (from tensorboard<2.13,>=2.12->tensorflow<2.13,>=2.12.0->tensorflow-text->keras_nlp) (0.7.0)\n",
            "Requirement already satisfied: tensorboard-plugin-wit>=1.6.0 in /usr/local/lib/python3.10/dist-packages (from tensorboard<2.13,>=2.12->tensorflow<2.13,>=2.12.0->tensorflow-text->keras_nlp) (1.8.1)\n",
            "Requirement already satisfied: werkzeug>=1.0.1 in /usr/local/lib/python3.10/dist-packages (from tensorboard<2.13,>=2.12->tensorflow<2.13,>=2.12.0->tensorflow-text->keras_nlp) (2.3.0)\n",
            "Requirement already satisfied: cachetools<6.0,>=2.0.0 in /usr/local/lib/python3.10/dist-packages (from google-auth<3,>=1.6.3->tensorboard<2.13,>=2.12->tensorflow<2.13,>=2.12.0->tensorflow-text->keras_nlp) (5.3.0)\n",
            "Requirement already satisfied: pyasn1-modules>=0.2.1 in /usr/local/lib/python3.10/dist-packages (from google-auth<3,>=1.6.3->tensorboard<2.13,>=2.12->tensorflow<2.13,>=2.12.0->tensorflow-text->keras_nlp) (0.3.0)\n",
            "Requirement already satisfied: rsa<5,>=3.1.4 in /usr/local/lib/python3.10/dist-packages (from google-auth<3,>=1.6.3->tensorboard<2.13,>=2.12->tensorflow<2.13,>=2.12.0->tensorflow-text->keras_nlp) (4.9)\n",
            "Requirement already satisfied: requests-oauthlib>=0.7.0 in /usr/local/lib/python3.10/dist-packages (from google-auth-oauthlib<1.1,>=0.5->tensorboard<2.13,>=2.12->tensorflow<2.13,>=2.12.0->tensorflow-text->keras_nlp) (1.3.1)\n",
            "Requirement already satisfied: urllib3<1.27,>=1.21.1 in /usr/local/lib/python3.10/dist-packages (from requests<3,>=2.21.0->tensorboard<2.13,>=2.12->tensorflow<2.13,>=2.12.0->tensorflow-text->keras_nlp) (1.26.15)\n",
            "Requirement already satisfied: certifi>=2017.4.17 in /usr/local/lib/python3.10/dist-packages (from requests<3,>=2.21.0->tensorboard<2.13,>=2.12->tensorflow<2.13,>=2.12.0->tensorflow-text->keras_nlp) (2022.12.7)\n",
            "Requirement already satisfied: charset-normalizer~=2.0.0 in /usr/local/lib/python3.10/dist-packages (from requests<3,>=2.21.0->tensorboard<2.13,>=2.12->tensorflow<2.13,>=2.12.0->tensorflow-text->keras_nlp) (2.0.12)\n",
            "Requirement already satisfied: idna<4,>=2.5 in /usr/local/lib/python3.10/dist-packages (from requests<3,>=2.21.0->tensorboard<2.13,>=2.12->tensorflow<2.13,>=2.12.0->tensorflow-text->keras_nlp) (3.4)\n",
            "Requirement already satisfied: MarkupSafe>=2.1.1 in /usr/local/lib/python3.10/dist-packages (from werkzeug>=1.0.1->tensorboard<2.13,>=2.12->tensorflow<2.13,>=2.12.0->tensorflow-text->keras_nlp) (2.1.2)\n",
            "Requirement already satisfied: pyasn1<0.6.0,>=0.4.6 in /usr/local/lib/python3.10/dist-packages (from pyasn1-modules>=0.2.1->google-auth<3,>=1.6.3->tensorboard<2.13,>=2.12->tensorflow<2.13,>=2.12.0->tensorflow-text->keras_nlp) (0.5.0)\n",
            "Requirement already satisfied: oauthlib>=3.0.0 in /usr/local/lib/python3.10/dist-packages (from requests-oauthlib>=0.7.0->google-auth-oauthlib<1.1,>=0.5->tensorboard<2.13,>=2.12->tensorflow<2.13,>=2.12.0->tensorflow-text->keras_nlp) (3.2.2)\n"
          ]
        }
      ]
    },
    {
      "cell_type": "code",
      "source": [
        "import pandas as pd\n",
        "import tensorflow as tf\n",
        "import pathlib\n",
        "import random\n",
        "import string\n",
        "import re\n",
        "import sys\n",
        "import numpy as np\n",
        "from tensorflow import keras\n",
        "from tensorflow.keras import layers\n",
        "import os\n",
        "import sklearn\n",
        "import seaborn as sns\n",
        "from sklearn.model_selection import train_test_split\n",
        "from nltk.tokenize import TweetTokenizer \n",
        "from nltk.stem.porter import PorterStemmer\n",
        "from nltk.stem import WordNetLemmatizer\n",
        "from tensorflow.keras.preprocessing.sequence import pad_sequences\n",
        "from scipy.stats import rankdata\n",
        "import json\n",
        "import keras_nlp"
      ],
      "metadata": {
        "id": "qICoJzkIqlqk"
      },
      "execution_count": null,
      "outputs": []
    },
    {
      "cell_type": "code",
      "source": [
        "df=pd.read_csv(\"/content/drive/My Drive/zenith-dataset/train.csv\")\n",
        "df['ToDo']=df['TITLE']+df['ABSTRACT']\n",
        "df=df[['ID','ToDo','Computer Science', 'Physics', 'Mathematics','Statistics', 'Quantitative Biology', 'Quantitative Finance']]\n",
        "df.head()"
      ],
      "metadata": {
        "colab": {
          "base_uri": "https://localhost:8080/",
          "height": 206
        },
        "id": "lvSpGywAvN5k",
        "outputId": "93ad6271-a85c-4203-a605-38f1abada220"
      },
      "execution_count": null,
      "outputs": [
        {
          "output_type": "execute_result",
          "data": {
            "text/plain": [
              "   ID                                               ToDo  Computer Science  \\\n",
              "0   1  Reconstructing Subject-Specific Effect Maps  P...                 1   \n",
              "1   2  Rotation Invariance Neural Network  Rotation i...                 1   \n",
              "2   3  Spherical polyharmonics and Poisson kernels fo...                 0   \n",
              "3   4  A finite element approximation for the stochas...                 0   \n",
              "4   5  Comparative study of Discrete Wavelet Transfor...                 1   \n",
              "\n",
              "   Physics  Mathematics  Statistics  Quantitative Biology  \\\n",
              "0        0            0           0                     0   \n",
              "1        0            0           0                     0   \n",
              "2        0            1           0                     0   \n",
              "3        0            1           0                     0   \n",
              "4        0            0           1                     0   \n",
              "\n",
              "   Quantitative Finance  \n",
              "0                     0  \n",
              "1                     0  \n",
              "2                     0  \n",
              "3                     0  \n",
              "4                     0  "
            ],
            "text/html": [
              "\n",
              "  <div id=\"df-d97b84eb-e09f-420a-afaf-4afc9939b1e5\">\n",
              "    <div class=\"colab-df-container\">\n",
              "      <div>\n",
              "<style scoped>\n",
              "    .dataframe tbody tr th:only-of-type {\n",
              "        vertical-align: middle;\n",
              "    }\n",
              "\n",
              "    .dataframe tbody tr th {\n",
              "        vertical-align: top;\n",
              "    }\n",
              "\n",
              "    .dataframe thead th {\n",
              "        text-align: right;\n",
              "    }\n",
              "</style>\n",
              "<table border=\"1\" class=\"dataframe\">\n",
              "  <thead>\n",
              "    <tr style=\"text-align: right;\">\n",
              "      <th></th>\n",
              "      <th>ID</th>\n",
              "      <th>ToDo</th>\n",
              "      <th>Computer Science</th>\n",
              "      <th>Physics</th>\n",
              "      <th>Mathematics</th>\n",
              "      <th>Statistics</th>\n",
              "      <th>Quantitative Biology</th>\n",
              "      <th>Quantitative Finance</th>\n",
              "    </tr>\n",
              "  </thead>\n",
              "  <tbody>\n",
              "    <tr>\n",
              "      <th>0</th>\n",
              "      <td>1</td>\n",
              "      <td>Reconstructing Subject-Specific Effect Maps  P...</td>\n",
              "      <td>1</td>\n",
              "      <td>0</td>\n",
              "      <td>0</td>\n",
              "      <td>0</td>\n",
              "      <td>0</td>\n",
              "      <td>0</td>\n",
              "    </tr>\n",
              "    <tr>\n",
              "      <th>1</th>\n",
              "      <td>2</td>\n",
              "      <td>Rotation Invariance Neural Network  Rotation i...</td>\n",
              "      <td>1</td>\n",
              "      <td>0</td>\n",
              "      <td>0</td>\n",
              "      <td>0</td>\n",
              "      <td>0</td>\n",
              "      <td>0</td>\n",
              "    </tr>\n",
              "    <tr>\n",
              "      <th>2</th>\n",
              "      <td>3</td>\n",
              "      <td>Spherical polyharmonics and Poisson kernels fo...</td>\n",
              "      <td>0</td>\n",
              "      <td>0</td>\n",
              "      <td>1</td>\n",
              "      <td>0</td>\n",
              "      <td>0</td>\n",
              "      <td>0</td>\n",
              "    </tr>\n",
              "    <tr>\n",
              "      <th>3</th>\n",
              "      <td>4</td>\n",
              "      <td>A finite element approximation for the stochas...</td>\n",
              "      <td>0</td>\n",
              "      <td>0</td>\n",
              "      <td>1</td>\n",
              "      <td>0</td>\n",
              "      <td>0</td>\n",
              "      <td>0</td>\n",
              "    </tr>\n",
              "    <tr>\n",
              "      <th>4</th>\n",
              "      <td>5</td>\n",
              "      <td>Comparative study of Discrete Wavelet Transfor...</td>\n",
              "      <td>1</td>\n",
              "      <td>0</td>\n",
              "      <td>0</td>\n",
              "      <td>1</td>\n",
              "      <td>0</td>\n",
              "      <td>0</td>\n",
              "    </tr>\n",
              "  </tbody>\n",
              "</table>\n",
              "</div>\n",
              "      <button class=\"colab-df-convert\" onclick=\"convertToInteractive('df-d97b84eb-e09f-420a-afaf-4afc9939b1e5')\"\n",
              "              title=\"Convert this dataframe to an interactive table.\"\n",
              "              style=\"display:none;\">\n",
              "        \n",
              "  <svg xmlns=\"http://www.w3.org/2000/svg\" height=\"24px\"viewBox=\"0 0 24 24\"\n",
              "       width=\"24px\">\n",
              "    <path d=\"M0 0h24v24H0V0z\" fill=\"none\"/>\n",
              "    <path d=\"M18.56 5.44l.94 2.06.94-2.06 2.06-.94-2.06-.94-.94-2.06-.94 2.06-2.06.94zm-11 1L8.5 8.5l.94-2.06 2.06-.94-2.06-.94L8.5 2.5l-.94 2.06-2.06.94zm10 10l.94 2.06.94-2.06 2.06-.94-2.06-.94-.94-2.06-.94 2.06-2.06.94z\"/><path d=\"M17.41 7.96l-1.37-1.37c-.4-.4-.92-.59-1.43-.59-.52 0-1.04.2-1.43.59L10.3 9.45l-7.72 7.72c-.78.78-.78 2.05 0 2.83L4 21.41c.39.39.9.59 1.41.59.51 0 1.02-.2 1.41-.59l7.78-7.78 2.81-2.81c.8-.78.8-2.07 0-2.86zM5.41 20L4 18.59l7.72-7.72 1.47 1.35L5.41 20z\"/>\n",
              "  </svg>\n",
              "      </button>\n",
              "      \n",
              "  <style>\n",
              "    .colab-df-container {\n",
              "      display:flex;\n",
              "      flex-wrap:wrap;\n",
              "      gap: 12px;\n",
              "    }\n",
              "\n",
              "    .colab-df-convert {\n",
              "      background-color: #E8F0FE;\n",
              "      border: none;\n",
              "      border-radius: 50%;\n",
              "      cursor: pointer;\n",
              "      display: none;\n",
              "      fill: #1967D2;\n",
              "      height: 32px;\n",
              "      padding: 0 0 0 0;\n",
              "      width: 32px;\n",
              "    }\n",
              "\n",
              "    .colab-df-convert:hover {\n",
              "      background-color: #E2EBFA;\n",
              "      box-shadow: 0px 1px 2px rgba(60, 64, 67, 0.3), 0px 1px 3px 1px rgba(60, 64, 67, 0.15);\n",
              "      fill: #174EA6;\n",
              "    }\n",
              "\n",
              "    [theme=dark] .colab-df-convert {\n",
              "      background-color: #3B4455;\n",
              "      fill: #D2E3FC;\n",
              "    }\n",
              "\n",
              "    [theme=dark] .colab-df-convert:hover {\n",
              "      background-color: #434B5C;\n",
              "      box-shadow: 0px 1px 3px 1px rgba(0, 0, 0, 0.15);\n",
              "      filter: drop-shadow(0px 1px 2px rgba(0, 0, 0, 0.3));\n",
              "      fill: #FFFFFF;\n",
              "    }\n",
              "  </style>\n",
              "\n",
              "      <script>\n",
              "        const buttonEl =\n",
              "          document.querySelector('#df-d97b84eb-e09f-420a-afaf-4afc9939b1e5 button.colab-df-convert');\n",
              "        buttonEl.style.display =\n",
              "          google.colab.kernel.accessAllowed ? 'block' : 'none';\n",
              "\n",
              "        async function convertToInteractive(key) {\n",
              "          const element = document.querySelector('#df-d97b84eb-e09f-420a-afaf-4afc9939b1e5');\n",
              "          const dataTable =\n",
              "            await google.colab.kernel.invokeFunction('convertToInteractive',\n",
              "                                                     [key], {});\n",
              "          if (!dataTable) return;\n",
              "\n",
              "          const docLinkHtml = 'Like what you see? Visit the ' +\n",
              "            '<a target=\"_blank\" href=https://colab.research.google.com/notebooks/data_table.ipynb>data table notebook</a>'\n",
              "            + ' to learn more about interactive tables.';\n",
              "          element.innerHTML = '';\n",
              "          dataTable['output_type'] = 'display_data';\n",
              "          await google.colab.output.renderOutput(dataTable, element);\n",
              "          const docLink = document.createElement('div');\n",
              "          docLink.innerHTML = docLinkHtml;\n",
              "          element.appendChild(docLink);\n",
              "        }\n",
              "      </script>\n",
              "    </div>\n",
              "  </div>\n",
              "  "
            ]
          },
          "metadata": {},
          "execution_count": 33
        }
      ]
    },
    {
      "cell_type": "code",
      "source": [
        "class Config:\n",
        "    batch_size = 128\n",
        "    validation_split = 0.15\n",
        "    epochs = 10 # Number of Epochs to train\n",
        "    model_path = \"model.h5\"\n",
        "    output_dataset_path = \"/content/drive/My Drive/zeni\"\n",
        "    labels = ['Computer Science', 'Physics', 'Mathematics','Statistics', 'Quantitative Biology', 'Quantitative Finance']\n",
        "    modes = [\"training\", \"inference\"]\n",
        "    mode = modes[1]\n",
        "    model_name = \"distil_bert_base_en_uncased\"\n",
        "config = Config()"
      ],
      "metadata": {
        "id": "toEkfWo0yWkB"
      },
      "execution_count": null,
      "outputs": []
    },
    {
      "cell_type": "code",
      "source": [
        "train=df\n",
        "train.head()"
      ],
      "metadata": {
        "colab": {
          "base_uri": "https://localhost:8080/",
          "height": 206
        },
        "id": "VQX82CrWzJfa",
        "outputId": "da84e1a3-41de-4ac9-ba55-5705cc597b9c"
      },
      "execution_count": null,
      "outputs": [
        {
          "output_type": "execute_result",
          "data": {
            "text/plain": [
              "   ID                                               ToDo  Computer Science  \\\n",
              "0   1  Reconstructing Subject-Specific Effect Maps  P...                 1   \n",
              "1   2  Rotation Invariance Neural Network  Rotation i...                 1   \n",
              "2   3  Spherical polyharmonics and Poisson kernels fo...                 0   \n",
              "3   4  A finite element approximation for the stochas...                 0   \n",
              "4   5  Comparative study of Discrete Wavelet Transfor...                 1   \n",
              "\n",
              "   Physics  Mathematics  Statistics  Quantitative Biology  \\\n",
              "0        0            0           0                     0   \n",
              "1        0            0           0                     0   \n",
              "2        0            1           0                     0   \n",
              "3        0            1           0                     0   \n",
              "4        0            0           1                     0   \n",
              "\n",
              "   Quantitative Finance  \n",
              "0                     0  \n",
              "1                     0  \n",
              "2                     0  \n",
              "3                     0  \n",
              "4                     0  "
            ],
            "text/html": [
              "\n",
              "  <div id=\"df-c4b97d12-24d5-4f37-9635-247c0af2f484\">\n",
              "    <div class=\"colab-df-container\">\n",
              "      <div>\n",
              "<style scoped>\n",
              "    .dataframe tbody tr th:only-of-type {\n",
              "        vertical-align: middle;\n",
              "    }\n",
              "\n",
              "    .dataframe tbody tr th {\n",
              "        vertical-align: top;\n",
              "    }\n",
              "\n",
              "    .dataframe thead th {\n",
              "        text-align: right;\n",
              "    }\n",
              "</style>\n",
              "<table border=\"1\" class=\"dataframe\">\n",
              "  <thead>\n",
              "    <tr style=\"text-align: right;\">\n",
              "      <th></th>\n",
              "      <th>ID</th>\n",
              "      <th>ToDo</th>\n",
              "      <th>Computer Science</th>\n",
              "      <th>Physics</th>\n",
              "      <th>Mathematics</th>\n",
              "      <th>Statistics</th>\n",
              "      <th>Quantitative Biology</th>\n",
              "      <th>Quantitative Finance</th>\n",
              "    </tr>\n",
              "  </thead>\n",
              "  <tbody>\n",
              "    <tr>\n",
              "      <th>0</th>\n",
              "      <td>1</td>\n",
              "      <td>Reconstructing Subject-Specific Effect Maps  P...</td>\n",
              "      <td>1</td>\n",
              "      <td>0</td>\n",
              "      <td>0</td>\n",
              "      <td>0</td>\n",
              "      <td>0</td>\n",
              "      <td>0</td>\n",
              "    </tr>\n",
              "    <tr>\n",
              "      <th>1</th>\n",
              "      <td>2</td>\n",
              "      <td>Rotation Invariance Neural Network  Rotation i...</td>\n",
              "      <td>1</td>\n",
              "      <td>0</td>\n",
              "      <td>0</td>\n",
              "      <td>0</td>\n",
              "      <td>0</td>\n",
              "      <td>0</td>\n",
              "    </tr>\n",
              "    <tr>\n",
              "      <th>2</th>\n",
              "      <td>3</td>\n",
              "      <td>Spherical polyharmonics and Poisson kernels fo...</td>\n",
              "      <td>0</td>\n",
              "      <td>0</td>\n",
              "      <td>1</td>\n",
              "      <td>0</td>\n",
              "      <td>0</td>\n",
              "      <td>0</td>\n",
              "    </tr>\n",
              "    <tr>\n",
              "      <th>3</th>\n",
              "      <td>4</td>\n",
              "      <td>A finite element approximation for the stochas...</td>\n",
              "      <td>0</td>\n",
              "      <td>0</td>\n",
              "      <td>1</td>\n",
              "      <td>0</td>\n",
              "      <td>0</td>\n",
              "      <td>0</td>\n",
              "    </tr>\n",
              "    <tr>\n",
              "      <th>4</th>\n",
              "      <td>5</td>\n",
              "      <td>Comparative study of Discrete Wavelet Transfor...</td>\n",
              "      <td>1</td>\n",
              "      <td>0</td>\n",
              "      <td>0</td>\n",
              "      <td>1</td>\n",
              "      <td>0</td>\n",
              "      <td>0</td>\n",
              "    </tr>\n",
              "  </tbody>\n",
              "</table>\n",
              "</div>\n",
              "      <button class=\"colab-df-convert\" onclick=\"convertToInteractive('df-c4b97d12-24d5-4f37-9635-247c0af2f484')\"\n",
              "              title=\"Convert this dataframe to an interactive table.\"\n",
              "              style=\"display:none;\">\n",
              "        \n",
              "  <svg xmlns=\"http://www.w3.org/2000/svg\" height=\"24px\"viewBox=\"0 0 24 24\"\n",
              "       width=\"24px\">\n",
              "    <path d=\"M0 0h24v24H0V0z\" fill=\"none\"/>\n",
              "    <path d=\"M18.56 5.44l.94 2.06.94-2.06 2.06-.94-2.06-.94-.94-2.06-.94 2.06-2.06.94zm-11 1L8.5 8.5l.94-2.06 2.06-.94-2.06-.94L8.5 2.5l-.94 2.06-2.06.94zm10 10l.94 2.06.94-2.06 2.06-.94-2.06-.94-.94-2.06-.94 2.06-2.06.94z\"/><path d=\"M17.41 7.96l-1.37-1.37c-.4-.4-.92-.59-1.43-.59-.52 0-1.04.2-1.43.59L10.3 9.45l-7.72 7.72c-.78.78-.78 2.05 0 2.83L4 21.41c.39.39.9.59 1.41.59.51 0 1.02-.2 1.41-.59l7.78-7.78 2.81-2.81c.8-.78.8-2.07 0-2.86zM5.41 20L4 18.59l7.72-7.72 1.47 1.35L5.41 20z\"/>\n",
              "  </svg>\n",
              "      </button>\n",
              "      \n",
              "  <style>\n",
              "    .colab-df-container {\n",
              "      display:flex;\n",
              "      flex-wrap:wrap;\n",
              "      gap: 12px;\n",
              "    }\n",
              "\n",
              "    .colab-df-convert {\n",
              "      background-color: #E8F0FE;\n",
              "      border: none;\n",
              "      border-radius: 50%;\n",
              "      cursor: pointer;\n",
              "      display: none;\n",
              "      fill: #1967D2;\n",
              "      height: 32px;\n",
              "      padding: 0 0 0 0;\n",
              "      width: 32px;\n",
              "    }\n",
              "\n",
              "    .colab-df-convert:hover {\n",
              "      background-color: #E2EBFA;\n",
              "      box-shadow: 0px 1px 2px rgba(60, 64, 67, 0.3), 0px 1px 3px 1px rgba(60, 64, 67, 0.15);\n",
              "      fill: #174EA6;\n",
              "    }\n",
              "\n",
              "    [theme=dark] .colab-df-convert {\n",
              "      background-color: #3B4455;\n",
              "      fill: #D2E3FC;\n",
              "    }\n",
              "\n",
              "    [theme=dark] .colab-df-convert:hover {\n",
              "      background-color: #434B5C;\n",
              "      box-shadow: 0px 1px 3px 1px rgba(0, 0, 0, 0.15);\n",
              "      filter: drop-shadow(0px 1px 2px rgba(0, 0, 0, 0.3));\n",
              "      fill: #FFFFFF;\n",
              "    }\n",
              "  </style>\n",
              "\n",
              "      <script>\n",
              "        const buttonEl =\n",
              "          document.querySelector('#df-c4b97d12-24d5-4f37-9635-247c0af2f484 button.colab-df-convert');\n",
              "        buttonEl.style.display =\n",
              "          google.colab.kernel.accessAllowed ? 'block' : 'none';\n",
              "\n",
              "        async function convertToInteractive(key) {\n",
              "          const element = document.querySelector('#df-c4b97d12-24d5-4f37-9635-247c0af2f484');\n",
              "          const dataTable =\n",
              "            await google.colab.kernel.invokeFunction('convertToInteractive',\n",
              "                                                     [key], {});\n",
              "          if (!dataTable) return;\n",
              "\n",
              "          const docLinkHtml = 'Like what you see? Visit the ' +\n",
              "            '<a target=\"_blank\" href=https://colab.research.google.com/notebooks/data_table.ipynb>data table notebook</a>'\n",
              "            + ' to learn more about interactive tables.';\n",
              "          element.innerHTML = '';\n",
              "          dataTable['output_type'] = 'display_data';\n",
              "          await google.colab.output.renderOutput(dataTable, element);\n",
              "          const docLink = document.createElement('div');\n",
              "          docLink.innerHTML = docLinkHtml;\n",
              "          element.appendChild(docLink);\n",
              "        }\n",
              "      </script>\n",
              "    </div>\n",
              "  </div>\n",
              "  "
            ]
          },
          "metadata": {},
          "execution_count": 35
        }
      ]
    },
    {
      "cell_type": "code",
      "source": [
        "X_train, X_val, y_train, y_val = train_test_split(train[\"ToDo\"], train[config.labels], test_size=config.validation_split)"
      ],
      "metadata": {
        "id": "QppCPXPvva08"
      },
      "execution_count": null,
      "outputs": []
    },
    {
      "cell_type": "code",
      "source": [
        "X_train.shape, y_train.shape, X_val.shape, y_val.shape"
      ],
      "metadata": {
        "colab": {
          "base_uri": "https://localhost:8080/"
        },
        "id": "sosvGzKUzAMb",
        "outputId": "ba6d6966-fd15-4e33-b56e-532df18735d3"
      },
      "execution_count": null,
      "outputs": [
        {
          "output_type": "execute_result",
          "data": {
            "text/plain": [
              "((17826,), (17826, 6), (3146,), (3146, 6))"
            ]
          },
          "metadata": {},
          "execution_count": 37
        }
      ]
    },
    {
      "cell_type": "code",
      "source": [
        "def make_dataset(X, y, batch_size, mode):\n",
        "    dataset = tf.data.Dataset.from_tensor_slices((X, y))\n",
        "    if mode == \"train\":\n",
        "       dataset = dataset.shuffle(batch_size * 4) \n",
        "    dataset = dataset.batch(batch_size)\n",
        "    dataset = dataset.cache().prefetch(tf.data.AUTOTUNE).repeat(1)\n",
        "    return dataset"
      ],
      "metadata": {
        "id": "l6vn61BtzUsv"
      },
      "execution_count": null,
      "outputs": []
    },
    {
      "cell_type": "code",
      "source": [
        "train_ds = make_dataset(X_train, y_train, batch_size=config.batch_size, mode=\"train\")\n",
        "valid_ds = make_dataset(X_val, y_val, batch_size=config.batch_size, mode=\"valid\")"
      ],
      "metadata": {
        "id": "4Q8IGhTmzX2v"
      },
      "execution_count": null,
      "outputs": []
    },
    {
      "cell_type": "code",
      "source": [
        "for batch in train_ds.take(1):\n",
        "    print(batch)"
      ],
      "metadata": {
        "colab": {
          "base_uri": "https://localhost:8080/"
        },
        "id": "7H6mavy6zZ9Z",
        "outputId": "45f210a5-ac57-4af4-b2fa-d4e44dab2524"
      },
      "execution_count": null,
      "outputs": [
        {
          "output_type": "stream",
          "name": "stdout",
          "text": [
            "(<tf.Tensor: shape=(128,), dtype=string, numpy=\n",
            "array([b'AC-Biased Shift Registers as Fabrication Process Benchmark Circuits and Flux Trapping Diagnostic Tool  We develop an ac-biased shift register introduced in our previous work (V.K.\\nSemenov et al., IEEE Trans. Appl. Supercond., vol. 25, no. 3, 1301507, June\\n2015) into a benchmark circuit for evaluation of superconductor electronics\\nfabrication technology. The developed testing technique allows for extracting\\nmargins of all individual cells in the shift register, which in turn makes it\\npossible to estimate statistical distribution of Josephson junctions in the\\ncircuit. We applied this approach to successfully test registers having 8, 16,\\n36, and 202 thousand cells and, respectively, about 33000, 65000, 144000, and\\n809000 Josephson junctions. The circuits were fabricated at MIT Lincoln\\nLaboratory, using a fully planarized process, 0.4 {\\\\mu}m inductor linewidth,\\nand 1.33x10^6 cm^-2 junction density. They are presently the largest\\noperational superconducting SFQ circuits ever made. The developed technique\\ndistinguishes between hard defects (fabrication-related) and soft defects\\n(measurement-related) and locates them in the circuit. The soft defects are\\nspecific to superconducting circuits and caused by magnetic flux trapping\\neither inside the active cells or in the dedicated flux-trapping moats near the\\ncells. The number and distribution of soft defects depend on the ambient\\nmagnetic field and vary with thermal cycling even if done in the same magnetic\\nenvironment.\\n',\n",
            "       b'The Tensor Memory Hypothesis  We discuss memory models which are based on tensor decompositions using\\nlatent representations of entities and events. We show how episodic memory and\\nsemantic memory can be realized and discuss how new memory traces can be\\ngenerated from sensory input: Existing memories are the basis for perception\\nand new memories are generated via perception. We relate our mathematical\\napproach to the hippocampal memory indexing theory. We describe the first\\ndetailed mathematical models for the complete processing pipeline from sensory\\ninput and its semantic decoding, i.e., perception, to the formation of episodic\\nand semantic memories and their declarative semantic decodings. Our main\\nhypothesis is that perception includes an active semantic decoding process,\\nwhich relies on latent representations of entities and predicates, and that\\nepisodic and semantic memories depend on the same decoding process. We\\ncontribute to the debate between the leading memory consolidation theories,\\ni.e., the standard consolidation theory (SCT) and the multiple trace theory\\n(MTT). The latter is closely related to the complementary learning systems\\n(CLS) framework. In particular, we show explicitly how episodic memory can\\nteach the neocortex to form a semantic memory, which is a core issue in MTT and\\nCLS.\\n',\n",
            "       b'K-means Algorithm over Compressed Binary Data  We consider a network of binary-valued sensors with a fusion center. The\\nfusion center has to perform K-means clustering on the binary data transmitted\\nby the sensors. In order to reduce the amount of data transmitted within the\\nnetwork, the sensors compress their data with a source coding scheme based on\\nbinary sparse matrices. We propose to apply the K-means algorithm directly over\\nthe compressed data without reconstructing the original sensors measurements,\\nin order to avoid potentially complex decoding operations. We provide\\napproximated expressions of the error probabilities of the K-means steps in the\\ncompressed domain. From these expressions, we show that applying the K-means\\nalgorithm in the compressed domain enables to recover the clusters of the\\noriginal domain. Monte Carlo simulations illustrate the accuracy of the\\nobtained approximated error probabilities, and show that the coding rate needed\\nto perform K-means clustering in the compressed domain is lower than the rate\\nneeded to reconstruct all the measurements.\\n',\n",
            "       b'On the Combinatorial Lower Bound for the Extension Complexity of the Spanning Tree Polytope  In the study of extensions of polytopes of combinatorial optimization\\nproblems, a notorious open question is that for the size of the smallest\\nextended formulation of the Minimum Spanning Tree problem on a complete graph\\nwith $n$ nodes. The best known lower bound is the trival (dimension) bound,\\n$\\\\Omega(n^2)$, the best known upper bound is the extended formulation by Wong\\n(1980) of size $O(n^3)$ (also Martin, 1991).\\nIn this note we give a nondeterministic communication protocol with cost\\n$\\\\log_2(n^2\\\\log n)+O(1)$ for the support of the spanning tree slack matrix.\\nThis means that the combinatorial lower bounds can improve the trivial lower\\nbound only by a factor of (at most) $O(\\\\log n)$.\\n',\n",
            "       b'Deep Learning for Accelerated Ultrasound Imaging  In portable, 3-D, or ultra-fast ultrasound (US) imaging systems, there is an\\nincreasing demand to reconstruct high quality images from limited number of\\ndata. However, the existing solutions require either hardware changes or\\ncomputationally expansive algorithms. To overcome these limitations, here we\\npropose a novel deep learning approach that interpolates the missing RF data by\\nutilizing the sparsity of the RF data in the Fourier domain. Extensive\\nexperimental results from sub-sampled RF data from a real US system confirmed\\nthat the proposed method can effectively reduce the data rate without\\nsacrificing the image quality.\\n',\n",
            "       b'From homogeneous metric spaces to Lie groups  We study connected, locally compact metric spaces with transitive isometry\\ngroups. For all $\\\\epsilon \\\\in \\\\mathbb{R}^+$, each such space is\\n$(1,\\\\epsilon)$-quasi-isometric to a Lie group equipped with a left-invariant\\nmetric. Further, every metric Lie group is $(1, C)$-quasi-isometric to a\\nsolvable Lie group, and every simply connected metric Lie group is $(1,\\nC)$-quasi-isometrically homeomorphic to a solvable-by-compact metric Lie group.\\nWhile any contractible Lie group may be made isometric to a solvable group,\\nonly those that are solvable and of type (R) may be made isometric to a\\nnilpotent Lie group, in which case the nilpotent group is the nilshadow of the\\ngroup. Finally, we give a complete metric characterisation of metric Lie groups\\nfor which there exists an automorphic dilation. These coincide with the metric\\nspaces that are locally compact, connected, homogeneous, and admit a metric\\ndilation.\\n',\n",
            "       b'Collective search with finite perception: transient dynamics and search efficiency  Motile organisms often use finite spatial perception of their surroundings to\\nnavigate and search their habitats. Yet standard models of search are usually\\nbased on purely local sensory information. To model how a finite perceptual\\nhorizon affects ecological search, we propose a framework for optimal\\nnavigation that combines concepts from random walks and optimal control theory.\\nWe show that, while local strategies are optimal on asymptotically long and\\nshort search times, finite perception yields faster convergence and increased\\nsearch efficiency over transient time scales relevant in biological systems.\\nThe benefit of the finite horizon can be maintained by the searchers tuning\\ntheir response sensitivity to the length scale of the stimulant in the\\nenvironment, and is enhanced when the agents interact as a result of increased\\nconsensus within subpopulations. Our framework sheds light on the role of\\nspatial perception and transients in search movement and collective sensing of\\nthe environment.\\n',\n",
            "       b'Estimation of the shape of the density contours of star-shaped distributions  Elliptically contoured distributions generalize the multivariate normal\\ndistributions in such a way that the density generators need not be\\nexponential. However, as the name suggests, elliptically contoured\\ndistributions remain to be restricted in that the similar density contours\\nought to be elliptical. Kamiya, Takemura and Kuriki [Star-shaped distributions\\nand their generalizations, Journal of Statistical Planning and Inference 138\\n(2008), 3429--3447] proposed star-shaped distributions, for which the density\\ncontours are allowed to be boundaries of arbitrary similar star-shaped sets. In\\nthe present paper, we propose a nonparametric estimator of the shape of the\\ndensity contours of star-shaped distributions, and prove its strong consistency\\nwith respect to the Hausdorff distance. We illustrate our estimator by\\nsimulation.\\n',\n",
            "       b'Nonlinear Instability of Half-Solitons on Star Graphs  We consider a half-soliton stationary state of the nonlinear Schrodinger\\nequation with the power nonlinearity on a star graph consisting of N edges and\\na single vertex. For the subcritical power nonlinearity, the half-soliton state\\nis a degenerate critical point of the action functional under the mass\\nconstraint such that the second variation is nonnegative. By using normal\\nforms, we prove that the degenerate critical point is a nonlinear saddle point,\\nfor which the small perturbations to the half-soliton state grow slowly in time\\nresulting in the nonlinear instability of the half-soliton state. The result\\nholds for any $N \\\\geq 3$ and arbitrary subcritical power nonlinearity. It gives\\na precise dynamical characterization of the previous result of Adami {\\\\em et\\nal.}, where the half-soliton state was shown to be a saddle point of the action\\nfunctional under the mass constraint for $N = 3$ and for cubic nonlinearity.\\n',\n",
            "       b'$\\\\mathfrak A$-principal Hopf hypersurfaces in complex quadrics  A real hypersurface in the complex quadric $Q^m=SO_{m+2}/SO_mSO_2$ is said to\\nbe $\\\\mathfrak A$-principal if its unit normal vector field is singular of type\\n$\\\\mathfrak A$-principal everywhere. In this paper, we show that a $\\\\mathfrak\\nA$-principal Hopf hypersurface in $Q^m$, $m\\\\geq3$ is an open part of a tube\\naround a totally geodesic $Q^{m+1}$ in $Q^m$. We also show that such real\\nhypersurfaces are the only contact real hypersurfaces in $Q^m$. %, this answers\\naffirmatively a question posted by Berndt (cf. \\\\cite{berndt1})}. The\\nclassification for pseudo-Einstein real hypersurfaces in $Q^m$, $m\\\\geq3$, is\\nalso obtained.\\n',\n",
            "       b'Obfuscation in Bitcoin: Techniques and Politics  In the cryptographic currency Bitcoin, all transactions are recorded in the\\nblockchain - a public, global, and immutable ledger. Because transactions are\\npublic, Bitcoin and its users employ obfuscation to maintain a degree of\\nfinancial privacy. Critically, and in contrast to typical uses of obfuscation,\\nin Bitcoin obfuscation is not aimed against the system designer but is instead\\nenabled by design. We map sixteen proposed privacy-preserving techniques for\\nBitcoin on an obfuscation-vs.-cryptography axis, and find that those that are\\nused in practice tend toward obfuscation. We argue that this has led to a\\nbalance between privacy and regulatory acceptance.\\n',\n",
            "       b'Dropout Feature Ranking for Deep Learning Models  Deep neural networks (DNNs) achieve state-of-the-art results in a variety of\\ndomains. Unfortunately, DNNs are notorious for their non-interpretability, and\\nthus limit their applicability in hypothesis-driven domains such as biology and\\nhealthcare. Moreover, in the resource-constraint setting, it is critical to\\ndesign tests relying on fewer more informative features leading to high\\naccuracy performance within reasonable budget. We aim to close this gap by\\nproposing a new general feature ranking method for deep learning. We show that\\nour simple yet effective method performs on par or compares favorably to eight\\nstrawman, classical and deep-learning feature ranking methods in two\\nsimulations and five very different datasets on tasks ranging from\\nclassification to regression, in both static and time series scenarios. We also\\nillustrate the use of our method on a drug response dataset and show that it\\nidentifies genes relevant to the drug-response.\\n',\n",
            "       b'Application of shifted-Laplace preconditioners for heterogenous Helmholtz equation- part 1: Data modelling  In several geophysical applications, such as full waveform inversion and data\\nmodelling, we are facing the solution of inhomogeneous Helmholtz equation. The\\ndifficulties of solving the Helmholtz equa- tion are two fold. Firstly, in the\\ncase of large scale problems we cannot calculate the inverse of the Helmholtz\\noperator directly. Hence, iterative algorithms should be implemented. Secondly,\\nthe Helmholtz operator is non-unitary and non-diagonalizable which in turn\\ndeteriorates the performances of the iterative algorithms (especially for high\\nwavenumbers). To overcome this issue, we need to im- plement proper\\npreconditioners for a Krylov subspace method to solve the problem efficiently.\\nIn this paper we incorporated shifted-Laplace operators to precondition the\\nsystem of equations and then generalized minimal residual (GMRES) method used\\nto solve the problem iteratively. The numerical results show the performance of\\nthe preconditioning operator in improving the convergence rate of the GMRES\\nalgorithm for data modelling case. In the companion paper we discussed the\\napplication of preconditioned data modelling algorithm in the context of\\nfrequency domain full waveform inversion. However, the analysis of the degree\\nof suitability of the preconditioners in the solution of Helmholtz equation is\\nan ongoing field of study.\\n',\n",
            "       b'Fundamental groups, slalom curves and extremal length  We define the extremal length of elements of the fundamental group of the\\ntwice punctured complex plane and give upper and lower bounds for this\\ninvariant. The bounds differ by a multiplicative constant. The main motivation\\ncomes from $3$-braid invariants and their application.\\n',\n",
            "       b'BICEP2 / Keck Array IX: New Bounds on Anisotropies of CMB Polarization Rotation and Implications for Axion-Like Particles and Primordial Magnetic Fields  We present the strongest constraints to date on anisotropies of CMB\\npolarization rotation derived from $150$ GHz data taken by the BICEP2 & Keck\\nArray CMB experiments up to and including the 2014 observing season (BK14). The\\ndefinition of polarization angle in BK14 maps has gone through self-calibration\\nin which the overall angle is adjusted to minimize the observed $TB$ and $EB$\\npower spectra. After this procedure, the $QU$ maps lose sensitivity to a\\nuniform polarization rotation but are still sensitive to anisotropies of\\npolarization rotation. This analysis places constraints on the anisotropies of\\npolarization rotation, which could be generated by CMB photons interacting with\\naxion-like pseudoscalar fields or Faraday rotation induced by primordial\\nmagnetic fields. The sensitivity of BK14 maps ($\\\\sim 3\\\\mu$K-arcmin) makes it\\npossible to reconstruct anisotropies of polarization rotation angle and measure\\ntheir angular power spectrum much more precisely than previous attempts. Our\\ndata are found to be consistent with no polarization rotation anisotropies,\\nimproving the upper bound on the amplitude of the rotation angle spectrum by\\nroughly an order of magnitude compared to the previous best constraints. Our\\nresults lead to an order of magnitude better constraint on the coupling\\nconstant of the Chern-Simons electromagnetic term $f_a \\\\geq 1.7\\\\times\\n10^2\\\\times (H_I/2\\\\pi)$ ($2\\\\sigma$) than the constraint derived from uniform\\nrotation, where $H_I$ is the inflationary Hubble scale. The upper bound on the\\namplitude of the primordial magnetic fields is 30nG ($2\\\\sigma$) from the\\npolarization rotation anisotropies.\\n',\n",
            "       b'Human-Robot Collaboration: From Psychology to Social Robotics  With the advances in robotic technology, research in human-robot\\ncollaboration (HRC) has gained in importance. For robots to interact with\\nhumans autonomously they need active decision making that takes human partners\\ninto account. However, state-of-the-art research in HRC does often assume a\\nleader-follower division, in which one agent leads the interaction. We believe\\nthat this is caused by the lack of a reliable representation of the human and\\nthe environment to allow autonomous decision making. This problem can be\\novercome by an embodied approach to HRC which is inspired by psychological\\nstudies of human-human interaction (HHI). In this survey, we review\\nneuroscientific and psychological findings of the sensorimotor patterns that\\ngovern HHI and view them in a robotics context. Additionally, we study the\\nadvances made by the robotic community into the direction of embodied HRC. We\\nfocus on the mechanisms that are required for active, physical human-robot\\ncollaboration. Finally, we discuss the similarities and differences in the two\\nfields of study which pinpoint directions of future research.\\n',\n",
            "       b'An algorithm to reconstruct convex polyhedra from their face normals and areas  A well-known result in the study of convex polyhedra, due to Minkowski, is\\nthat a convex polyhedron is uniquely determined (up to translation) by the\\ndirections and areas of its faces. The theorem guarantees existence of the\\npolyhedron associated to given face normals and areas, but does not provide a\\nconstructive way to find it explicitly. This article provides an algorithm to\\nreconstruct 3D convex polyhedra from their face normals and areas, based on an\\nmethod by Lasserre to compute the volume of a convex polyhedron in\\n$\\\\mathbb{R}^n$. A Python implementation of the algorithm is available at\\nthis https URL.\\n',\n",
            "       b'On the the Berge Conjecture for tunnel number one knots  In this paper we use an approach based on dynamics to prove that if $K\\\\subset\\nS^3$ is a tunnel number one knot which admits a Dehn filling resulting in a\\nlens space $L$ then $K$ is either a Berge knot, or $K\\\\subset S^3$ is\\n$(1,1)$-knot.\\n',\n",
            "       b'High-temperature charge density wave correlations in La$_{1.875}$Ba$_{0.125}$CuO$_{4}$ without spin-charge locking  Although all superconducting cuprates display charge-ordering tendencies,\\ntheir low-temperature properties are distinct, impeding efforts to understand\\nthe phenomena within a single conceptual framework. While some systems exhibit\\nstripes of charge and spin, with a locked periodicity, others host charge\\ndensity waves (CDWs) without any obviously related spin order. Here we use\\nresonant inelastic x-ray scattering (RIXS) to follow the evolution of charge\\ncorrelations in the canonical stripe ordered cuprate\\nLa$_{1.875}$Ba$_{0.125}$CuO$_{4}$ (LBCO~$1/8$) across its ordering transition.\\nWe find that high-temperature charge correlations are unlocked from the\\nwavevector of the spin correlations, signaling analogies to CDW phases in\\nvarious other cuprates. This indicates that stripe order at low temperatures is\\nstabilized by the coupling of otherwise independent charge and spin density\\nwaves, with important implications for the relation between charge and spin\\ncorrelations in the cuprates.\\n',\n",
            "       b\"Luck is Hard to Beat: The Difficulty of Sports Prediction  Predicting the outcome of sports events is a hard task. We quantify this\\ndifficulty with a coefficient that measures the distance between the observed\\nfinal results of sports leagues and idealized perfectly balanced competitions\\nin terms of skill. This indicates the relative presence of luck and skill. We\\ncollected and analyzed all games from 198 sports leagues comprising 1503\\nseasons from 84 countries of 4 different sports: basketball, soccer, volleyball\\nand handball. We measured the competitiveness by countries and sports. We also\\nidentify in each season which teams, if removed from its league, result in a\\ncompletely random tournament. Surprisingly, not many of them are needed. As\\nanother contribution of this paper, we propose a probabilistic graphical model\\nto learn about the teams' skills and to decompose the relative weights of luck\\nand skill in each game. We break down the skill component into factors\\nassociated with the teams' characteristics. The model also allows to estimate\\nas 0.36 the probability that an underdog team wins in the NBA league, with a\\nhome advantage adding 0.09 to this probability. As shown in the first part of\\nthe paper, luck is substantially present even in the most competitive\\nchampionships, which partially explains why sophisticated and complex\\nfeature-based models hardly beat simple models in the task of forecasting\\nsports' outcomes.\\n\",\n",
            "       b'Learning a Generative Model of Cancer Metastasis  We introduce a Unified Disentanglement Network (UFDN) trained on The Cancer\\nGenome Atlas (TCGA). We demonstrate that the UFDN learns a biologically\\nrelevant latent space of gene expression data by applying our network to two\\nclassification tasks of cancer status and cancer type. Our UFDN specific\\nalgorithms perform comparably to random forest methods. The UFDN allows for\\ncontinuous, partial interpolation between distinct cancer types. Furthermore,\\nwe perform an analysis of differentially expressed genes between skin cutaneous\\nmelanoma(SKCM) samples and the same samples interpolated into glioblastoma\\n(GBM). We demonstrate that our interpolations learn relevant metagenes that\\nrecapitulate known glioblastoma mechanisms and suggest possible starting points\\nfor investigations into the metastasis of SKCM into GBM.\\n',\n",
            "       b'Photo-realistic Facial Texture Transfer  Style transfer methods have achieved significant success in recent years with\\nthe use of convolutional neural networks. However, many of these methods\\nconcentrate on artistic style transfer with few constraints on the output image\\nappearance. We address the challenging problem of transferring face texture\\nfrom a style face image to a content face image in a photorealistic manner\\nwithout changing the identity of the original content image. Our framework for\\nface texture transfer (FaceTex) augments the prior work of MRF-CNN with a novel\\nfacial semantic regularization that incorporates a face prior regularization\\nsmoothly suppressing the changes around facial meso-structures (e.g eyes, nose\\nand mouth) and a facial structure loss function which implicitly preserves the\\nfacial structure so that face texture can be transferred without changing the\\noriginal identity. We demonstrate results on face images and compare our\\napproach with recent state-of-the-art methods. Our results demonstrate superior\\ntexture transfer because of the ability to maintain the identity of the\\noriginal face image.\\n',\n",
            "       b'Structural Nonrealism and Quantum Information  The article introduces a new concept of structure, defined, echoing J. A.\\nWheeler\\'s concept of \"law without law,\" as a \"structure without law,\" and a new\\nphilosophical viewpoint, that of structural nnnrealism, and considers how this\\nconcept and this viewpoint work in quantum theory in general and quantum\\ninformation theory in particular. It takes as its historical point of departure\\nW. Heisenberg\\'s discovery of quantum mechanics, which, the article argues,\\ncould, in retrospect, be considered in quantum-informational terms, while,\\nconversely, quantum information theory could be seen in Heisenbergian terms.\\nThe article takes advantage of the circumstance that any instance of quantum\\ninformation is a \"structure\"--an organization of elements, ultimately bits, of\\nclassical information, manifested in measuring instruments. While, however,\\nthis organization can, along with the observed behavior of measuring\\ninstruments, be described by means of classical physics, it cannot be predicted\\nby means of classical physics, but only, probabilistically or statistically, by\\nmeans of quantum mechanics, or in high-energy physics, by means of quantum\\nfield theory (or possibly some alternative theories within each scope). By\\ncontrast, the emergences of this information and of this structure cannot, in\\nthe present view, be described by either classical or quantum theory, or\\npossibly by any other means, which leads to the concept of \"structure without\\nlaw\" and the viewpoint of structural nnnrealism. The article also considers,\\nfrom this perspective, some recent work in quantum information theory.\\n',\n",
            "       b'A Python Calculator for Supernova Remnant Evolution  A freely available Python code for modelling SNR evolution has been created.\\nThis software is intended for two purposes: to understand SNR evolution; and to\\nuse in modelling observations of SNR for obtaining good estimates of SNR\\nproperties. It includes all phases for the standard path of evolution for\\nspherically symmetric SNRs. In addition, alternate evolutionary models are\\navailable, including evolution in a cloudy ISM, the fractional energy loss\\nmodel, and evolution in a hot low-density ISM. The graphical interface takes in\\nvarious parameters and produces outputs such as shock radius and velocity vs.\\ntime, SNR surface brightness profile and spectrum. Some interesting properties\\nof SNR evolution are demonstrated using the program.\\n',\n",
            "       b'On a registration-based approach to sensor network localization  We consider a registration-based approach for localizing sensor networks from\\nrange measurements. This is based on the assumption that one can find\\noverlapping cliques spanning the network. That is, for each sensor, one can\\nidentify geometric neighbors for which all inter-sensor ranges are known. Such\\ncliques can be efficiently localized using multidimensional scaling. However,\\nsince each clique is localized in some local coordinate system, we are required\\nto register them in a global coordinate system. In other words, our approach is\\nbased on transforming the localization problem into a problem of registration.\\nIn this context, the main contributions are as follows. First, we describe an\\nefficient method for partitioning the network into overlapping cliques. Second,\\nwe study the problem of registering the localized cliques, and formulate a\\nnecessary rigidity condition for uniquely recovering the global sensor\\ncoordinates. In particular, we present a method for efficiently testing\\nrigidity, and a proposal for augmenting the partitioned network to enforce\\nrigidity. A recently proposed semidefinite relaxation of global registration is\\nused for registering the cliques. We present simulation results on random and\\nstructured sensor networks to demonstrate that the proposed method compares\\nfavourably with state-of-the-art methods in terms of run-time, accuracy, and\\nscalability.\\n',\n",
            "       b\"Thermal fracturing on comets. Applications to 67P/Churyumov-Gerasimenko  We simulate the stresses induced by temperature changes in a putative hard\\nlayer near the surface of comet 67P/Churyumov--Gerasimenko with a\\nthermo-viscoelastic model. Such a layer could be formed by the recondensation\\nor sintering of water ice (and dust grains), as suggested by laboratory\\nexperiments and computer simulations, and would explain the high compressive\\nstrength encountered by experiments on board the Philae lander. Changes in\\ntemperature from seasonal insolation variation penetrate into the comet's\\nsurface to depths controlled by the thermal inertia, causing the material to\\nexpand and contract. Modelling this with a Maxwellian viscoelastic response on\\na spherical nucleus, we show that a hard, icy layer with similar properties to\\nMartian permafrost will experience high stresses: up to tens of MPa, which\\nexceed its material strength (a few MPa), down to depths of centimetres to a\\nmetre. The stress distribution with latitude is confirmed qualitatively when\\ntaking into account the comet's complex shape but neglecting thermal inertia.\\nStress is found to be comparable to the material strength everywhere for\\nsufficient thermal inertia ($\\\\gtrsim50$ J m$^{-2}$ K$^{-1}$ s$^{-1/2}$) and ice\\ncontent ($\\\\gtrsim 45\\\\%$ at the equator). In this case, stresses penetrate to a\\ntypical depth of $\\\\sim0.25$ m, consistent with the detection of metre-scale\\nthermal contraction crack polygons all over the comet. Thermal fracturing may\\nbe an important erosion process on cometary surfaces which breaks down material\\nand weakens cliffs.\\n\",\n",
            "       b'Survey of Gravitationally-lensed Objects in HSC Imaging (SuGOHI). I. Automatic search for galaxy-scale strong lenses  The Hyper Suprime-Cam Subaru Strategic Program (HSC SSP) is an excellent\\nsurvey for the search for strong lenses, thanks to its area, image quality and\\ndepth. We use three different methods to look for lenses among 43,000 luminous\\nred galaxies from the Baryon Oscillation Spectroscopic Survey (BOSS) sample\\nwith photometry from the S16A internal data release of the HSC SSP. The first\\nmethod is a newly developed algorithm, named YATTALENS, which looks for\\narc-like features around massive galaxies and then estimates the likelihood of\\nan object being a lens by performing a lens model fit. The second method,\\nCHITAH, is a modeling-based algorithm originally developed to look for lensed\\nquasars. The third method makes use of spectroscopic data to look for emission\\nlines from objects at a different redshift from that of the main galaxy. We\\nfind 15 definite lenses, 36 highly probable lenses and 282 possible lenses.\\nAmong the three methods, YATTALENS, which was developed specifically for this\\nproblem, performs best in terms of both completeness and purity. Nevertheless\\nfive highly probable lenses were missed by YATTALENS but found by the other two\\nmethods, indicating that the three methods are highly complementary. Based on\\nthese numbers we expect to find $\\\\sim$300 definite or probable lenses by the\\nend of the HSC SSP.\\n',\n",
            "       b'U-SLADS: Unsupervised Learning Approach for Dynamic Dendrite Sampling  Novel data acquisition schemes have been an emerging need for scanning\\nmicroscopy based imaging techniques to reduce the time in data acquisition and\\nto minimize probing radiation in sample exposure. Varies sparse sampling\\nschemes have been studied and are ideally suited for such applications where\\nthe images can be reconstructed from a sparse set of measurements. Dynamic\\nsparse sampling methods, particularly supervised learning based iterative\\nsampling algorithms, have shown promising results for sampling pixel locations\\non the edges or boundaries during imaging. However, dynamic sampling for\\nimaging skeleton-like objects such as metal dendrites remains difficult. Here,\\nwe address a new unsupervised learning approach using Hierarchical Gaussian\\nMixture Mod- els (HGMM) to dynamically sample metal dendrites. This technique\\nis very useful if the users are interested in fast imaging the primary and\\nsecondary arms of metal dendrites in solidification process in materials\\nscience.\\n',\n",
            "       b'Results of the first NaI scintillating calorimeter prototypes by COSINUS  Over almost three decades the TAUP conference has seen a remarkable momentum\\ngain in direct dark matter search. An important accelerator were first\\nindications for a modulating signal rate in the DAMA/NaI experiment reported in\\n1997. Today the presence of an annual modulation, which matches in period and\\nphase the expectation for dark matter, is supported at > 9$\\\\sigma$ confidence.\\nThe underlying nature of dark matter, however, is still considered an open and\\nfundamental question of particle physics. No other direct dark matter search\\ncould confirm the DAMA claim up to now; moreover, numerous null-results are in\\nclear contradiction under so-called standard assumptions for the dark matter\\nhalo and the interaction mechanism of dark with ordinary matter. As both bear a\\ndependence on the target material, resolving this controversial situation will\\nconvincingly only be possible with an experiment using sodium iodide (NaI) as\\ntarget. COSINUS aims to even go a step further by combining NaI with a novel\\ndetection approach. COSINUS aims to operate NaI as a cryogenic calorimeter\\nreading scintillation light and phonon/heat signal. Two distinct advantages\\narise from this approach, a substantially lower energy threshold for nuclear\\nrecoils and particle identification on an event-by-event basis. These key\\nbenefits will allow COSINUS to clarify a possible nuclear recoil origin of the\\nDAMA signal with comparatively little exposure of O(100kg days) and, thereby,\\nanswer a long-standing question of particle physics. Today COSINUS is in R&D\\nphase; in this contribution we show results from the 2nd prototype, albeit the\\nfirst one of the final foreseen detector design. The key finding of this\\nmeasurement is that pure, undoped NaI is a truly excellent scintillator at low\\ntemperatures: We measure 13.1% of the total deposited energy in the NaI crystal\\nin the form of scintillation light (in the light detector).\\n',\n",
            "       b'A unitary \"quantization commutes with reduction\" map for the adjoint action of a compact Lie group  Let $K$ be a simply connected compact Lie group and $T^{\\\\ast}(K)$ its\\ncotangent bundle. We consider the problem of \"quantization commutes with\\nreduction\" for the adjoint action of $K$ on $T^{\\\\ast}(K).$ We quantize both\\n$T^{\\\\ast}(K)$ and the reduced phase space using geometric quantization with\\nhalf-forms. We then construct a geometrically natural map from the space of\\ninvariant elements in the quantization of $T^{\\\\ast}(K)$ to the quantization of\\nthe reduced phase space. We show that this map is a constant multiple of a\\nunitary map.\\n',\n",
            "       b'Heads or tails in zero gravity: an example of a classical contextual \"measurement\"  Playing the game of heads or tails in zero gravity demonstrates that there\\nexists a contextual \"measurement\" in classical mechanics. When the coin is\\nflipped, its orientation is a continuous variable. However, the \"measurement\"\\nthat occurs when the coin is caught by clapping two hands together gives a\\ndiscrete value (heads or tails) that depends on the context (orientation of the\\nhands). It is then shown that there is a strong analogy with the spin\\nmeasurement of the Stern-Gerlach experiment, and in particular with Stern and\\nGerlach\\'s sequential measurements. Finally, we clarify the analogy by recalling\\nhow the de Broglie-Bohm interpretation simply explains the spin \"measurement\".\\n',\n",
            "       b'Magnetic phases of spin-1 lattice gases with random interactions  A spin-1 atomic gas in an optical lattice, in the unit-filling Mott Insulator\\n(MI) phase and in the presence of disordered spin-dependent interaction, is\\nconsidered. In this regime, at zero temperature, the system is well described\\nby a disordered rotationally-invariant spin-1 bilinear-biquadratic model. We\\nstudy, via the density matrix renormalization group algorithm, a bounded\\ndisorder model such that the spin interactions can be locally either\\nferromagnetic or antiferromagnetic. Random interactions induce the appearance\\nof a disordered ferromagnetic phase characterized by a non-vanishing value of\\nspin-glass order parameter across the boundary between a ferromagnetic phase\\nand a dimer phase exhibiting random singlet order. The study of the\\ndistribution of the block entanglement entropy reveals that in this region\\nthere is no random singlet order.\\n',\n",
            "       b'Systems of ergodic BSDE arising in regime switching forward performance processes  We introduce and solve a new type of quadratic backward stochastic\\ndifferential equation systems defined in an infinite time horizon, called\\n\\\\emph{ergodic BSDE systems}. Such systems arise naturally as candidate\\nsolutions to characterize forward performance processes and their associated\\noptimal trading strategies in a regime switching market. In addition, we\\ndevelop a connection between the solution of the ergodic BSDE system and the\\nlong-term growth rate of classical utility maximization problems, and use the\\nergodic BSDE system to study the large time behavior of PDE systems with\\nquadratic growth Hamiltonians.\\n',\n",
            "       b\"Hardware-Aware Machine Learning: Modeling and Optimization  Recent breakthroughs in Deep Learning (DL) applications have made DL models a\\nkey component in almost every modern computing system. The increased popularity\\nof DL applications deployed on a wide-spectrum of platforms have resulted in a\\nplethora of design challenges related to the constraints introduced by the\\nhardware itself. What is the latency or energy cost for an inference made by a\\nDeep Neural Network (DNN)? Is it possible to predict this latency or energy\\nconsumption before a model is trained? If yes, how can machine learners take\\nadvantage of these models to design the hardware-optimal DNN for deployment?\\nFrom lengthening battery life of mobile devices to reducing the runtime\\nrequirements of DL models executing in the cloud, the answers to these\\nquestions have drawn significant attention.\\nOne cannot optimize what isn't properly modeled. Therefore, it is important\\nto understand the hardware efficiency of DL models during serving for making an\\ninference, before even training the model. This key observation has motivated\\nthe use of predictive models to capture the hardware performance or energy\\nefficiency of DL applications. Furthermore, DL practitioners are challenged\\nwith the task of designing the DNN model, i.e., of tuning the hyper-parameters\\nof the DNN architecture, while optimizing for both accuracy of the DL model and\\nits hardware efficiency. Therefore, state-of-the-art methodologies have\\nproposed hardware-aware hyper-parameter optimization techniques. In this paper,\\nwe provide a comprehensive assessment of state-of-the-art work and selected\\nresults on the hardware-aware modeling and optimization for DL applications. We\\nalso highlight several open questions that are poised to give rise to novel\\nhardware-aware designs in the next few years, as DL applications continue to\\nsignificantly impact associated hardware systems and platforms.\\n\",\n",
            "       b'Off The Beaten Lane: AI Challenges In MOBAs Beyond Player Control  MOBAs represent a huge segment of online gaming and are growing as both an\\neSport and a casual genre. The natural starting point for AI researchers\\ninterested in MOBAs is to develop an AI to play the game better than a human -\\nbut MOBAs have many more challenges besides adversarial AI. In this paper we\\nintroduce the reader to the wider context of MOBA culture, propose a range of\\nchallenges faced by the community today, and posit concrete AI projects that\\ncan be undertaken to begin solving them.\\n',\n",
            "       b'On the Diophantine equation $\\\\sum_{j=1}^kjF_j^p=F_n^q$  Let $F_n$ denote the $n^{th}$ term of the Fibonacci sequence. In this paper,\\nwe investigate the Diophantine equation $F_1^p+2F_2^p+\\\\cdots+kF_{k}^p=F_{n}^q$\\nin the positive integers $k$ and $n$, where $p$ and $q$ are given positive\\nintegers. A complete solution is given if the exponents are included in the set\\n$\\\\{1,2\\\\}$. Based on the specific cases we could solve, and a computer search\\nwith $p,q,k\\\\le100$ we conjecture that beside the trivial solutions only\\n$F_8=F_1+2F_2+3F_3+4F_4$, $F_4^2=F_1+2F_2+3F_3$, and\\n$F_4^3=F_1^3+2F_2^3+3F_3^3$ satisfy the title equation.\\n',\n",
            "       b'Exploring the Single-Particle Mobility Edge in a One-Dimensional Quasiperiodic Optical Lattice  A single-particle mobility edge (SPME) marks a critical energy separating\\nextended from localized states in a quantum system. In one-dimensional systems\\nwith uncorrelated disorder, a SPME cannot exist, since all single-particle\\nstates localize for arbitrarily weak disorder strengths. However, if\\ncorrelations are present in the disorder potential, the localization transition\\ncan occur at a finite disorder strength and SPMEs become possible. In this\\nwork, we find experimental evidence for the existence of such a SPME in a\\none-dimensional quasi-periodic optical lattice. Specifically, we find a regime\\nwhere extended and localized single-particle states coexist, in good agreement\\nwith theoretical simulations, which predict a SPME in this regime.\\n',\n",
            "       b\"Emergent SU(N) symmetry in disordered SO(N) spin chains  Strongly disordered spin chains invariant under the SO(N) group are shown to\\ndisplay antiferromagnetic phases with emergent SU(N) symmetry without fine\\ntuning. The phases with emergent SU(N) symmetry are of two kinds: one has a\\nground state formed of randomly distributed singlets of strongly bound pairs of\\nSO(N) spins (the `mesonic' phase), while the other has a ground state composed\\nof singlets made out of strongly bound integer multiples of N SO(N) spins (the\\n`baryonic' phase). Although the mechanism is general, we argue that the cases\\nN=2,3,4 and 6 can in principle be realized with the usual spin and orbital\\ndegrees of freedom.\\n\",\n",
            "       b'Bilipschitz Equivalence of Trees and Hyperbolic Fillings  We combine conditions found in [Wh] with results from [MPR] to show that\\nquasi-isometries between uniformly discrete bounded geometry spaces that\\nsatisfy linear isoperimetric inequalities are within bounded distance to\\nbilipschitz equivalences. We apply this result to regularly branching trees and\\nhyperbolic fillings of metric spaces.\\n',\n",
            "       b'Generalized Coherence Concurrence and Path distinguishability  We propose a new family of coherence monotones, named the \\\\emph{generalized\\ncoherence concurrence} (or coherence $k$-concurrence), which is an analogous\\nconcept to the generalized entanglement concurrence. The coherence\\n$k$-concurrence of a state is nonzero if and only if the coherence number (a\\nrecently introduced discrete coherence monotone) of the state is not smaller\\nthan $k$, and a state can be converted to a state with nonzero entanglement\\n$k$-concurrence via incoherent operations if and only if the state has nonzero\\ncoherence $k$-concurrence. We apply the coherence concurrence family to the\\nproblem of wave-particle duality in multi-path interference phenomena. We\\nobtain a sharper equation for path distinguishability (which witness the\\nduality) than the known value and show that the amount of each concurrence for\\nthe quanton state determines the number of slits which are identified\\nunambiguously.\\n',\n",
            "       b'The Exact Solution to Rank-1 L1-norm TUCKER2 Decomposition  We study rank-1 {L1-norm-based TUCKER2} (L1-TUCKER2) decomposition of 3-way\\ntensors, treated as a collection of $N$ $D \\\\times M$ matrices that are to be\\njointly decomposed. Our contributions are as follows. i) We prove that the\\nproblem is equivalent to combinatorial optimization over $N$ antipodal-binary\\nvariables. ii) We derive the first two algorithms in the literature for its\\nexact solution. The first algorithm has cost exponential in $N$; the second one\\nhas cost polynomial in $N$ (under a mild assumption). Our algorithms are\\naccompanied by formal complexity analysis. iii) We conduct numerical studies to\\ncompare the performance of exact L1-TUCKER2 (proposed) with standard HOSVD,\\nHOOI, GLRAM, PCA, L1-PCA, and TPCA-L1. Our studies show that L1-TUCKER2\\noutperforms (in tensor approximation) all the above counterparts when the\\nprocessed data are outlier corrupted.\\n',\n",
            "       b'Reduced Electron Exposure for Energy-Dispersive Spectroscopy using Dynamic Sampling  Analytical electron microscopy and spectroscopy of biological specimens,\\npolymers, and other beam sensitive materials has been a challenging area due to\\nirradiation damage. There is a pressing need to develop novel imaging and\\nspectroscopic imaging methods that will minimize such sample damage as well as\\nreduce the data acquisition time. The latter is useful for high-throughput\\nanalysis of materials structure and chemistry. In this work, we present a novel\\nmachine learning based method for dynamic sparse sampling of EDS data using a\\nscanning electron microscope. Our method, based on the supervised learning\\napproach for dynamic sampling algorithm and neural networks based\\nclassification of EDS data, allows a dramatic reduction in the total sampling\\nof up to 90%, while maintaining the fidelity of the reconstructed elemental\\nmaps and spectroscopic data. We believe this approach will enable imaging and\\nelemental mapping of materials that would otherwise be inaccessible to these\\nanalysis techniques.\\n',\n",
            "       b'On Statistical Optimality of Variational Bayes  The article addresses a long-standing open problem on the justification of\\nusing variational Bayes methods for parameter estimation. We provide general\\nconditions for obtaining optimal risk bounds for point estimates acquired from\\nmean-field variational Bayesian inference. The conditions pertain to the\\nexistence of certain test functions for the distance metric on the parameter\\nspace and minimal assumptions on the prior. A general recipe for verification\\nof the conditions is outlined which is broadly applicable to existing Bayesian\\nmodels with or without latent variables. As illustrations, specific\\napplications to Latent Dirichlet Allocation and Gaussian mixture models are\\ndiscussed.\\n',\n",
            "       b'Large polaron evolution in anatase TiO2 due to carrier and temperature dependence of electron-phonon coupling  The electronic and magneto transport properties of reduced anatase TiO2\\nepitaxial thin films are analyzed considering various polaronic effects.\\nUnexpectedly, with increasing carrier concentration, the mobility increases,\\nwhich rarely happens in common metallic systems. We find that the screening of\\nthe electron-phonon (e-ph) coupling by excess carriers is necessary to explain\\nthis unusual dependence. We also find that the magnetoresistance (MR) could be\\ndecomposed into a linear and a quadratic component, separately characterizing\\nthe transport and trap behavior of carriers as a function of temperature. The\\nvarious transport behaviors could be organized into a single phase diagram\\nwhich clarifies the nature of large polaron in this material.\\n',\n",
            "       b\"Einstein's accelerated reference systems and Fermi-Walker coordinates  We show that the uniformly accelerated reference systems proposed by Einstein\\nwhen introducing acceleration in the theory of relativity are Fermi-Walker\\ncoordinate systems. We then consider more general accelerated motions and, on\\nthe one hand we obtain Thomas precession and, on the other, we prove that the\\nonly accelerated reference systems that at any time admit an instantaneously\\ncomoving inertial system belong necessarily to the Fermi-Walker class.\\n\",\n",
            "       b'Comments on the National Toxicology Program Report on Cancer, Rats and Cell Phone Radiation  With the National Toxicology Program issuing its final report on cancer, rats\\nand cell phone radiation, one can draw the following conclusions from their\\ndata. There is a roughly linear relationship between gliomas (brain cancers)\\nand schwannomas (cancers of the nerve sheaths around the heart) with increased\\nabsorption of 900 MHz radiofrequency radiation for male rats. The rate of these\\ncancers in female rats is about one third the rate in male rats; the rate of\\ngliomas in female humans is about two thirds the rate in male humans. Both of\\nthese observations can be explained by a decrease in sensitivity to chemical\\ncarcinogenesis in both female rats and female humans. The increase in male rat\\nlife spans with increased radiofrequency absorption is due to a reduction in\\nkidney failure from a decrease in food intake. No such similar increase in the\\nlife span of humans who use cell phones is expected.\\n',\n",
            "       b'Hybrid quantum-classical modeling of quantum dot devices  The design of electrically driven quantum dot devices for quantum optical\\napplications asks for modeling approaches combining classical device physics\\nwith quantum mechanics. We connect the well-established fields of\\nsemi-classical semiconductor transport theory and the theory of open quantum\\nsystems to meet this requirement. By coupling the van Roosbroeck system with a\\nquantum master equation in Lindblad form, we introduce a new hybrid\\nquantum-classical modeling approach, which provides a comprehensive description\\nof quantum dot devices on multiple scales: It enables the calculation of\\nquantum optical figures of merit and the spatially resolved simulation of the\\ncurrent flow in realistic semiconductor device geometries in a unified way. We\\nconstruct the interface between both theories in such a way, that the resulting\\nhybrid system obeys the fundamental axioms of (non-)equilibrium thermodynamics.\\nWe show that our approach guarantees the conservation of charge, consistency\\nwith the thermodynamic equilibrium and the second law of thermodynamics. The\\nfeasibility of the approach is demonstrated by numerical simulations of an\\nelectrically driven single-photon source based on a single quantum dot in the\\nstationary and transient operation regime.\\n',\n",
            "       b'Nondestructive testing of grating imperfections using grating-based X-ray phase-contrast imaging  We reported the usage of grating-based X-ray phase-contrast imaging in\\nnondestructive testing of grating imperfections. It was found that\\nelectroplating flaws could be easily detected by conventional absorption\\nsignal, and in particular, we observed that the grating defects resulting from\\nuneven ultraviolet exposure could be clearly discriminated with phase-contrast\\nsignal. The experimental results demonstrate that grating-based X-ray\\nphase-contrast imaging, with a conventional low-brilliance X-ray source, a\\nlarge field of view and a reasonable compact setup, which simultaneously yields\\nphase- and attenuation-contrast signal of the sample, can be ready-to-use in\\nfast nondestructive testing of various imperfections in gratings and other\\nsimilar photoetching products.\\n',\n",
            "       b'Approximation Schemes for Clustering with Outliers  Clustering problems are well-studied in a variety of fields such as data\\nscience, operations research, and computer science. Such problems include\\nvariants of centre location problems, $k$-median, and $k$-means to name a few.\\nIn some cases, not all data points need to be clustered; some may be discarded\\nfor various reasons.\\nWe study clustering problems with outliers. More specifically, we look at\\nUncapacitated Facility Location (UFL), $k$-Median, and $k$-Means. In UFL with\\noutliers, we have to open some centres, discard up to $z$ points of $\\\\cal X$\\nand assign every other point to the nearest open centre, minimizing the total\\nassignment cost plus centre opening costs. In $k$-Median and $k$-Means, we have\\nto open up to $k$ centres but there are no opening costs. In $k$-Means, the\\ncost of assigning $j$ to $i$ is $\\\\delta^2(j,i)$. We present several results.\\nOur main focus is on cases where $\\\\delta$ is a doubling metric or is the\\nshortest path metrics of graphs from a minor-closed family of graphs. For\\nuniform-cost UFL with outliers on such metrics we show that a multiswap simple\\nlocal search heuristic yields a PTAS. With a bit more work, we extend this to\\nbicriteria approximations for the $k$-Median and $k$-Means problems in the same\\nmetrics where, for any constant $\\\\epsilon > 0$, we can find a solution using\\n$(1+\\\\epsilon)k$ centres whose cost is at most a $(1+\\\\epsilon)$-factor of the\\noptimum and uses at most $z$ outliers. We also show that natural local search\\nheuristics that do not violate the number of clusters and outliers for\\n$k$-Median (or $k$-Means) will have unbounded gap even in Euclidean metrics.\\nFurthermore, we show how our analysis can be extended to general metrics for\\n$k$-Means with outliers to obtain a $(25+\\\\epsilon,1+\\\\epsilon)$ bicriteria.\\n',\n",
            "       b'Asymptotics of ABC  We present an informal review of recent work on the asymptotics of\\nApproximate Bayesian Computation (ABC). In particular we focus on how does the\\nABC posterior, or point estimates obtained by ABC, behave in the limit as we\\nhave more data? The results we review show that ABC can perform well in terms\\nof point estimation, but standard implementations will over-estimate the\\nuncertainty about the parameters. If we use the regression correction of\\nBeaumont et al. then ABC can also accurately quantify this uncertainty. The\\ntheoretical results also have practical implications for how to implement ABC.\\n',\n",
            "       b'Learning best K analogies from data distribution for case-based software effort estimation  Case-Based Reasoning (CBR) has been widely used to generate good software\\neffort estimates. The predictive performance of CBR is a dataset dependent and\\nsubject to extremely large space of configuration possibilities. Regardless of\\nthe type of adaptation technique, deciding on the optimal number of similar\\ncases to be used before applying CBR is a key challenge. In this paper we\\npropose a new technique based on Bisecting k-medoids clustering algorithm to\\nbetter understanding the structure of a dataset and discovering the the optimal\\ncases for each individual project by excluding irrelevant cases. Results\\nobtained showed that understanding of the data characteristic prior prediction\\nstage can help in automatically finding the best number of cases for each test\\nproject. Performance figures of the proposed estimation method are better than\\nthose of other regular K-based CBR methods.\\n',\n",
            "       b'A partial converse to the Andreotti-Grauert theorem  Let $X$ be a smooth projective manifold with $\\\\dim_\\\\mathbb{C} X=n$. We show\\nthat if a line bundle $L$ is $(n-1)$-ample, then it is $(n-1)$-positive. This\\nis a partial converse to the Andreotti-Grauert theorem. As an application, we\\nshow that a projective manifold $X$ is uniruled if and only if there exists a\\nHermitian metric $\\\\omega$ on $X$ such that its Ricci curvature\\n$\\\\mathrm{Ric}(\\\\omega)$ has at least one positive eigenvalue everywhere.\\n',\n",
            "       b'Linear Parameter Varying Representation of a class of MIMO Nonlinear Systems  Linear parameter-varying (LPV) models form a powerful model class to analyze\\nand control a (nonlinear) system of interest. Identifying an LPV model of a\\nnonlinear system can be challenging due to the difficulty of selecting the\\nscheduling variable(s) a priori, especially if a first principles based\\nunderstanding of the system is unavailable. Converting a nonlinear model to an\\nLPV form is also non-trivial and requires systematic methods to automate the\\nprocess.\\nInspired by these challenges, a systematic LPV embedding approach starting\\nfrom multiple-input multiple-output (MIMO) linear fractional representations\\nwith a nonlinear feedback block (NLFR) is proposed. This NLFR model class is\\nembedded into the LPV model class by an automated factorization of the\\n(possibly MIMO) static nonlinear block present in the model. As a result of the\\nfactorization, an LPV-LFR or an LPV state-space model with affine dependency on\\nthe scheduling is obtained. This approach facilitates the selection of the\\nscheduling variable and the connected mapping of system variables. Such a\\nconversion method enables to use nonlinear identification tools to estimate LPV\\nmodels.\\nThe potential of the proposed approach is illustrated on a 2-DOF nonlinear\\nmass-spring-damper example.\\n',\n",
            "       b'Efficient Principal Subspace Projection of Streaming Data Through Fast Similarity Matching  Big data problems frequently require processing datasets in a streaming\\nfashion, either because all data are available at once but collectively are\\nlarger than available memory or because the data intrinsically arrive one data\\npoint at a time and must be processed online. Here, we introduce a\\ncomputationally efficient version of similarity matching, a framework for\\nonline dimensionality reduction that incrementally estimates the top\\nK-dimensional principal subspace of streamed data while keeping in memory only\\nthe last sample and the current iterate. To assess the performance of our\\napproach, we construct and make public a test suite containing both a synthetic\\ndata generator and the infrastructure to test online dimensionality reduction\\nalgorithms on real datasets, as well as performant implementations of our\\nalgorithm and competing algorithms with similar aims. Among the algorithms\\nconsidered we find our approach to be competitive, performing among the best on\\nboth synthetic and real data.\\n',\n",
            "       b'Robust Task Clustering for Deep Many-Task Learning  We investigate task clustering for deep-learning based multi-task and\\nfew-shot learning in a many-task setting. We propose a new method to measure\\ntask similarities with cross-task transfer performance matrix for the deep\\nlearning scenario. Although this matrix provides us critical information\\nregarding similarity between tasks, its asymmetric property and unreliable\\nperformance scores can affect conventional clustering methods adversely.\\nAdditionally, the uncertain task-pairs, i.e., the ones with extremely\\nasymmetric transfer scores, may collectively mislead clustering algorithms to\\noutput an inaccurate task-partition. To overcome these limitations, we propose\\na novel task-clustering algorithm by using the matrix completion technique. The\\nproposed algorithm constructs a partially-observed similarity matrix based on\\nthe certainty of cluster membership of the task-pairs. We then use a matrix\\ncompletion algorithm to complete the similarity matrix. Our theoretical\\nanalysis shows that under mild constraints, the proposed algorithm will\\nperfectly recover the underlying \"true\" similarity matrix with a high\\nprobability. Our results show that the new task clustering method can discover\\ntask clusters for training flexible and superior neural network models in a\\nmulti-task learning setup for sentiment classification and dialog intent\\nclassification tasks. Our task clustering approach also extends metric-based\\nfew-shot learning methods to adapt multiple metrics, which demonstrates\\nempirical advantages when the tasks are diverse.\\n',\n",
            "       b'Spin-wave propagation in cubic anisotropic materials  The information carrier of modern technologies is the electron charge whose\\ntransport inevitably generates Joule heating. Spin-waves, the collective\\nprecessional motion of electron spins, do not involve moving charges and thus\\navoid Joule heating. In this respect, magnonic devices in which the information\\nis carried by spin-waves attract interest for low-power computing. However\\nimplementation of magnonic devices for practical use suffers from low spin-wave\\nsignal and on/off ratio. Here we demonstrate that cubic anisotropic materials\\ncan enhance spin-wave signals by improving spin-wave amplitude as well as group\\nvelocity and attenuation length. Furthermore, cubic anisotropic material shows\\nan enhanced on/off ratio through a laterally localized edge mode, which closely\\nmimics the gate-controlled conducting channel in traditional field-effect\\ntransistors. These attractive features of cubic anisotropic materials will\\ninvigorate magnonics research towards wave-based functional devices.\\n',\n",
            "       b'Caching Meets Millimeter Wave Communications for Enhanced Mobility Management in 5G Networks  One of the most promising approaches to overcome the uncertainty and dynamic\\nchannel variations of millimeter wave (mmW) communications is to deploy\\ndual-mode base stations that integrate both mmW and microwave ($\\\\mu$W)\\nfrequencies. If properly designed, such dual-mode base stations can enhance\\nmobility and handover in highly mobile wireless environments. In this paper, a\\nnovel approach for analyzing and managing mobility in joint $\\\\mu$W-mmW networks\\nis proposed. The proposed approach leverages device-level caching along with\\nthe capabilities of dual-mode base stations to minimize handover failures,\\nreduce inter-frequency measurement energy consumption, and provide seamless\\nmobility in emerging dense heterogeneous networks. First, fundamental results\\non the caching capabilities, including caching probability and cache duration\\nare derived for the proposed dual-mode network scenario. Second, the average\\nachievable rate of caching is derived for mobile users. Third, the proposed\\ncache-enabled mobility management problem is formulated as a dynamic matching\\ngame between mobile user equipments (MUEs) and small base stations (SBSs). The\\ngoal of this game is to find a distributed handover mechanism that subject to\\nthe network constraints on HOFs and limited cache sizes, allows each MUE to\\nchoose between executing an HO to a target SBS, being connected to the\\nmacrocell base station (MBS), or perform a transparent HO by using the cached\\ncontent. The formulated matching game allows capturing the dynamics of the\\nmobility management problem caused by HOFs. To solve this dynamic matching\\nproblem, a novel algorithm is proposed and its convergence to a two-sided\\ndynamically stable HO policy is proved. Numerical results corroborate the\\nanalytical derivations and show that the proposed solution will provides\\nsignificant reductions in both the HOF and energy consumption by MUEs.\\n',\n",
            "       b'Searching for axion stars and Q-balls with a terrestrial magnetometer network  Light (pseudo-)scalar fields are promising candidates to be the dark matter\\nin the Universe. Under certain initial conditions in the early Universe and/or\\nwith certain types of self-interactions, they can form compact dark-matter\\nobjects such as axion stars or Q-balls. Direct encounters with such objects can\\nbe searched for by using a global network of atomic magnetometers. It is shown\\nthat for a range of masses and radii not ruled out by existing observations,\\nthe terrestrial encounter rate with axion stars or Q-balls can be sufficiently\\nhigh (at least once per year) for a detection. Furthermore, it is shown that a\\nglobal network of atomic magnetometers is sufficiently sensitive to\\npseudoscalar couplings to atomic spins so that a transit through an axion star\\nor Q-ball could be detected over a broad range of unexplored parameter space.\\n',\n",
            "       b\"Facebook's gender divide  Online social media are information resources that can have a transformative\\npower in society. While the Web was envisioned as an equalizing force that\\nallows everyone to access information, the digital divide prevents large\\namounts of people from being present online. Online social media in particular\\nare prone to gender inequality, an important issue given the link between\\nsocial media use and employment. Understanding gender inequality in social\\nmedia is a challenging task due to the necessity of data sources that can\\nprovide unbiased measurements across multiple countries. Here we show how the\\nFacebook Gender Divide (FGD), a metric based on a dataset including more than\\n1.4 Billion users in 217 countries, explains various aspects of worldwide\\ngender inequality. Our analysis shows that the FGD encodes gender equality\\nindices in education, health, and economic opportunity. We find network effects\\nthat suggest that using social media has an added value for women. Furthermore,\\nwe find that low values of the FGD precede the approach of countries towards\\neconomic gender equality. Our results suggest that online social networks,\\nwhile suffering evident gender imbalance, may lower the barriers that women\\nhave to access informational resources and help to narrow the economic gender\\ngap.\\n\",\n",
            "       b'Coherent single-atom superradiance  Quantum effects, prevalent in the microscopic scale, generally elusive in\\nmacroscopic systems due to dissipation and decoherence. Quantum phenomena in\\nlarge systems emerge only when particles are strongly correlated as in\\nsuperconductors and superfluids. Cooperative interaction of correlated atoms\\nwith electromagnetic fields leads to superradiance, the enhanced quantum\\nradiation phenomenon, exhibiting novel physics such as quantum Dicke phase and\\nultranarrow linewidth for optical clocks. Recent researches to imprint atomic\\ncorrelation directly demonstrated controllable collective atom-field\\ninteractions. Here, we report cavity-mediated coherent single-atom\\nsuperradiance. Single atoms with predefined correlation traverse a high-Q\\ncavity one by one, emitting photons cooperatively with the atoms already gone\\nthrough the cavity. Such collective behavior of time-separated atoms is\\nmediated by the long-lived cavity field. As a result, a coherent field is\\ngenerated in the steady state, whose intensity varies as the square of the\\nnumber of traversing atoms during the cavity decay time, exhibiting more than\\nten-fold enhancement from noncollective cases. The correlation among single\\natoms is prepared with the aligned atomic phase achieved by nanometer-precision\\nposition control of atoms with a nanohole-array aperture. The present work\\ndeepens our understanding of the collective matter-light interaction and\\nprovides an advanced platform for phase-controlled atom-field interactions.\\n',\n",
            "       b'Killing Three Birds with one Gaussian Process: Analyzing Attack Vectors on Classification  The wide usage of Machine Learning (ML) has lead to research on the attack\\nvectors and vulnerability of these systems. The defenses in this area are\\nhowever still an open problem, and often lead to an arms race. We define a\\nnaive, secure classifier at test time and show that a Gaussian Process (GP) is\\nan instance of this classifier given two assumptions: one concerns the\\ndistances in the training data, the other rejection at test time. Using these\\nassumptions, we are able to show that a classifier is either secure, or\\ngeneralizes and thus learns. Our analysis also points towards another factor\\ninfluencing robustness, the curvature of the classifier. This connection is not\\nunknown for linear models, but GP offer an ideal framework to study this\\nrelationship for nonlinear classifiers. We evaluate on five security and two\\ncomputer vision datasets applying test and training time attacks and membership\\ninference. We show that we only change which attacks are needed to succeed,\\ninstead of alleviating the threat. Only for membership inference, there is a\\nsetting in which attacks are unsuccessful (<10% increase in accuracy over\\nrandom guess). Given these results, we define a classification scheme based on\\nvoting, ParGP. This allows us to decide how many points vote and how large the\\nagreement on a class has to be. This ensures a classification output only in\\ncases when there is evidence for a decision, where evidence is parametrized. We\\nevaluate this scheme and obtain promising results.\\n',\n",
            "       b\"Wide Binaries in Tycho-{\\\\it Gaia}: Search Method and the Distribution of Orbital Separations  We mine the Tycho-{\\\\it Gaia} astrometric solution (TGAS) catalog for wide\\nstellar binaries by matching positions, proper motions, and astrometric\\nparallaxes. We separate genuine binaries from unassociated stellar pairs\\nthrough a Bayesian formulation that includes correlated uncertainties in the\\nproper motions and parallaxes. Rather than relying on assumptions about the\\nstructure of the Galaxy, we calculate Bayesian priors and likelihoods based on\\nthe nature of Keplerian orbits and the TGAS catalog itself. We calibrate our\\nmethod using radial velocity measurements and obtain 6196 high-confidence\\ncandidate wide binaries with projected separations $s\\\\lesssim1$ pc. The\\nnormalization of this distribution suggests that at least 0.6\\\\% of TGAS stars\\nhave an associated, distant TGAS companion in a wide binary. We demonstrate\\nthat {\\\\it Gaia}'s astrometry is precise enough that it can detect projected\\norbital velocities in wide binaries with orbital periods as large as 10$^6$ yr.\\nFor pairs with $s\\\\ \\\\lesssim\\\\ 4\\\\times10^4$~AU, characterization of random\\nalignments indicate our contamination to be $\\\\approx$5\\\\%. For $s \\\\lesssim\\n5\\\\times10^3$~AU, our distribution is consistent with \\xc3\\x96pik's Law. At larger\\nseparations, the distribution is steeper and consistent with a power-law\\n$P(s)\\\\propto s^{-1.6}$; there is no evidence in our data of any bimodality in\\nthis distribution for $s \\\\lesssim$ 1 pc. Using radial velocities, we\\ndemonstrate that at large separations, i.e., of order $s \\\\sim$ 1 pc and beyond,\\nany potential sample of genuine wide binaries in TGAS cannot be easily\\ndistinguished from ionized former wide binaries, moving groups, or\\ncontamination from randomly aligned stars.\\n\",\n",
            "       b'Thermodynamic dislocation theory for non-uniform plastic deformations  The present paper extends the thermodynamic dislocation theory developed by\\nLanger, Bouchbinder, and Lookmann to non-uniform plastic deformations. The free\\nenergy density as well as the positive definite dissipation function are\\nproposed. The governing equations are derived from the variational equation. As\\nillustration, the problem of plane strain constrained shear of single crystal\\ndeforming in single slip is solved within the proposed theory.\\n',\n",
            "       b\"Influence of parameterized small-scale gravity waves on the migrating diurnal tide in Earth's thermosphere  Effects of subgrid-scale gravity waves (GWs) on the diurnal migrating tides\\nare investigated from the mesosphere to the upper thermosphere for September\\nequinox conditions, using a general circulation model coupled with the extended\\nspectral nonlinear GW parameterization of Yi\\xc4\\x9fit et al (2008). Simulations\\nwith GW effects cut-off above the turbopause and included in the entire\\nthermosphere have been conducted. GWs appreciably impact the mean circulation\\nand cool the thermosphere down by up to 12-18%. GWs significantly affect the\\nwinds modulated by the diurnal migrating tide, in particular in the\\nlow-latitude mesosphere and lower thermosphere and in the high-latitude\\nthermosphere. These effects depend on the mutual correlation of the diurnal\\nphases of the GW forcing and tides: GWs can either enhance or reduce the tidal\\namplitude. In the low-latitude MLT, the correlation between the direction of\\nthe deposited GW momentum and the tidal phase is positive due to propagation of\\na broad spectrum of GW harmonics through the alternating winds. In the Northern\\nHemisphere high-latitude thermosphere, GWs act against the tide due to an\\nanti-correlation of tidal wind and GW momentum, while in the Southern\\nhigh-latitudes they weakly enhance the tidal amplitude via a combination of a\\npartial correlation of phases and GW-induced changes of the circulation. The\\nvariable nature of GW effects on the thermal tide can be captured in GCMs\\nprovided that a GW parameterization (1) considers a broad spectrum of\\nharmonics, (2) properly describes their propagation, and (3) correctly accounts\\nfor the physics of wave breaking/saturation.\\n\",\n",
            "       b'On Sampling from Massive Graph Streams  We propose Graph Priority Sampling (GPS), a new paradigm for order-based\\nreservoir sampling from massive streams of graph edges. GPS provides a general\\nway to weight edge sampling according to auxiliary and/or size variables so as\\nto accomplish various estimation goals of graph properties. In the context of\\nsubgraph counting, we show how edge sampling weights can be chosen so as to\\nminimize the estimation variance of counts of specified sets of subgraphs. In\\ndistinction with many prior graph sampling schemes, GPS separates the functions\\nof edge sampling and subgraph estimation. We propose two estimation frameworks:\\n(1) Post-Stream estimation, to allow GPS to construct a reference sample of\\nedges to support retrospective graph queries, and (2) In-Stream estimation, to\\nallow GPS to obtain lower variance estimates by incrementally updating the\\nsubgraph count estimates during stream processing. Unbiasedness of subgraph\\nestimators is established through a new Martingale formulation of graph stream\\norder sampling, which shows that subgraph estimators, written as a product of\\nconstituent edge estimators are unbiased, even when computed at different\\npoints in the stream. The separation of estimation and sampling enables\\nsignificant resource savings relative to previous work. We illustrate our\\nframework with applications to triangle and wedge counting. We perform a\\nlarge-scale experimental study on real-world graphs from various domains and\\ntypes. GPS achieves high accuracy with less than 1% error for triangle and\\nwedge counting, while storing a small fraction of the graph with average update\\ntimes of a few microseconds per edge. Notably, for a large Twitter graph with\\nmore than 260M edges, GPS accurately estimates triangle counts with less than\\n1% error, while storing only 40K edges.\\n',\n",
            "       b'Learning Sparse Neural Networks through $L_0$ Regularization  We propose a practical method for $L_0$ norm regularization for neural\\nnetworks: pruning the network during training by encouraging weights to become\\nexactly zero. Such regularization is interesting since (1) it can greatly speed\\nup training and inference, and (2) it can improve generalization. AIC and BIC,\\nwell-known model selection criteria, are special cases of $L_0$ regularization.\\nHowever, since the $L_0$ norm of weights is non-differentiable, we cannot\\nincorporate it directly as a regularization term in the objective function. We\\npropose a solution through the inclusion of a collection of non-negative\\nstochastic gates, which collectively determine which weights to set to zero. We\\nshow that, somewhat surprisingly, for certain distributions over the gates, the\\nexpected $L_0$ norm of the resulting gated weights is differentiable with\\nrespect to the distribution parameters. We further propose the \\\\emph{hard\\nconcrete} distribution for the gates, which is obtained by \"stretching\" a\\nbinary concrete distribution and then transforming its samples with a\\nhard-sigmoid. The parameters of the distribution over the gates can then be\\njointly optimized with the original network parameters. As a result our method\\nallows for straightforward and efficient learning of model structures with\\nstochastic gradient descent and allows for conditional computation in a\\nprincipled way. We perform various experiments to demonstrate the effectiveness\\nof the resulting approach and regularizer.\\n',\n",
            "       b'Thermal distortions of non-Gaussian beams in Fabry-Perot cavities  Thermal effects are already important in currently operating interferometric\\ngravitational wave detectors. Planned upgrades of these detectors involve\\nincreasing optical power to combat quantum shot noise. We consider the\\nramifications of this increased power for one particular class of laser\\nbeams--wide, flat-topped, mesa beams. In particular we model a single mesa beam\\nFabry-Perot cavity having thermoelastically deformed mirrors. We calculate the\\nintensity profile of the fundamental cavity eigenmode in the presence of\\nthermal perturbations, and the associated changes in thermal noise. We also\\noutline an idealized method of correcting for such effects. At each stage we\\ncontrast our results with those of a comparable Gaussian beam cavity. Although\\nwe focus on mesa beams the techniques described are applicable to any\\nazimuthally symmetric system.\\n',\n",
            "       b'A sharpened Riesz-Sobolev inequality  The Riesz-Sobolev inequality provides an upper bound, in integral form, for\\nthe convolution of indicator functions of subsets of Euclidean space. We\\nformulate and prove a sharper form of the inequality. This can be equivalently\\nphrased as a stability result, quantifying an inverse theorem of Burchard that\\ncharacterizes cases of equality.\\n',\n",
            "       b'A pulsed, mono-energetic and angular-selective UV photo-electron source for the commissioning of the KATRIN experiment  The KATRIN experiment aims to determine the neutrino mass scale with a\\nsensitivity of 200 meV/c^2 (90% C.L.) by a precision measurement of the shape\\nof the tritium $\\\\beta$-spectrum in the endpoint region. The energy analysis of\\nthe decay electrons is achieved by a MAC-E filter spectrometer. To determine\\nthe transmission properties of the KATRIN main spectrometer, a mono-energetic\\nand angular-selective electron source has been developed. In preparation for\\nthe second commissioning phase of the main spectrometer, a measurement phase\\nwas carried out at the KATRIN monitor spectrometer where the device was\\noperated in a MAC-E filter setup for testing. The results of these measurements\\nare compared with simulations using the particle-tracking software\\n\"Kassiopeia\", which was developed in the KATRIN collaboration over recent\\nyears.\\n',\n",
            "       b\"Rate Optimal Binary Linear Locally Repairable Codes with Small Availability  A locally repairable code with availability has the property that every code\\nsymbol can be recovered from multiple, disjoint subsets of other symbols of\\nsmall size. In particular, a code symbol is said to have $(r,t)$-availability\\nif it can be recovered from $t$ disjoint subsets, each of size at most $r$. A\\ncode with availability is said to be 'rate-optimal', if its rate is maximum\\namong the class of codes with given locality, availability, and alphabet size.\\nThis paper focuses on rate-optimal binary, linear codes with small\\navailability, and makes four contributions. First, it establishes tight upper\\nbounds on the rate of binary linear codes with $(r,2)$ and $(2,3)$\\navailability. Second, it establishes a uniqueness result for binary\\nrate-optimal codes, showing that for certain classes of binary linear codes\\nwith $(r,2)$ and $(2,3)$-availability, any rate optimal code must be a direct\\nsum of shorter rate optimal codes. Third, it presents novel upper bounds on the\\nrates of binary linear codes with $(2,t)$ and $(r,3)$-availability. In\\nparticular, the main contribution here is a new method for bounding the number\\nof cosets of the dual of a code with availability, using its covering\\nproperties. Finally, it presents a class of locally repairable linear codes\\nassociated with convex polyhedra, focusing on the codes associated with the\\nPlatonic solids. It demonstrates that these codes are locally repairable with\\n$t = 2$, and that the codes associated with (geometric) dual polyhedra are\\n(coding theoretic) duals of each other.\\n\",\n",
            "       b'Diversification-Based Learning in Computing and Optimization  Diversification-Based Learning (DBL) derives from a collection of principles\\nand methods introduced in the field of metaheuristics that have broad\\napplications in computing and optimization. We show that the DBL framework goes\\nsignificantly beyond that of the more recent Opposition-based learning (OBL)\\nframework introduced in Tizhoosh (2005), which has become the focus of numerous\\nresearch initiatives in machine learning and metaheuristic optimization. We\\nunify and extend earlier proposals in metaheuristic search (Glover, 1997,\\nGlover and Laguna, 1997) to give a collection of approaches that are more\\nflexible and comprehensive than OBL for creating intensification and\\ndiversification strategies in metaheuristic search. We also describe potential\\napplications of DBL to various subfields of machine learning and optimization.\\n',\n",
            "       b'Secure communications with cooperative jamming: Optimal power allocation and secrecy outage analysis  This paper studies the secrecy rate maximization problem of a secure wireless\\ncommunication system, in the presence of multiple eavesdroppers. The security\\nof the communication link is enhanced through cooperative jamming, with the\\nhelp of multiple jammers. First, a feasibility condition is derived to achieve\\na positive secrecy rate at the destination. Then, we solve the original secrecy\\nrate maximization problem, which is not convex in terms of power allocation at\\nthe jammers. To circumvent this non-convexity, the achievable secrecy rate is\\napproximated for a given power allocation at the jammers and the approximated\\nproblem is formulated into a geometric programming one. Based on this\\napproximation, an iterative algorithm has been developed to obtain the optimal\\npower allocation at the jammers. Next, we provide a bisection approach, based\\non one-dimensional search, to validate the optimality of the proposed\\nalgorithm. In addition, by assuming Rayleigh fading, the secrecy outage\\nprobability (SOP) of the proposed cooperative jamming scheme is analyzed. More\\nspecifically, a single-integral form expression for SOP is derived for the most\\ngeneral case as well as a closed-form expression for the special case of two\\ncooperative jammers and one eavesdropper. Simulation results have been provided\\nto validate the convergence and the optimality of the proposed algorithm as\\nwell as the theoretical derivations of the presented SOP analysis.\\n',\n",
            "       b'End-of-Use Core Triage in Extreme Scenarios Based on a Threshold Approach  Remanufacturing is a significant factor in securing sustainability through a\\ncircular economy. Sorting plays a significant role in remanufacturing\\npre-processing inspections. Its significance can increase when remanufacturing\\nfacilities encounter extreme situations, such as abnormally huge core arrivals.\\nOur main objective in this work is switching from less efficient to a more\\nefficient model and to characterize extreme behavior of core arrival in\\nremanufacturing and applying the developed model to triage cores. Central\\ntendency core flow models are not sufficient to handle extreme situations,\\nhowever, complementary Extreme Value (EV) approaches have shown to improve\\nmodel efficiency. Extreme core flows to remanufacturing facilities are rare but\\nstill likely and can adversely affect remanufacturing business operations. In\\nthis investigation, extreme end-of-use core flow is modelled by a threshold\\napproach using the Generalized Pareto Distribution (GPD). It is shown that GPD\\nhas better performance than its maxima-block GEV counterpart from practical and\\ndata efficiency perspectives. The model is validated by a synthesized big\\ndataset, tested by sophisticated statistical Anderson Darling (AD) test, and is\\napplied to a case of extreme flow to a valve shop in order to predict\\nprobability of over-capacity arrivals that is critical in remanufacturing\\nbusiness management. Finally, the GPD model combined with triage strategies is\\nused to initiate investigations into the efficacy of different triage methods\\nin remanufacturing operations.\\n',\n",
            "       b'Adhesion-induced Discontinuous Transitions and Classifying Social Networks  Transition points mark qualitative changes in the macroscopic properties of\\nlarge complex systems. Explosive transitions, exhibiting properties of both\\ncontinuous and discontinuous phase transitions, have recently been uncovered in\\nnetwork growth processes. Real networks not only grow but often also\\nrestructure, yet common network restructuring processes, such as small world\\nrewiring, do not exhibit phase transitions. Here, we uncover a class of\\nintrinsically discontinuous transitions emerging in network restructuring\\nprocesses controlled by \\\\emph{adhesion} -- the preference of a chosen link to\\nremain connected to its end node. Deriving a master equation for the temporal\\nnetwork evolution and working out an analytic solution, we identify genuinely\\ndiscontinuous transitions in non-growing networks, separating qualitatively\\ndistinct phases with monotonic and with peaked degree distributions.\\nIntriguingly, our analysis of heuristic data indicates a separation between the\\nsame two forms of degree distributions distinguishing abstract from\\nface-to-face social networks.\\n',\n",
            "       b'Sparse Phase Retrieval via Sparse PCA Despite Model Misspecification: A Simplified and Extended Analysis  We consider the problem of high-dimensional misspecified phase retrieval.\\nThis is where we have an $s$-sparse signal vector $\\\\mathbf{x}_*$ in\\n$\\\\mathbb{R}^n$, which we wish to recover using sampling vectors\\n$\\\\textbf{a}_1,\\\\ldots,\\\\textbf{a}_m$, and measurements $y_1,\\\\ldots,y_m$, which\\nare related by the equation $f(\\\\left<\\\\textbf{a}_i,\\\\textbf{x}_*\\\\right>) = y_i$.\\nHere, $f$ is an unknown link function satisfying a positive correlation with\\nthe quadratic function. This problem was analyzed in a recent paper by Neykov,\\nWang and Liu, who provided recovery guarantees for a two-stage algorithm with\\nsample complexity $m = O(s^2\\\\log n)$. In this paper, we show that the first\\nstage of their algorithm suffices for signal recovery with the same sample\\ncomplexity, and extend the analysis to non-Gaussian measurements. Furthermore,\\nwe show how the algorithm can be generalized to recover a signal vector\\n$\\\\textbf{x}_*$ efficiently given geometric prior information other than\\nsparsity.\\n',\n",
            "       b\"Dual Ore's theorem on distributive intervals of finite groups  This paper gives a self-contained group-theoretic proof of a dual version of\\na theorem of Ore on distributive intervals of finite groups. We deduce a bridge\\nbetween combinatorics and representations in finite group theory.\\n\",\n",
            "       b'Herschel survey and modelling of externally-illuminated photoevaporating protoplanetary disks  Protoplanetary disks undergo substantial mass-loss by photoevaporation, a\\nmechanism which is crucial to their dynamical evolution. However, the processes\\nregulating the gas energetics have not been well constrained by observations so\\nfar. We aim at studying the processes involved in disk photoevaporation when it\\nis driven by far-UV photons. We present a unique Herschel survey and new ALMA\\nobservations of four externally-illuminated photoevaporating disks (a.k.a.\\nproplyds). For the analysis of these data, we developed a 1D model of the\\nphotodissociation region (PDR) of a proplyd, based on the Meudon PDR code and\\ncomputed the far infrared line emission. We successfully reproduce most of the\\nobservations and derive key physical parameters, i.e. densities at the disk\\nsurface of about $10^{6}$ cm$^{-3}$ and local gas temperatures of about 1000 K.\\nOur modelling suggests that all studied disks are found in a transitional\\nregime resulting from the interplay between several heating and cooling\\nprocesses that we identify. These differ from those dominating in classical\\nPDRs, i.e. grain photo-electric effect and cooling by [OI] and [CII] FIR lines.\\nThis energetic regime is associated to an equilibrium dynamical point of the\\nphotoevaporation flow: the mass-loss rate is self-regulated to set the envelope\\ncolumn density at a value that maintains the temperature at the disk surface\\naround 1000 K. From our best-fit models, we estimate mass-loss rates - of the\\norder of $10^{-7}$ $\\\\mathrm{M}_\\\\odot$/yr - that are in agreement with earlier\\nspectroscopic observation of ionised gas tracers. This holds only if we assume\\nan evaporation flow launched from the disk surface at sound speed\\n(supercritical regime). We have identified the energetic regime regulating\\nFUV-photoevaporation in proplyds. This regime could be implemented into models\\nof the dynamical evolution of protoplanetary disks.\\n',\n",
            "       b'Mechanical Instability Leading Epithelial Cell Delamination  We theoretically investigate the mechanical stability of three-dimensional\\n(3D) foam geometry in a cell sheet and apply its understandings to epithelial\\nintegrity and cell delamination. Analytical calculations revealed that the\\nmonolayer integrity of cell sheet is lost to delamination by a spontaneous\\nsymmetry breaking, inherently depending on the 3D foam geometry of cells; i.e.,\\nthe instability spontaneously appears when the cell density in the sheet plane\\nincreases and/or when the number of neighboring cells decreases, as observed in\\nvivo. The instability is also facilitated by the delaminated cell-specific\\nforce generation upon lateral surfaces, which are driven by cell-intrinsic\\ngenetic programs during cell invasion and apoptosis in physiology. In\\nprinciple, this instability emerges from the force balance on the lateral\\nboundaries among cells. Additionally, taking into account the cell-intrinsic\\nforce generation on apical and basal sides, which are also broadly observed in\\nmorphogenesis, homeostasis, and carcinogenesis, we found apically/basally\\ndirected cell delaminations and pseudostratified structures, which could\\nuniversally explain mechanical regulations of epithelial geometries in both\\nphysiology and pathophysiology.\\n',\n",
            "       b'Weyl calculus with respect to the Gaussian measure and restricted $L^p$-$L^q$ boundedness of the Ornstein-Uhlenbeck semigroup in complex time  In this paper, we introduce a Weyl functional calculus $a \\\\mapsto a(Q,P)$ for\\nthe position and momentum operators $Q$ and $P$ associated with the\\nOrnstein-Uhlenbeck operator $ L = -\\\\Delta + x\\\\cdot \\\\nabla$, and give a simple\\ncriterion for restricted $L^p$-$L^q$ boundedness of operators in this\\nfunctional calculus. The analysis of this non-commutative functional calculus\\nis simpler than the analysis of the functional calculus of $L$. It allows us to\\nrecover, unify, and extend, old and new results concerning the boundedness of\\n$\\\\exp(-zL)$ as an operator from $L^p(\\\\mathbb{R}^d,\\\\gamma_{\\\\alpha})$ to\\n$L^q(\\\\mathbb{R}^d,\\\\gamma_{\\\\beta})$ for suitable values of $z\\\\in \\\\mathbb{C}$\\nwith $\\\\Re z>0$, $p,q\\\\in [1,\\\\infty)$, and $\\\\alpha,\\\\beta>0$. Here, $\\\\gamma_\\\\tau$\\ndenotes the centred Gaussian measure on $\\\\mathbb{R}^d$ with density\\n$(2\\\\pi\\\\tau)^{-d/2}\\\\exp(-|x|^2/2\\\\tau)$.\\n',\n",
            "       b'Linear density-based clustering with a discrete density model  Density-based clustering techniques are used in a wide range of data mining\\napplications. One of their most attractive features con- sists in not making\\nuse of prior knowledge of the number of clusters that a dataset contains along\\nwith their shape. In this paper we propose a new algorithm named Linear DBSCAN\\n(Lin-DBSCAN), a simple approach to clustering inspired by the density model\\nintroduced with the well known algorithm DBSCAN. Designed to minimize the\\ncomputational cost of density based clustering on geospatial data, Lin-DBSCAN\\nfeatures a linear time complexity that makes it suitable for real-time\\napplications on low-resource devices. Lin-DBSCAN uses a discrete version of the\\ndensity model of DBSCAN that takes ad- vantage of a grid-based scan and merge\\napproach. The name of the algorithm stems exactly from its main features\\noutlined above. The algorithm was tested with well known data sets.\\nExperimental results prove the efficiency and the validity of this approach\\nover DBSCAN in the context of spatial data clustering, enabling the use of a\\ndensity-based clustering technique on large datasets with low computational\\ncost.\\n',\n",
            "       b'Deep adversarial neural decoding  Here, we present a novel approach to solve the problem of reconstructing\\nperceived stimuli from brain responses by combining probabilistic inference\\nwith deep learning. Our approach first inverts the linear transformation from\\nlatent features to brain responses with maximum a posteriori estimation and\\nthen inverts the nonlinear transformation from perceived stimuli to latent\\nfeatures with adversarial training of convolutional neural networks. We test\\nour approach with a functional magnetic resonance imaging experiment and show\\nthat it can generate state-of-the-art reconstructions of perceived faces from\\nbrain activations.\\n',\n",
            "       b'Structured Black Box Variational Inference for Latent Time Series Models  Continuous latent time series models are prevalent in Bayesian modeling;\\nexamples include the Kalman filter, dynamic collaborative filtering, or dynamic\\ntopic models. These models often benefit from structured, non mean field\\nvariational approximations that capture correlations between time steps. Black\\nbox variational inference with reparameterization gradients (BBVI) allows us to\\nexplore a rich new class of Bayesian non-conjugate latent time series models;\\nhowever, a naive application of BBVI to such structured variational models\\nwould scale quadratically in the number of time steps. We describe a BBVI\\nalgorithm analogous to the forward-backward algorithm which instead scales\\nlinearly in time. It allows us to efficiently sample from the variational\\ndistribution and estimate the gradients of the ELBO. Finally, we show results\\non the recently proposed dynamic word embedding model, which was trained using\\nour method.\\n',\n",
            "       b'Second-Order Optimization for Non-Convex Machine Learning: An Empirical Study  While first-order optimization methods such as stochastic gradient descent\\n(SGD) are popular in machine learning (ML), they come with well-known\\ndeficiencies, including relatively-slow convergence, sensitivity to the\\nsettings of hyper-parameters such as learning rate, stagnation at high training\\nerrors, and difficulty in escaping flat regions and saddle points. These issues\\nare particularly acute in highly non-convex settings such as those arising in\\nneural networks. Motivated by this, there has been recent interest in\\nsecond-order methods that aim to alleviate these shortcomings by capturing\\ncurvature information. In this paper, we report detailed empirical evaluations\\nof a class of Newton-type methods, namely sub-sampled variants of trust region\\n(TR) and adaptive regularization with cubics (ARC) algorithms, for non-convex\\nML problems. In doing so, we demonstrate that these methods not only can be\\ncomputationally competitive with hand-tuned SGD with momentum, obtaining\\ncomparable or better generalization performance, but also they are highly\\nrobust to hyper-parameter settings. Further, in contrast to SGD with momentum,\\nwe show that the manner in which these Newton-type methods employ curvature\\ninformation allows them to seamlessly escape flat regions and saddle points.\\n',\n",
            "       b'Biologically inspired protection of deep networks from adversarial attacks  Inspired by biophysical principles underlying nonlinear dendritic computation\\nin neural circuits, we develop a scheme to train deep neural networks to make\\nthem robust to adversarial attacks. Our scheme generates highly nonlinear,\\nsaturated neural networks that achieve state of the art performance on gradient\\nbased adversarial examples on MNIST, despite never being exposed to\\nadversarially chosen examples during training. Moreover, these networks exhibit\\nunprecedented robustness to targeted, iterative schemes for generating\\nadversarial examples, including second-order methods. We further identify\\nprinciples governing how these networks achieve their robustness, drawing on\\nmethods from information geometry. We find these networks progressively create\\nhighly flat and compressed internal representations that are sensitive to very\\nfew input dimensions, while still solving the task. Moreover, they employ\\nhighly kurtotic weight distributions, also found in the brain, and we\\ndemonstrate how such kurtosis can protect even linear classifiers from\\nadversarial attack.\\n',\n",
            "       b'X-Cube Fracton Model on Generic Lattices: Phases and Geometric Order  Fracton order is a new kind of quantum order characterized by topological\\nexcitations that exhibit remarkable mobility restrictions and a robust ground\\nstate degeneracy (GSD) which can increase exponentially with system size. In\\nthis paper, we present a generic lattice construction (in three dimensions) for\\na generalized X-cube model of fracton order, where the mobility restrictions of\\nthe subdimensional particles inherit the geometry of the lattice. This helps\\nexplain a previous result that lattice curvature can produce a robust GSD, even\\non a manifold with trivial topology. We provide explicit examples to show that\\nthe (zero temperature) phase of matter is sensitive to the lattice geometry. In\\none example, the lattice geometry confines the dimension-1 particles to small\\nloops, which allows the fractons to be fully mobile charges, and the resulting\\nphase is equivalent to (3+1)-dimensional toric code. However, the phase is\\nsensitive to more than just lattice curvature; different lattices without\\ncurvature (e.g. cubic or stacked kagome lattices) also result in different\\nphases of matter, which are separated by phase transitions. Unintuitively\\nhowever, according to a previous definition of phase [Chen, Gu, Wen 2010], even\\njust a rotated or rescaled cubic lattice results in different phases of matter,\\nwhich motivates us to propose a new and coarser definition of phase for gapped\\nground states and fracton order. The new equivalence relation between ground\\nstates is given by the composition of a local unitary transformation and a\\nquasi-isometry (which can rotate and rescale the lattice); equivalently, ground\\nstates are in the same phase if they can be adiabatically connected by varying\\nboth the Hamiltonian and the positions of the degrees of freedom (via a\\nquasi-isometry). In light of the importance of geometry, we further propose\\nthat fracton orders should be regarded as a geometric order.\\n',\n",
            "       b'The Second Postulate of Euclid and the Hyperbolic Geometry  The article deals with the connection between the second postulate of Euclid\\nand non-Euclidean geometry. It is shown that the violation of the second\\npostulate of Euclid inevitably leads to hyperbolic geometry. This eliminates\\nmisunderstandings about the sums of some divergent series. The connection\\nbetween hyperbolic geometry and relativistic computations is noted.\\n',\n",
            "       b'Super cavity solitons and the coexistence of multiple nonlinear states in a tristable passive Kerr resonator  Passive Kerr cavities driven by coherent laser fields display a rich\\nlandscape of nonlinear physics, including bistability, pattern formation, and\\nlocalised dissipative structures (solitons). Their conceptual simplicity has\\nfor several decades offered an unprecedented window into nonlinear cavity\\ndynamics, providing insights into numerous systems and applications ranging\\nfrom all-optical memory devices to microresonator frequency combs. Yet despite\\nthe decades of study, a recent theoretical study has surprisingly alluded to an\\nentirely new and unexplored paradigm in the regime where nonlinearly tilted\\ncavity resonances overlap with one another [T. Hansson and S. Wabnitz, J. Opt.\\nSoc. Am. B 32, 1259 (2015)]. We have used synchronously driven fiber ring\\nresonators to experimentally access this regime, and observed the rise of new\\nnonlinear dissipative states. Specifically, we have observed, for the first\\ntime to the best of our knowledge, the stable coexistence of dissipative\\n(cavity) solitons and extended modulation instability (Turing) patterns, and\\nperformed real time measurements that unveil the dynamics of the ensuing\\nnonlinear structures. When operating in the regime of continuous wave\\ntristability, we have further observed the coexistence of two distinct cavity\\nsoliton states, one of which can be identified as a \"super\" cavity soliton as\\npredicted by Hansson and Wabnitz. Our experimental findings are in excellent\\nagreement with theoretical analyses and numerical simulations of the\\ninfinite-dimensional Ikeda map that governs the cavity dynamics. The results\\nfrom our work reveal that experimental systems can support complex combinations\\nof distinct nonlinear states, and they could have practical implications to\\nfuture microresonator-based frequency comb sources.\\n',\n",
            "       b\"Second order structural phase transitions, free energy curvature, and temperature-dependent anharmonic phonons in the self-consistent harmonic approximation: theory and stochastic implementation  The self-consistent harmonic approximation is an effective harmonic theory to\\ncalculate the free energy of systems with strongly anharmonic atomic\\nvibrations, and its stochastic implementation has proved to be an efficient\\nmethod to study, from first-principles, the anharmonic properties of solids.\\nThe free energy as a function of average atomic positions (centroids) can be\\nused to study quantum or thermal lattice instability. In particular the\\ncentroids are order parameters in second-order structural phase transitions\\nsuch as, e.g., charge-density-waves or ferroelectric instabilities. According\\nto Landau's theory, the knowledge of the second derivative of the free energy\\n(i.e. the curvature) with respect to the centroids in a high-symmetry\\nconfiguration allows the identification of the phase-transition and of the\\ninstability modes. In this work we derive the exact analytic formula for the\\nsecond derivative of the free energy in the self-consistent harmonic\\napproximation for a generic atomic configuration. The analytic derivative is\\nexpressed in terms of the atomic displacements and forces in a form that can be\\nevaluated by a stochastic technique using importance sampling. Our approach is\\nparticularly suitable for applications based on first-principles\\ndensity-functional-theory calculations, where the forces on atoms can be\\nobtained with a negligible computational effort compared to total energy\\ndetermination. Finally we propose a dynamical extension of the theory to\\ncalculate spectral properties of strongly anharmonic phonons, as probed by\\ninelastic scattering processes. We illustrate our method with a numerical\\napplication on a toy model that mimics the ferroelectric transition in\\nrock-salt crystals such as SnTe or GeTe.\\n\",\n",
            "       b'Banach Algebra of Complex Bounded Radon Measures on Homogeneous Space  Let $ H $ be a compact subgroup of a locally compact group $G$. In this paper\\nwe define a convolution on $ M(G/H) $, the space of all complex bounded Radon\\nmeasures on the homogeneous space G/H. Then we prove that the measure space $\\nM(G/H, *) $ is a non-unital Banach algebra that possesses an approximate\\nidentity. Finally, it is shown that the Banach algebra $ M(G/H, *) $ is not\\ninvolutive and also $ L^1(G/H, *) $ is a two-sided ideal of it.\\n',\n",
            "       b'Sterile Neutrinos and B-L Symmetry  We revisit the relation between the neutrino masses and the spontaneous\\nbreaking of the B-L gauge symmetry. We discuss the main scenarios for Dirac and\\nMajorana neutrinos and point out two simple mechanisms for neutrino masses. In\\nthis context the neutrino masses can be generated either at tree level or at\\nquantum level and one predicts the existence of very light sterile neutrinos\\nwith masses below the eV scale. The predictions for lepton number violating\\nprocesses such as mu to e and mu to e gamma are discussed in detail. The impact\\nfrom the cosmological constraints on the effective number of relativistic\\ndegree of freedom is investigated.\\n',\n",
            "       b'Type-II Dirac Photons  The Dirac equation for relativistic electron waves is the parent model for\\nWeyl and Majorana fermions as well as topological insulators. Simulation of\\nDirac physics in three-dimensional photonic crystals, though fundamentally\\nimportant for topological phenomena at optical frequencies, encounters the\\nchallenge of synthesis of both Kramers double degeneracy and parity inversion.\\nHere we show how type-II Dirac points---exotic Dirac relativistic waves yet to\\nbe discovered---are robustly realized through the nonsymmorphic screw symmetry.\\nThe emergent type-II Dirac points carry nontrivial topology and are the mother\\nstates of type-II Weyl points. The proposed all-dielectric architecture enables\\nrobust cavity states at photonic-crystal---air interfaces and anomalous\\nrefraction, with very low energy dissipation.\\n',\n",
            "       b'Towards a Deep Improviser: a prototype deep learning post-tonal free music generator  Two modest-sized symbolic corpora of post-tonal and post-metric keyboard\\nmusic have been constructed, one algorithmic, the other improvised. Deep\\nlearning models of each have been trained and largely optimised. Our purpose is\\nto obtain a model with sufficient generalisation capacity that in response to a\\nsmall quantity of separate fresh input seed material, it can generate outputs\\nthat are distinctive, rather than recreative of the learned corpora or the seed\\nmaterial. This objective has been first assessed statistically, and as judged\\nby k-sample Anderson-Darling and Cramer tests, has been achieved. Music has\\nbeen generated using the approach, and informal judgements place it roughly on\\na par with algorithmic and composed music in related forms. Future work will\\naim to enhance the model such that it can be evaluated in relation to\\nexpression, meaning and utility in real-time performance.\\n',\n",
            "       b'Distributional Adversarial Networks  We propose a framework for adversarial training that relies on a sample\\nrather than a single sample point as the fundamental unit of discrimination.\\nInspired by discrepancy measures and two-sample tests between probability\\ndistributions, we propose two such distributional adversaries that operate and\\npredict on samples, and show how they can be easily implemented on top of\\nexisting models. Various experimental results show that generators trained with\\nour distributional adversaries are much more stable and are remarkably less\\nprone to mode collapse than traditional models trained with pointwise\\nprediction discriminators. The application of our framework to domain\\nadaptation also results in considerable improvement over recent\\nstate-of-the-art.\\n',\n",
            "       b'Benchmarking five numerical simulation techniques for computing resonance wavelengths and quality factors in photonic crystal membrane line defect cavities  We present numerical studies of two photonic crystal membrane microcavities,\\na short line-defect cavity with relatively low quality ($Q$) factor and a\\nlonger cavity with high $Q$. We use five state-of-the-art numerical simulation\\ntechniques to compute the cavity $Q$ factor and the resonance wavelength\\n$\\\\lambda$ for the fundamental cavity mode in both structures. For each method,\\nthe relevant computational parameters are systematically varied to estimate the\\ncomputational uncertainty. We show that some methods are more suitable than\\nothers for treating these challenging geometries.\\n',\n",
            "       b'Which Neural Net Architectures Give Rise To Exploding and Vanishing Gradients?  We give a rigorous analysis of the statistical behavior of gradients in a\\nrandomly initialized fully connected network N with ReLU activations. Our\\nresults show that the empirical variance of the squares of the entries in the\\ninput-output Jacobian of N is exponential in a simple architecture-dependent\\nconstant beta, given by the sum of the reciprocals of the hidden layer widths.\\nWhen beta is large, the gradients computed by N at initialization vary wildly.\\nOur approach complements the mean field theory analysis of random networks.\\nFrom this point of view, we rigorously compute finite width corrections to the\\nstatistics of gradients at the edge of chaos.\\n',\n",
            "       b'Random walks on the discrete affine group  We introduce the discrete affine group of a regular tree as a finitely\\ngenerated subgroup of the affine group. We describe the Poisson boundary of\\nrandom walks on it as a space of configurations. We compute isoperimetric\\nprofile and Hilbert compression exponent of the group. We also discuss metric\\nrelationship with some lamplighter groups and lamplighter graphs.\\n',\n",
            "       b\"Loop-augmented forests and a variant of the Foulkes' conjecture  A loop-augmented forest is a labeled rooted forest with loops on some of its\\nroots. By exploiting an interplay between nilpotent partial functions and\\nlabeled rooted forests, we investigate the permutation action of the symmetric\\ngroup on loop-augmented forests. Furthermore, we describe an extension of the\\nFoulkes' conjecture and prove a special case. Among other important outcomes of\\nour analysis are a complete description of the stabilizer subgroup of an\\nidempotent in the semigroup of partial transformations and a generalization of\\nthe (Knuth-Sagan) hook length formula.\\n\",\n",
            "       b'Retrofitting Distributional Embeddings to Knowledge Graphs with Functional Relations  Knowledge graphs are a versatile framework to encode richly structured data\\nrelationships, but it can be challenging to combine these graphs with\\nunstructured data. Methods for retrofitting pre-trained entity representations\\nto the structure of a knowledge graph typically assume that entities are\\nembedded in a connected space and that relations imply similarity. However,\\nuseful knowledge graphs often contain diverse entities and relations (with\\npotentially disjoint underlying corpora) which do not accord with these\\nassumptions. To overcome these limitations, we present Functional Retrofitting,\\na framework that generalizes current retrofitting methods by explicitly\\nmodeling pairwise relations. Our framework can directly incorporate a variety\\nof pairwise penalty functions previously developed for knowledge graph\\ncompletion. Further, it allows users to encode, learn, and extract information\\nabout relation semantics. We present both linear and neural instantiations of\\nthe framework. Functional Retrofitting significantly outperforms existing\\nretrofitting methods on complex knowledge graphs and loses no accuracy on\\nsimpler graphs (in which relations do imply similarity). Finally, we\\ndemonstrate the utility of the framework by predicting new drug--disease\\ntreatment pairs in a large, complex health knowledge graph.\\n',\n",
            "       b'Twists of quantum Borel algebras  We classify Drinfeld twists for the quantum Borel subalgebra u_q(b) in the\\nFrobenius-Lusztig kernel u_q(g), where g is a simple Lie algebra over C and q\\nan odd root of unity. More specifically, we show that alternating forms on the\\ncharacter group of the group of grouplikes for u_q(b) generate all twists for\\nu_q(b), under a certain algebraic group action. This implies a simple\\nclassification of Hopf algebras whose categories of representations are tensor\\nequivalent to that of u_q(b). We also show that cocycle twists for the\\ncorresponding De Concini-Kac algebra are in bijection with alternating forms on\\nthe aforementioned character group.\\n',\n",
            "       b'Unsupervised Learning of Neural Networks to Explain Neural Networks (extended abstract)  This paper presents an unsupervised method to learn a neural network, namely\\nan explainer, to interpret a pre-trained convolutional neural network (CNN),\\ni.e., the explainer uses interpretable visual concepts to explain features in\\nmiddle conv-layers of a CNN. Given feature maps of a conv-layer of the CNN, the\\nexplainer performs like an auto-encoder, which decomposes the feature maps into\\nobject-part features. The object-part features are learned to reconstruct CNN\\nfeatures without much loss of information. We can consider the disentangled\\nrepresentations of object parts a paraphrase of CNN features, which help people\\nunderstand the knowledge encoded by the CNN. More crucially, we learn the\\nexplainer via knowledge distillation without using any annotations of object\\nparts or textures for supervision. In experiments, our method was widely used\\nto interpret features of different benchmark CNNs, and explainers significantly\\nboosted the feature interpretability without hurting the discrimination power\\nof the CNNs.\\n',\n",
            "       b'Quantum gravity corrections to the thermodynamics and phase transition of Schwarzschild black hole  In this work, we derive a new kind of rainbow functions, which has\\ngeneralized uncertainty principle parameter. Then, we investigate modified\\nthermodynamic quantities and phase transition of rainbow Schwarzschild black\\nhole by employing this new kind of rainbow functions. Our results demonstrate\\nthat the effect of rainbow gravity and generalized uncertainty principle have a\\ngreat effect on the picture of Hawking radiation. It prevents black holes from\\ntotal evaporation and causes the remnant. In addition, after analyzing the the\\nmodified local thermodynamic quantities, we find that effect of rainbow gravity\\nand generalized uncertainty principle lead to one first-order phase transition,\\ntwo second-order phase transitions, and two Hawking-Page-type phase transitions\\nin the thermodynamic system of rainbow Schwarzschild black hole.\\n',\n",
            "       b'Low Energy Phonons in $Bi_2Sr_2CaCu_2O_{8+\\xce\\xb4}$ and their Possible Interaction with Electrons Measured by Inelastic Neutron Scattering  Angle-resolved photoemission (ARPES) experiments on copper oxide\\nsuperconductors revealed enigmatic kinks in electronic dispersions near 10 meV\\npresumably due to phonons or impuritites. We used inelastic neutron scattering\\nto measure phonon branches below 15 meV in a large single crystal sample of\\noptimally-doped $Bi_2Sr_2CaCu_2O_{8+\\\\delta}$ (BSCCO). The high quality dataset\\ncovered several Brilloiun zones with different final energies. In addition to\\nacoustic branches, optic branches disperse from 4 meV and 7 meV zone center\\nenergies. The 4 meV branch interacts with acoustic phonons at small\\nwavevectors, which destroys the LA character of the acoustic branch beyond\\n~0.15 reciprocal lattice units. We propose a mechanism that explains the low\\nenergy electronic dispersion features based on this observation.\\n',\n",
            "       b'Massive Fields as Systematics for Single Field Inflation  During inflation, massive fields can contribute to the power spectrum of\\ncurvature perturbation via a dimension-5 operator. This contribution can be\\nconsidered as a bias for the program of using $n_s$ and $r$ to select inflation\\nmodels. Even the dimension-5 operator is suppressed by $\\\\Lambda = M_p$, there\\nis still a significant shift on the $n_s$-$r$ diagram if the massive fields\\nhave $m\\\\sim H$. On the other hand, if the heavy degree of freedom appears only\\nat the same energy scale as the suppression scale of the dimension-5 operator,\\nthen significant shift on the $n_s$-$r$ diagram takes place at $m=\\\\Lambda \\\\sim\\n70H$, which is around the inflationary time-translation symmetry breaking\\nscale. Hence, the systematics from massive fields pose a greater challenge for\\nfuture high precision experiments for inflationary model selection. This result\\ncan be thought of as the impact of UV sensitivity to inflationary observables.\\n',\n",
            "       b'The Simulator: Understanding Adaptive Sampling in the Moderate-Confidence Regime  We propose a novel technique for analyzing adaptive sampling called the {\\\\em\\nSimulator}. Our approach differs from the existing methods by considering not\\nhow much information could be gathered by any fixed sampling strategy, but how\\ndifficult it is to distinguish a good sampling strategy from a bad one given\\nthe limited amount of data collected up to any given time. This change of\\nperspective allows us to match the strength of both Fano and change-of-measure\\ntechniques, without succumbing to the limitations of either method. For\\nconcreteness, we apply our techniques to a structured multi-arm bandit problem\\nin the fixed-confidence pure exploration setting, where we show that the\\nconstraints on the means imply a substantial gap between the\\nmoderate-confidence sample complexity, and the asymptotic sample complexity as\\n$\\\\delta \\\\to 0$ found in the literature. We also prove the first instance-based\\nlower bounds for the top-k problem which incorporate the appropriate\\nlog-factors. Moreover, our lower bounds zero-in on the number of times each\\n\\\\emph{individual} arm needs to be pulled, uncovering new phenomena which are\\ndrowned out in the aggregate sample complexity. Our new analysis inspires a\\nsimple and near-optimal algorithm for the best-arm and top-k identification,\\nthe first {\\\\em practical} algorithm of its kind for the latter problem which\\nremoves extraneous log factors, and outperforms the state-of-the-art in\\nexperiments.\\n',\n",
            "       b'On Optimization of Radiative Dipole Body Array Coils for 7 Tesla MRI  In this contribution we present numerical and experimental results of a\\nparametric study of radiative dipole antennas in a phased array configuration\\nfor efficient body magnetic resonance imaging at 7T via parallel transmit. For\\nmagnetic resonance imaging (MRI) at ultrahigh fields (7T and higher) dipole\\nantennas are commonly used in phased arrays, particularly for body imaging\\ntargets. This study reveals the effects of dipole positioning in the array\\n(elevation of dipoles above the subject and inter-dipole spacing) on their\\nmutual coupling, $B_1^{+}$ per unit power and $B_1^{+}$ per maximum local SAR\\nefficiencies as well as the RF-shimming capability. The results demonstrate the\\ntrade-off between low maximum local SAR and sensitivity to the subject\\nvariation and provide the working parameter range for practical body arrays\\ncomposed of recently suggested fractionated dipoles.\\n',\n",
            "       b'Impact of theoretical priors in cosmological analyses: the case of single field quintessence  We investigate the impact of general conditions of theoretical stability and\\ncosmological viability on dynamical dark energy models. As a powerful example,\\nwe study whether minimally coupled, single field Quintessence models that are\\nsafe from ghost instabilities, can source the CPL expansion history recently\\nshown to be mildly favored by a combination of CMB (Planck) and Weak Lensing\\n(KiDS) data. We find that in their most conservative form, the theoretical\\nconditions impact the analysis in such a way that smooth single field\\nQuintessence becomes significantly disfavored with respect to the standard LCDM\\ncosmological model. This is due to the fact that these conditions cut a\\nsignificant portion of the (w0;wa) parameter space for CPL, in particular\\neliminating the region that would be favored by weak lensing data. Within the\\nscenario of a smooth dynamical dark energy parametrized with CPL, weak lensing\\ndata favors a region that would require multiple fields to ensure gravitational\\nstability.\\n',\n",
            "       b'PdBI U/LIRG Survey (PULS): Dense Molecular Gas in Arp 220 and NGC 6240  Aims. We present new IRAM Plateau de Bure Interferometer observations of Arp\\n220 in HCN, HCO$^{+}$, HN$^{13}$C J=1-0, C$_{2}$H N=1-0, SiO J = 2-1, HNCO\\nJ$_{k,k\\'}$ = 5$_{0,4}$ - 4$_{0,4}$, CH$_{3}$CN(6-5), CS J=2-1 and 5-4 and\\n$^{13}$CO J=1-0 and 2-1 and of NGC 6240 in HCN, HCO$^{+}$ J = 1-0 and C$_{2}$H\\nN = 1-0. In addition, we present Atacama Large Millimeter/submillmeter Array\\nscience verification observations of Arp 220 in CS J = 4-3 and\\nCH$_{3}$CN(10-9). Various lines are used to analyse the physical conditions of\\nthe molecular gas including the [$^{12}$CO]/[$^{13}$CO] and\\n[$^{12}$CO]/[C$^{18}$O] abundance ratios. These observations will be made\\navailable to the public. Methods. We create brightness temperature line ratio\\nmaps to present the different physical conditions across Arp 220 and NGC 6240.\\nIn addition, we use the radiative transfer code RADEX and a Monte Carlo Markov\\nChain likelihood code to model the $^{12}$CO, $^{13}$CO and C$^{18}$O lines of\\nArp 220 at ~2\" (~700 pc) scales, where the $^{12}$CO and C$^{18}$O measurements\\nwere obtained from literature. Results. Line ratios of optically thick lines\\nsuch as $^{12}$CO show smoothly varying ratios while the line ratios of\\noptically thin lines such as $^{13}$CO show a east-west gradient across Arp\\n220. The HCN/HCO$^{+}$ line ratio differs between Arp 220 and NGC 6240, where\\nArp 220 has line ratios above 2 and NGC 6240 below 1. The radiative transfer\\nanalysis solution is consistent with a warm (~40 K), moderately dense\\n(~10$^{3.4}$ cm$^{-3}$) molecular gas component averaged over the two nuclei.\\nWe find [$^{12}$CO]/[$^{13}$CO] and [$^{12}$CO]/[C$^{18}$O] abundance ratios of\\n~90 for both. The abundance enhancement of C$^{18}$O can be explained by\\nstellar nucleosynthesis enrichment of the interstellar medium.\\n',\n",
            "       b'Gap Acceptance During Lane Changes by Large-Truck Drivers-An Image-Based Analysis  This paper presents an analysis of rearward gap acceptance characteristics of\\ndrivers of large trucks in highway lane change scenarios. The range between the\\nvehicles was inferred from camera images using the estimated lane width\\nobtained from the lane tracking camera as the reference. Six-hundred lane\\nchange events were acquired from a large-scale naturalistic driving data set.\\nThe kinematic variables from the image-based gap analysis were filtered by the\\nweighted linear least squares in order to extrapolate them at the lane change\\ntime. In addition, the time-to-collision and required deceleration were\\ncomputed, and potential safety threshold values are provided. The resulting\\nrange and range rate distributions showed directional discrepancies, i.e., in\\nleft lane changes, large trucks are often slower than other vehicles in the\\ntarget lane, whereas they are usually faster in right lane changes. Video\\nobservations have confirmed that major motivations for changing lanes are\\ndifferent depending on the direction of move, i.e., moving to the left (faster)\\nlane occurs due to a slower vehicle ahead or a merging vehicle on the\\nright-hand side, whereas right lane changes are frequently made to return to\\nthe original lane after passing.\\n',\n",
            "       b'Target-Quality Image Compression with Recurrent, Convolutional Neural Networks  We introduce a stop-code tolerant (SCT) approach to training recurrent\\nconvolutional neural networks for lossy image compression. Our methods\\nintroduce a multi-pass training method to combine the training goals of\\nhigh-quality reconstructions in areas around stop-code masking as well as in\\nhighly-detailed areas. These methods lead to lower true bitrates for a given\\nrecursion count, both pre- and post-entropy coding, even using unstructured\\nLZ77 code compression. The pre-LZ77 gains are achieved by trimming stop codes.\\nThe post-LZ77 gains are due to the highly unequal distributions of 0/1 codes\\nfrom the SCT architectures. With these code compressions, the SCT architecture\\nmaintains or exceeds the image quality at all compression rates compared to\\nJPEG and to RNN auto-encoders across the Kodak dataset. In addition, the SCT\\ncoding results in lower variance in image quality across the extent of the\\nimage, a characteristic that has been shown to be important in human ratings of\\nimage quality\\n',\n",
            "       b'Smart materials and structures for energy harvesters  Vibrational energy harvesters capture mechanical energy from ambient\\nvibrations and convert the mechanical energy into electrical energy to power\\nwireless electronic systems. Challenges exist in the process of capturing\\nmechanical energy from ambient vibrations. For example, resonant harvesters may\\nbe used to improve power output near their resonance, but their narrow\\nbandwidth makes them less suitable for applications with varying vibrational\\nfrequencies. Higher operating frequencies can increase harvesters power output,\\nbut many vibrational sources are characterized by lower frequencies, such as\\nhuman motions. This paper provides a thorough review of state of the art energy\\nharvesters based on various energy sources such as solar, thermal,\\nelectromagnetic and mechanical energy, as well as smart materials including\\npiezoelectric materials and carbon nanotubes. The paper will then focus on\\nvibrational energy harvesters to review harvesters using typical transduction\\nmechanisms and various techniques to address the challenges in capturing\\nmechanical energy and delivering it to the transducers.\\n',\n",
            "       b\"Resource Allocation for Wireless Networks: A Distributed Optimization Approach  We consider the multi-cell joint power control and scheduling problem in\\ncellular wireless networks as a weighted sum-rate maximization problem. This\\nformulation is very general and applies to a wide range of applications and QoS\\nrequirements. The problem is inherently hard due to objective's non-convexity\\nand the knapsack-like constraints. Moreover, practical system requires a\\ndistributed operation. We applied an existing algorithm proposed by Scutari et\\nal. in distributed optimization literature to our problem. The algorithm\\nperforms local optimization followed by consensus update repeatedly. However,\\nit is not fully applicable to our problem, as it requires all decision\\nvariables to be maintained at every base station (BS), which is impractical for\\nlarge-scale networks; also, it relies on the Lipschitz continuity of the\\nobjective function's gradient, which does not hold here. We exploited the\\nnature of our objective function, and proposed a localized version of the\\nalgorithm. Furthermore, we relaxed the requirements of Lipschitz continuity\\nwith the proximal approximation. Convergence to local optimal solutions was\\nproved under some conditions. Future work includes proving the above results\\nfrom a stochastic approximation perspective, and investigating non-linear\\nconsensus schemes to speed up the convergence.\\n\",\n",
            "       b'On compact splitting complex submanifolds of quotients of bounded symmetric domains  In the current article our primary objects of study are compact complex\\nsubmanifolds of quotient manifolds of irreducible bounded symmetric domains by\\ntorsion free discrete lattices of automorphisms. We are interested in the\\ncharacterization of the totally geodesic submanifolds among compact splitting\\ncomplex submanifolds, i.e. under the assumption that the tangent sequence\\nsplits holomorphically over the submanifold.\\n',\n",
            "       b'Origin of Weak Turbulence in the Outer Regions of Protoplanetary Disks  The mechanism behind angular momentum transport in protoplanetary disks, and\\nwhether this transport is turbulent in nature, is a fundamental issue in planet\\nformation studies. Recent ALMA observations have suggested that turbulent\\nvelocities in the outer regions of these disks are less than ~5-10% of the\\nsound speed, contradicting theoretical predictions of turbulence driven by the\\nmagnetorotational instability (MRI). These observations have generally been\\ninterpreted to be consistent with a large-scale laminar magnetic wind driving\\naccretion. Here, we carry out local, shearing box simulations with varying\\nionization levels and background magnetic field strengths in order to determine\\nwhich parameters produce results consistent with observations. We find that\\neven when the background magnetic field launches a strong largely laminar wind,\\nsignificant turbulence persists and is driven by localized regions of vertical\\nmagnetic field (the result of zonal flows) that are unstable to the MRI. The\\nonly conditions for which we find turbulent velocities below the observational\\nlimits are weak background magnetic fields and ionization levels well below\\nthat usually assumed in theoretical studies. We interpret these findings within\\nthe context of a preliminary model in which a large scale magnetic field,\\nconfined to the inner disk, hinders ionizing sources from reaching large radial\\ndistances, e.g., through a sufficiently dense wind. Thus, in addition to such a\\nwind, this model predicts that for disks with weakly turbulent outer regions,\\nthe outer disk will have significantly reduced ionization levels compared to\\nstandard models and will harbor only a weak vertical magnetic field.\\n',\n",
            "       b'Characterization of Lipschitz functions in terms of variable exponent Lebesgue spaces  Our aim is to characterize the Lipschitz functions by variable exponent\\nLebesgue spaces. We give some characterizations of the boundedness of the\\nmaximal or nonlinear commutators of the Hardy-Littlewood maximal function and\\nsharp maximal function in variable exponent Lebesgue spaces when the symbols\\n$b$ belong to the Lipschitz spaces, by which some new characterizations of\\nLipschitz spaces and nonnegative Lipschitz functions are obtained. Some\\nequivalent relations between the Lipschitz norm and the variable exponent\\nLebesgue norm are also given.\\n',\n",
            "       b'Single-cell diffraction tomography with optofluidic rotation about a tilted axis  Optical diffraction tomography (ODT) is a tomographic technique that can be\\nused to measure the three-dimensional (3D) refractive index distribution within\\nliving cells without the requirement of any marker. In principle, ODT can be\\nregarded as a generalization of optical projection tomography which is\\nequivalent to computerized tomography (CT). Both optical tomographic techniques\\nrequire projection-phase images of cells measured at multiple angles. However,\\nthe reconstruction of the 3D refractive index distribution post-measurement\\ndiffers for the two techniques. It is known that ODT yields better results than\\nprojection tomography, because it takes into account diffraction of the imaging\\nlight due to the refractive index structure of the sample. Here, we apply ODT\\nto biological cells in a microfluidic chip which combines optical trapping and\\nmicrofluidic flow to achieve an optofluidic single-cell rotation. In\\nparticular, we address the problem that arises when the trapped cell is not\\nrotating about an axis perpendicular to the imaging plane, but instead about an\\narbitrarily tilted axis. In this paper we show that the 3D reconstruction can\\nbe improved by taking into account such a tilted rotational axis in the\\nreconstruction process.\\n',\n",
            "       b'Pressure-induced spin pairing transition of Fe$^{3+}$ in oxygen octahedra  High pressure can provoke spin transitions in transition metal-bearing\\ncompounds. These transitions are of high interest not only for fundamental\\nphysics and chemistry, but also may have important implications for\\ngeochemistry and geophysics of the Earth and planetary interiors. Here we have\\ncarried out a comparative study of the pressure-induced spin transition in\\ncompounds with trivalent iron, octahedrally coordinated by oxygen.\\nHigh-pressure single-crystal M\\xc3\\xb6ssbauer spectroscopy data for FeBO$_3$,\\nFe$_2$O$_3$ and Fe$_3$(Fe$_{1.766(2)}$Si$_{0.234(2)}$)(SiO$_4$)$_3$ are\\npresented together with detailed analysis of hyperfine parameter behavior. We\\nargue that $\\\\zeta$-Fe$_2$O$_3$ is an intermediate phase in the reconstructive\\nphase transition between $\\\\iota$-Fe$_2$O$_3$ and $\\\\theta$-Fe$_2$O$_3$ and\\nquestion the proposed perovskite-type structure for $\\\\zeta$-Fe$_2$O$_3$.The\\nstructural data show that the spin transition is closely related to the volume\\nof the iron octahedron. The transition starts when volumes reach 8.9-9.3\\n\\\\AA$^3$, which corresponds to pressures of 45-60 GPa, depending on the\\ncompound. Based on phenomenological arguments we conclude that the spin\\ntransition can proceed only as a first-order phase transition in\\nmagnetically-ordered compounds. An empirical rule for prediction of cooperative\\nbehavior at the spin transition is proposed. The instability of iron octahedra,\\ntogether with strong interactions between them in the vicinity of the critical\\nvolume, may trigger a phase transition in the metastable phase. We find that\\nthe isomer shift of high spin iron ions depends linearly on the octahedron\\nvolume with approximately the same coefficient, independent of the particular\\ncompounds and/or oxidation state. For eight-fold coordinated Fe$^{2+}$ we\\nobserve a significantly weaker nonlinear volume dependence.\\n',\n",
            "       b\"Behavioral-clinical phenotyping with type 2 diabetes self-monitoring data  Objective: To evaluate unsupervised clustering methods for identifying\\nindividual-level behavioral-clinical phenotypes that relate personal biomarkers\\nand behavioral traits in type 2 diabetes (T2DM) self-monitoring data. Materials\\nand Methods: We used hierarchical clustering (HC) to identify groups of meals\\nwith similar nutrition and glycemic impact for 6 individuals with T2DM who\\ncollected self-monitoring data. We evaluated clusters on: 1) correspondence to\\ngold standards generated by certified diabetes educators (CDEs) for 3\\nparticipants; 2) face validity, rated by CDEs, and 3) impact on CDEs' ability\\nto identify patterns for another 3 participants. Results: Gold standard (GS)\\nincluded 9 patterns across 3 participants. Of these, all 9 were re-discovered\\nusing HC: 4 GS patterns were consistent with patterns identified by HC (over\\n50% of meals in a cluster followed the pattern); another 5 were included as\\nsub-groups in broader clusers. 50% (9/18) of clusters were rated over 3 on\\n5-point Likert scale for validity, significance, and being actionable. After\\nreviewing clusters, CDEs identified patterns that were more consistent with\\ndata (70% reduction in contradictions between patterns and participants'\\nrecords). Discussion: Hierarchical clustering of blood glucose and\\nmacronutrient consumption appears suitable for discovering behavioral-clinical\\nphenotypes in T2DM. Most clusters corresponded to gold standard and were rated\\npositively by CDEs for face validity. Cluster visualizations helped CDEs\\nidentify more robust patterns in nutrition and glycemic impact, creating new\\npossibilities for visual analytic solutions. Conclusion: Machine learning\\nmethods can use diabetes self-monitoring data to create personalized\\nbehavioral-clinical phenotypes, which may prove useful for delivering\\npersonalized medicine.\\n\",\n",
            "       b'Microwave SQUID Multiplexer demonstration for Cosmic Microwave Background Imagers  Key performance characteristics are demonstrated for the microwave SQUID\\nmultiplexer ($\\\\mu$MUX) coupled to transition edge sensor (TES) bolometers that\\nhave been optimized for cosmic microwave background (CMB) observations. In a\\n64-channel demonstration, we show that the $\\\\mu$MUX produces a white, input\\nreferred current noise level of 29~pA$/\\\\sqrt{\\\\mathrm{Hz}}$ at -77~dB microwave\\nprobe tone power, which is well below expected fundamental detector and photon\\nnoise sources for a ground-based CMB-optimized bolometer. Operated with\\nnegligible photon loading, we measure 98~pA$/\\\\sqrt{\\\\mathrm{Hz}}$ in the\\nTES-coupled channels biased at 65% of the sensor normal resistance. This noise\\nlevel is consistent with that predicted from bolometer thermal fluctuation\\n(i.e., phonon) noise. Furthermore, the power spectral density exhibits a white\\nspectrum at low frequencies ($\\\\sim$~100~mHz), which enables CMB mapping on\\nlarge angular scales that constrain the physics of inflation. Additionally, we\\nreport cross-talk measurements that indicate a level below 0.3%, which is less\\nthan the level of cross-talk from multiplexed readout systems in deployed CMB\\nimagers. These measurements demonstrate the $\\\\mu$MUX as a viable readout\\ntechnique for future CMB imaging instruments.\\n',\n",
            "       b'Human perception in computer vision  Computer vision has made remarkable progress in recent years. Deep neural\\nnetwork (DNN) models optimized to identify objects in images exhibit\\nunprecedented task-trained accuracy and, remarkably, some generalization\\nability: new visual problems can now be solved more easily based on previous\\nlearning. Biological vision (learned in life and through evolution) is also\\naccurate and general-purpose. Is it possible that these different learning\\nregimes converge to similar problem-dependent optimal computations? We\\ntherefore asked whether the human system-level computation of visual perception\\nhas DNN correlates and considered several anecdotal test cases. We found that\\nperceptual sensitivity to image changes has DNN mid-computation correlates,\\nwhile sensitivity to segmentation, crowding and shape has DNN end-computation\\ncorrelates. Our results quantify the applicability of using DNN computation to\\nestimate perceptual loss, and are consistent with the fascinating theoretical\\nview that properties of human perception are a consequence of\\narchitecture-independent visual learning.\\n',\n",
            "       b'Belief Propagation, Bethe Approximation and Polynomials  Factor graphs are important models for succinctly representing probability\\ndistributions in machine learning, coding theory, and statistical physics.\\nSeveral computational problems, such as computing marginals and partition\\nfunctions, arise naturally when working with factor graphs. Belief propagation\\nis a widely deployed iterative method for solving these problems. However,\\ndespite its significant empirical success, not much is known about the\\ncorrectness and efficiency of belief propagation.\\nBethe approximation is an optimization-based framework for approximating\\npartition functions. While it is known that the stationary points of the Bethe\\napproximation coincide with the fixed points of belief propagation, in general,\\nthe relation between the Bethe approximation and the partition function is not\\nwell understood. It has been observed that for a few classes of factor graphs,\\nthe Bethe approximation always gives a lower bound to the partition function,\\nwhich distinguishes them from the general case, where neither a lower bound,\\nnor an upper bound holds universally. This has been rigorously proved for\\npermanents and for attractive graphical models.\\nHere we consider bipartite normal factor graphs and show that if the local\\nconstraints satisfy a certain analytic property, the Bethe approximation is a\\nlower bound to the partition function. We arrive at this result by viewing\\nfactor graphs through the lens of polynomials. In this process, we reformulate\\nthe Bethe approximation as a polynomial optimization problem. Our sufficient\\ncondition for the lower bound property to hold is inspired by recent\\ndevelopments in the theory of real stable polynomials. We believe that this way\\nof viewing factor graphs and its connection to real stability might lead to a\\nbetter understanding of belief propagation and factor graphs in general.\\n',\n",
            "       b'On the Applicability of Delicious for Temporal Search on Web Archives  Web archives are large longitudinal collections that store webpages from the\\npast, which might be missing on the current live Web. Consequently, temporal\\nsearch over such collections is essential for finding prominent missing\\nwebpages and tasks like historical analysis. However, this has been challenging\\ndue to the lack of popularity information and proper ground truth to evaluate\\ntemporal retrieval models. In this paper we investigate the applicability of\\nexternal longitudinal resources to identify important and popular websites in\\nthe past and analyze the social bookmarking service Delicious for this purpose.\\nThe timestamped bookmarks on Delicious provide explicit cues about popular\\ntime periods in the past along with relevant descriptors. These are valuable to\\nidentify important documents in the past for a given temporal query. Focusing\\npurely on recall, we analyzed more than 12,000 queries and find that using\\nDelicious yields average recall values from 46% up to 100%, when limiting\\nourselves to the best represented queries in the considered dataset. This\\nconstitutes an attractive and low-overhead approach for quick access into Web\\narchives by not dealing with the actual contents.\\n',\n",
            "       b\"ABC of ladder operators for rationally extended quantum harmonic oscillator systems  The problem of construction of ladder operators for rationally extended\\nquantum harmonic oscillator (REQHO) systems of a general form is investigated\\nin the light of existence of different schemes of the Darboux-Crum-Krein-Adler\\ntransformations by which such systems can be generated from the quantum\\nharmonic oscillator. Any REQHO system is characterized by the number of\\nseparated states in its spectrum, the number of `valence bands' in which the\\nseparated states are organized, and by the total number of the missing energy\\nlevels and their position. All these peculiarities of a REQHO system are shown\\nto be detected and reflected by a trinity $(\\\\mathcal{A}^\\\\pm$,\\n$\\\\mathcal{B}^\\\\pm$, $\\\\mathcal{C}^\\\\pm$) of the basic (primary) lowering and\\nraising ladder operators related between themselves by certain algebraic\\nidentities with coefficients polynomially-dependent on the Hamiltonian. We show\\nthat all the secondary, higher-order ladder operators are obtainable by a\\ncomposition of the basic ladder operators of the trinity which form the set of\\nthe spectrum-generating operators. Each trinity, in turn, can be constructed\\nfrom the intertwining operators of the two complementary minimal schemes of the\\nDarboux-Crum-Krein-Adler transformations.\\n\",\n",
            "       b'When Work Matters: Transforming Classical Network Structures to Graph CNN  Numerous pattern recognition applications can be formed as learning from\\ngraph-structured data, including social network, protein-interaction network,\\nthe world wide web data, knowledge graph, etc. While convolutional neural\\nnetwork (CNN) facilitates great advances in gridded image/video understanding\\ntasks, very limited attention has been devoted to transform these successful\\nnetwork structures (including Inception net, Residual net, Dense net, etc.) to\\nestablish convolutional networks on graph, due to its irregularity and\\ncomplexity geometric topologies (unordered vertices, unfixed number of adjacent\\nedges/vertices). In this paper, we aim to give a comprehensive analysis of when\\nwork matters by transforming different classical network structures to graph\\nCNN, particularly in the basic graph recognition problem. Specifically, we\\nfirstly review the general graph CNN methods, especially in its spectral\\nfiltering operation on the irregular graph data. We then introduce the basic\\nstructures of ResNet, Inception and DenseNet into graph CNN and construct these\\nnetwork structures on graph, named as G_ResNet, G_Inception, G_DenseNet. In\\nparticular, it seeks to help graph CNNs by shedding light on how these\\nclassical network structures work and providing guidelines for choosing\\nappropriate graph network frameworks. Finally, we comprehensively evaluate the\\nperformance of these different network structures on several public graph\\ndatasets (including social networks and bioinformatic datasets), and\\ndemonstrate how different network structures work on graph CNN in the graph\\nrecognition task.\\n',\n",
            "       b'AWAKE readiness for the study of the seeded self-modulation of a 400\\\\,GeV proton bunch  AWAKE is a proton-driven plasma wakefield acceleration experiment. % We show\\nthat the experimental setup briefly described here is ready for systematic\\nstudy of the seeded self-modulation of the 400\\\\,GeV proton bunch in the\\n10\\\\,m-long rubidium plasma with density adjustable from 1 to\\n10$\\\\times10^{14}$\\\\,cm$^{-3}$. % We show that the short laser pulse used for\\nionization of the rubidium vapor propagates all the way along the column,\\nsuggesting full ionization of the vapor. % We show that ionization occurs along\\nthe proton bunch, at the laser time and that the plasma that follows affects\\nthe proton bunch. %\\n',\n",
            "       b'Leverage Score Sampling for Faster Accelerated Regression and ERM  Given a matrix $\\\\mathbf{A}\\\\in\\\\mathbb{R}^{n\\\\times d}$ and a vector $b\\n\\\\in\\\\mathbb{R}^{d}$, we show how to compute an $\\\\epsilon$-approximate solution\\nto the regression problem $ \\\\min_{x\\\\in\\\\mathbb{R}^{d}}\\\\frac{1}{2} \\\\|\\\\mathbf{A} x\\n- b\\\\|_{2}^{2} $ in time $ \\\\tilde{O} ((n+\\\\sqrt{d\\\\cdot\\\\kappa_{\\\\text{sum}}})\\\\cdot\\ns\\\\cdot\\\\log\\\\epsilon^{-1}) $ where\\n$\\\\kappa_{\\\\text{sum}}=\\\\mathrm{tr}\\\\left(\\\\mathbf{A}^{\\\\top}\\\\mathbf{A}\\\\right)/\\\\lambda_{\\\\min}(\\\\mathbf{A}^{T}\\\\mathbf{A})$\\nand $s$ is the maximum number of non-zero entries in a row of $\\\\mathbf{A}$. Our\\nalgorithm improves upon the previous best running time of $ \\\\tilde{O}\\n((n+\\\\sqrt{n \\\\cdot\\\\kappa_{\\\\text{sum}}})\\\\cdot s\\\\cdot\\\\log\\\\epsilon^{-1})$.\\nWe achieve our result through a careful combination of leverage score\\nsampling techniques, proximal point methods, and accelerated coordinate\\ndescent. Our method not only matches the performance of previous methods, but\\nfurther improves whenever leverage scores of rows are small (up to\\npolylogarithmic factors). We also provide a non-linear generalization of these\\nresults that improves the running time for solving a broader class of ERM\\nproblems.\\n',\n",
            "       b\"Evidence of chaotic modes in the analysis of four delta Scuti stars  Since CoRoT observations unveiled the very low amplitude modes that form a\\nflat plateau in the power spectrum structure of delta Scuti stars, the nature\\nof this phenomenon, including the possibility of spurious signals due to the\\nlight curve analysis, has been a matter of long-standing scientific debate. We\\ncontribute to this debate by finding the structural parameters of a sample of\\nfour delta Scuti stars, CID 546, CID 3619, CID 8669, and KIC 5892969, and\\nlooking for a possible relation between these stars' structural parameters and\\ntheir power spectrum structure. For the purposes of characterization, we\\ndeveloped a method of studying and analysing the power spectrum with high\\nprecision and have applied it to both CoRoT and Kepler light curves. We obtain\\nthe best estimates to date of these stars' structural parameters. Moreover, we\\nobserve that the power spectrum structure depends on the inclination,\\noblateness, and convective efficiency of each star. Our results suggest that\\nthe power spectrum structure is real and is possibly formed by 2-period island\\nmodes and chaotic modes.\\n\",\n",
            "       b\"Fibonacci words in hyperbolic Pascal triangles  The hyperbolic Pascal triangle ${\\\\cal HPT}_{4,q}$ $(q\\\\ge5)$ is a new\\nmathematical construction, which is a geometrical generalization of Pascal's\\narithmetical triangle. In the present study we show that a natural pattern of\\nrows of ${\\\\cal HPT}_{4,5}$ is almost the same as the sequence consisting of\\nevery second term of the well-known Fibonacci words. Further, we give a\\ngeneralization of the Fibonacci words using the hyperbolic Pascal triangles.\\nThe geometrical properties of a ${\\\\cal HPT}_{4,q}$ imply a graph structure\\nbetween the finite Fibonacci words.\\n\",\n",
            "       b'Enhanced ferromagnetic transition temperature induced by a microscopic structural rearrangement in the diluted magnetic semiconductor Ge$_{1-x}$Mn$_{x}$Te  The correlation between magnetic properties and microscopic structural\\naspects in the diluted magnetic semiconductor Ge$_{1-x}$Mn$_{x}$Te is\\ninvestigated by x-ray diffraction and magnetization as a function of the Mn\\nconcentration $x$. The occurrence of high ferromagnetic-transition temperatures\\nin the rhombohedrally distorted phase of slowly-cooled Ge$_{1-x}$Mn$_{x}$Te is\\nshown to be directly correlated with the formation and coexistence of\\nstrongly-distorted Mn-poor and weakly-distorted Mn-rich regions. It is\\ndemonstrated that the weakly-distorted phase fraction is responsible for the\\noccurrence of high-transition temperatures in Ge$_{1-x}$Mn$_{x}$Te. When the Mn\\nconcentration becomes larger, the Mn-rich regions start to switch into the\\nundistorted cubic structure, and the transition temperature is suppressed\\nconcurrently. By identifying suitable annealing conditions, we successfully\\nincreased the transition temperature to above 200 K for Mn concentrations close\\nto the cubic phase. Structural data indicate that the weakly-distorted phase\\nfraction can be restored at the expense of the cubic regions upon the\\nenhancement of the transition temperature, clearly establishing the direct link\\nbetween high-transition temperatures and the weakly-distorted Mn-rich phase\\nfraction.\\n'],\n",
            "      dtype=object)>, <tf.Tensor: shape=(128, 6), dtype=int64, numpy=\n",
            "array([[0, 1, 0, 0, 0, 0],\n",
            "       [1, 0, 0, 1, 0, 0],\n",
            "       [1, 0, 1, 0, 0, 0],\n",
            "       [1, 0, 1, 0, 0, 0],\n",
            "       [1, 0, 0, 1, 0, 0],\n",
            "       [0, 0, 1, 0, 0, 0],\n",
            "       [0, 0, 0, 0, 1, 0],\n",
            "       [0, 0, 1, 1, 0, 0],\n",
            "       [0, 1, 1, 0, 0, 0],\n",
            "       [0, 0, 1, 0, 0, 0],\n",
            "       [1, 0, 0, 0, 0, 0],\n",
            "       [1, 0, 0, 1, 0, 0],\n",
            "       [0, 1, 0, 0, 0, 0],\n",
            "       [0, 0, 1, 0, 0, 0],\n",
            "       [0, 1, 0, 0, 0, 0],\n",
            "       [1, 0, 0, 0, 0, 0],\n",
            "       [0, 1, 0, 0, 0, 0],\n",
            "       [0, 0, 1, 0, 0, 0],\n",
            "       [0, 1, 0, 0, 0, 0],\n",
            "       [1, 0, 0, 1, 0, 0],\n",
            "       [0, 0, 0, 0, 1, 0],\n",
            "       [1, 0, 0, 0, 0, 0],\n",
            "       [0, 1, 0, 0, 0, 0],\n",
            "       [0, 1, 0, 0, 0, 0],\n",
            "       [1, 0, 1, 0, 0, 0],\n",
            "       [0, 1, 0, 0, 0, 0],\n",
            "       [0, 1, 0, 0, 0, 0],\n",
            "       [0, 0, 0, 1, 0, 0],\n",
            "       [0, 1, 0, 0, 0, 0],\n",
            "       [0, 0, 1, 0, 0, 0],\n",
            "       [0, 1, 0, 0, 0, 0],\n",
            "       [0, 1, 0, 0, 0, 0],\n",
            "       [0, 0, 0, 0, 0, 1],\n",
            "       [0, 0, 0, 1, 0, 0],\n",
            "       [1, 0, 0, 0, 0, 0],\n",
            "       [0, 0, 1, 0, 0, 0],\n",
            "       [0, 1, 0, 0, 0, 0],\n",
            "       [0, 1, 0, 0, 0, 0],\n",
            "       [0, 0, 1, 0, 0, 0],\n",
            "       [1, 0, 0, 0, 0, 0],\n",
            "       [1, 0, 0, 1, 0, 0],\n",
            "       [1, 0, 0, 0, 0, 0],\n",
            "       [0, 0, 1, 1, 0, 0],\n",
            "       [0, 1, 0, 0, 0, 0],\n",
            "       [0, 1, 0, 0, 0, 0],\n",
            "       [0, 0, 0, 0, 1, 0],\n",
            "       [0, 1, 0, 0, 0, 0],\n",
            "       [0, 1, 0, 0, 0, 0],\n",
            "       [1, 0, 0, 0, 0, 0],\n",
            "       [0, 0, 1, 1, 0, 0],\n",
            "       [1, 0, 0, 0, 0, 0],\n",
            "       [0, 0, 1, 0, 0, 0],\n",
            "       [1, 0, 0, 0, 0, 0],\n",
            "       [0, 0, 0, 1, 0, 0],\n",
            "       [1, 0, 0, 1, 0, 0],\n",
            "       [0, 1, 0, 0, 0, 0],\n",
            "       [1, 0, 0, 0, 0, 0],\n",
            "       [0, 1, 0, 0, 0, 0],\n",
            "       [1, 0, 0, 0, 0, 0],\n",
            "       [0, 1, 0, 0, 0, 0],\n",
            "       [0, 0, 0, 1, 0, 0],\n",
            "       [0, 1, 0, 0, 0, 0],\n",
            "       [0, 1, 0, 0, 0, 0],\n",
            "       [0, 1, 0, 0, 0, 0],\n",
            "       [1, 0, 1, 1, 0, 0],\n",
            "       [1, 0, 0, 1, 0, 0],\n",
            "       [0, 1, 0, 0, 0, 0],\n",
            "       [0, 0, 1, 0, 0, 0],\n",
            "       [0, 1, 0, 0, 0, 0],\n",
            "       [1, 0, 1, 0, 0, 0],\n",
            "       [1, 0, 0, 0, 0, 0],\n",
            "       [1, 0, 1, 0, 0, 0],\n",
            "       [0, 0, 0, 1, 0, 0],\n",
            "       [1, 0, 0, 0, 0, 0],\n",
            "       [1, 0, 1, 0, 0, 0],\n",
            "       [0, 0, 1, 0, 0, 0],\n",
            "       [0, 1, 0, 0, 0, 0],\n",
            "       [0, 0, 0, 0, 1, 0],\n",
            "       [0, 0, 1, 0, 0, 0],\n",
            "       [0, 0, 0, 1, 0, 0],\n",
            "       [1, 0, 0, 1, 0, 0],\n",
            "       [1, 0, 0, 1, 0, 0],\n",
            "       [1, 0, 0, 1, 0, 0],\n",
            "       [1, 0, 0, 1, 0, 0],\n",
            "       [0, 1, 0, 0, 0, 0],\n",
            "       [0, 0, 1, 0, 0, 0],\n",
            "       [0, 1, 0, 0, 0, 0],\n",
            "       [0, 1, 0, 0, 0, 0],\n",
            "       [0, 0, 1, 0, 0, 0],\n",
            "       [0, 1, 0, 0, 0, 0],\n",
            "       [0, 1, 0, 0, 0, 0],\n",
            "       [1, 0, 0, 0, 0, 0],\n",
            "       [1, 0, 0, 0, 0, 0],\n",
            "       [0, 1, 0, 0, 0, 0],\n",
            "       [0, 0, 0, 1, 0, 0],\n",
            "       [0, 0, 1, 0, 0, 0],\n",
            "       [0, 0, 1, 0, 0, 0],\n",
            "       [1, 0, 0, 1, 0, 0],\n",
            "       [0, 0, 1, 0, 0, 0],\n",
            "       [1, 0, 0, 1, 0, 0],\n",
            "       [0, 1, 0, 0, 0, 0],\n",
            "       [0, 1, 0, 0, 0, 0],\n",
            "       [0, 1, 0, 0, 0, 0],\n",
            "       [1, 0, 0, 1, 0, 0],\n",
            "       [0, 1, 0, 0, 0, 0],\n",
            "       [0, 1, 0, 0, 0, 0],\n",
            "       [0, 1, 0, 0, 0, 0],\n",
            "       [1, 0, 0, 0, 0, 0],\n",
            "       [1, 0, 0, 0, 0, 0],\n",
            "       [0, 1, 0, 0, 0, 0],\n",
            "       [0, 0, 1, 0, 0, 0],\n",
            "       [0, 0, 1, 0, 0, 0],\n",
            "       [0, 1, 0, 0, 0, 0],\n",
            "       [0, 0, 1, 0, 0, 0],\n",
            "       [0, 0, 0, 0, 1, 0],\n",
            "       [0, 1, 0, 0, 0, 0],\n",
            "       [0, 0, 0, 1, 0, 0],\n",
            "       [0, 1, 0, 0, 0, 0],\n",
            "       [1, 0, 0, 0, 0, 0],\n",
            "       [1, 0, 0, 1, 0, 0],\n",
            "       [1, 0, 0, 0, 0, 0],\n",
            "       [0, 1, 1, 0, 0, 0],\n",
            "       [0, 0, 0, 1, 0, 0],\n",
            "       [0, 1, 0, 0, 0, 0],\n",
            "       [1, 0, 0, 1, 0, 0],\n",
            "       [0, 1, 0, 0, 0, 0],\n",
            "       [1, 0, 0, 0, 0, 0],\n",
            "       [0, 1, 0, 0, 0, 0]])>)\n"
          ]
        }
      ]
    },
    {
      "cell_type": "code",
      "source": [
        "def get_model(config):\n",
        "    encoder = keras_nlp.models.DistilBertBackbone.from_preset(\n",
        "        config.model_name\n",
        "    )\n",
        "    encoder.trainable = False\n",
        "    preprocessor = keras_nlp.models.DistilBertPreprocessor.from_preset(\n",
        "        config.model_name\n",
        "    )\n",
        "    inputs = keras.Input(shape=(), dtype=tf.string)\n",
        "    x = preprocessor(inputs)\n",
        "    x = encoder(x)\n",
        "    x = tf.keras.layers.GlobalAveragePooling1D()(x)\n",
        "    output = layers.Dense(6, activation=\"sigmoid\")(x)\n",
        "    model = keras.Model(inputs, output, name=\"model\")\n",
        "    model.compile(\n",
        "        \"adam\", loss=\"binary_crossentropy\", metrics=[\"categorical_accuracy\", keras.metrics.AUC()]\n",
        "    )\n",
        "    return model"
      ],
      "metadata": {
        "id": "fIzgdwTtzeKa"
      },
      "execution_count": null,
      "outputs": []
    },
    {
      "cell_type": "code",
      "source": [
        "model = get_model(config)\n",
        "model.summary()"
      ],
      "metadata": {
        "colab": {
          "base_uri": "https://localhost:8080/"
        },
        "id": "P2L6hV5J32or",
        "outputId": "50378497-841a-4d8d-a46b-c9862b85f0b4"
      },
      "execution_count": null,
      "outputs": [
        {
          "output_type": "stream",
          "name": "stdout",
          "text": [
            "Model: \"model\"\n",
            "__________________________________________________________________________________________________\n",
            " Layer (type)                   Output Shape         Param #     Connected to                     \n",
            "==================================================================================================\n",
            " input_2 (InputLayer)           [(None,)]            0           []                               \n",
            "                                                                                                  \n",
            " distil_bert_preprocessor_1 (Di  {'token_ids': (None  0          ['input_2[0][0]']                \n",
            " stilBertPreprocessor)          , 512),                                                           \n",
            "                                 'padding_mask': (N                                               \n",
            "                                one, 512)}                                                        \n",
            "                                                                                                  \n",
            " distil_bert_backbone_1 (Distil  (None, None, 768)   66362880    ['distil_bert_preprocessor_1[0][0\n",
            " BertBackbone)                                                   ]',                              \n",
            "                                                                  'distil_bert_preprocessor_1[0][1\n",
            "                                                                 ]']                              \n",
            "                                                                                                  \n",
            " global_average_pooling1d_1 (Gl  (None, 768)         0           ['distil_bert_backbone_1[0][0]'] \n",
            " obalAveragePooling1D)                                                                            \n",
            "                                                                                                  \n",
            " dense_1 (Dense)                (None, 6)            4614        ['global_average_pooling1d_1[0][0\n",
            "                                                                 ]']                              \n",
            "                                                                                                  \n",
            "==================================================================================================\n",
            "Total params: 66,367,494\n",
            "Trainable params: 4,614\n",
            "Non-trainable params: 66,362,880\n",
            "__________________________________________________________________________________________________\n"
          ]
        }
      ]
    },
    {
      "cell_type": "code",
      "source": [],
      "metadata": {
        "id": "XZNR_un55hgX"
      },
      "execution_count": null,
      "outputs": []
    },
    {
      "cell_type": "code",
      "source": [
        "if config.mode == config.modes[0]:\n",
        "    checkpoint = keras.callbacks.ModelCheckpoint(config.model_path, monitor=\"val_categorical_accuracy\", save_best_only=True)\n",
        "    early_stopping = keras.callbacks.EarlyStopping(patience=10)\n",
        "    reduce_lr = keras.callbacks.ReduceLROnPlateau(patience=5, min_delta=1e-4, min_lr=1e-6)\n",
        "    model.fit(train_ds, epochs=config.epochs, validation_data=valid_ds, callbacks=[checkpoint, reduce_lr])"
      ],
      "metadata": {
        "id": "rA0V5-SkzsBN"
      },
      "execution_count": null,
      "outputs": []
    },
    {
      "cell_type": "code",
      "source": [
        "if config.mode == config.modes[0]:\n",
        "    from sklearn.metrics import classification_report\n",
        "    y_pred = np.array(model.predict(valid_ds) > 0.5, dtype=int)\n",
        "    cls_report = classification_report(y_val, y_pred)\n",
        "    print(cls_report)"
      ],
      "metadata": {
        "id": "dagDBbwHzw8y"
      },
      "execution_count": null,
      "outputs": []
    },
    {
      "cell_type": "code",
      "source": [
        "model.save('/content/drive/My Drive/zeni')"
      ],
      "metadata": {
        "colab": {
          "base_uri": "https://localhost:8080/"
        },
        "id": "l5WQfrM45wCj",
        "outputId": "f5f65472-e99f-4ad3-d1a2-5fec6ed5457e"
      },
      "execution_count": null,
      "outputs": [
        {
          "output_type": "stream",
          "name": "stderr",
          "text": [
            "WARNING:absl:Found untraced functions such as _update_step_xla, distil_bert_tokenizer_1_layer_call_fn, distil_bert_tokenizer_1_layer_call_and_return_conditional_losses, multi_segment_packer_2_layer_call_fn, multi_segment_packer_2_layer_call_and_return_conditional_losses while saving (showing 5 of 165). These functions will not be directly callable after loading.\n"
          ]
        }
      ]
    },
    {
      "cell_type": "code",
      "source": [
        "test=pd.read_csv(\"/content/drive/My Drive/zenith-dataset/test.csv\")\n",
        "test['ToDo']=test['TITLE']+test['ABSTRACT']\n",
        "test=test[['ID','ToDo']]\n",
        "test.head()"
      ],
      "metadata": {
        "colab": {
          "base_uri": "https://localhost:8080/",
          "height": 206
        },
        "id": "SPtCxioH0Bx8",
        "outputId": "bc5e9705-363e-4c7f-a843-a278f8fed24f"
      },
      "execution_count": null,
      "outputs": [
        {
          "output_type": "execute_result",
          "data": {
            "text/plain": [
              "      ID                                               ToDo\n",
              "0  20973  Closed-form Marginal Likelihood in Gamma-Poiss...\n",
              "1  20974  Laboratory mid-IR spectra of equilibrated and ...\n",
              "2  20975  Case For Static AMSDU Aggregation in WLANs  Fr...\n",
              "3  20976  The $Gaia$-ESO Survey: the inner disk intermed...\n",
              "4  20977  Witness-Functions versus Interpretation-Functi..."
            ],
            "text/html": [
              "\n",
              "  <div id=\"df-a6887543-aeee-4e79-83b8-23d98f621515\">\n",
              "    <div class=\"colab-df-container\">\n",
              "      <div>\n",
              "<style scoped>\n",
              "    .dataframe tbody tr th:only-of-type {\n",
              "        vertical-align: middle;\n",
              "    }\n",
              "\n",
              "    .dataframe tbody tr th {\n",
              "        vertical-align: top;\n",
              "    }\n",
              "\n",
              "    .dataframe thead th {\n",
              "        text-align: right;\n",
              "    }\n",
              "</style>\n",
              "<table border=\"1\" class=\"dataframe\">\n",
              "  <thead>\n",
              "    <tr style=\"text-align: right;\">\n",
              "      <th></th>\n",
              "      <th>ID</th>\n",
              "      <th>ToDo</th>\n",
              "    </tr>\n",
              "  </thead>\n",
              "  <tbody>\n",
              "    <tr>\n",
              "      <th>0</th>\n",
              "      <td>20973</td>\n",
              "      <td>Closed-form Marginal Likelihood in Gamma-Poiss...</td>\n",
              "    </tr>\n",
              "    <tr>\n",
              "      <th>1</th>\n",
              "      <td>20974</td>\n",
              "      <td>Laboratory mid-IR spectra of equilibrated and ...</td>\n",
              "    </tr>\n",
              "    <tr>\n",
              "      <th>2</th>\n",
              "      <td>20975</td>\n",
              "      <td>Case For Static AMSDU Aggregation in WLANs  Fr...</td>\n",
              "    </tr>\n",
              "    <tr>\n",
              "      <th>3</th>\n",
              "      <td>20976</td>\n",
              "      <td>The $Gaia$-ESO Survey: the inner disk intermed...</td>\n",
              "    </tr>\n",
              "    <tr>\n",
              "      <th>4</th>\n",
              "      <td>20977</td>\n",
              "      <td>Witness-Functions versus Interpretation-Functi...</td>\n",
              "    </tr>\n",
              "  </tbody>\n",
              "</table>\n",
              "</div>\n",
              "      <button class=\"colab-df-convert\" onclick=\"convertToInteractive('df-a6887543-aeee-4e79-83b8-23d98f621515')\"\n",
              "              title=\"Convert this dataframe to an interactive table.\"\n",
              "              style=\"display:none;\">\n",
              "        \n",
              "  <svg xmlns=\"http://www.w3.org/2000/svg\" height=\"24px\"viewBox=\"0 0 24 24\"\n",
              "       width=\"24px\">\n",
              "    <path d=\"M0 0h24v24H0V0z\" fill=\"none\"/>\n",
              "    <path d=\"M18.56 5.44l.94 2.06.94-2.06 2.06-.94-2.06-.94-.94-2.06-.94 2.06-2.06.94zm-11 1L8.5 8.5l.94-2.06 2.06-.94-2.06-.94L8.5 2.5l-.94 2.06-2.06.94zm10 10l.94 2.06.94-2.06 2.06-.94-2.06-.94-.94-2.06-.94 2.06-2.06.94z\"/><path d=\"M17.41 7.96l-1.37-1.37c-.4-.4-.92-.59-1.43-.59-.52 0-1.04.2-1.43.59L10.3 9.45l-7.72 7.72c-.78.78-.78 2.05 0 2.83L4 21.41c.39.39.9.59 1.41.59.51 0 1.02-.2 1.41-.59l7.78-7.78 2.81-2.81c.8-.78.8-2.07 0-2.86zM5.41 20L4 18.59l7.72-7.72 1.47 1.35L5.41 20z\"/>\n",
              "  </svg>\n",
              "      </button>\n",
              "      \n",
              "  <style>\n",
              "    .colab-df-container {\n",
              "      display:flex;\n",
              "      flex-wrap:wrap;\n",
              "      gap: 12px;\n",
              "    }\n",
              "\n",
              "    .colab-df-convert {\n",
              "      background-color: #E8F0FE;\n",
              "      border: none;\n",
              "      border-radius: 50%;\n",
              "      cursor: pointer;\n",
              "      display: none;\n",
              "      fill: #1967D2;\n",
              "      height: 32px;\n",
              "      padding: 0 0 0 0;\n",
              "      width: 32px;\n",
              "    }\n",
              "\n",
              "    .colab-df-convert:hover {\n",
              "      background-color: #E2EBFA;\n",
              "      box-shadow: 0px 1px 2px rgba(60, 64, 67, 0.3), 0px 1px 3px 1px rgba(60, 64, 67, 0.15);\n",
              "      fill: #174EA6;\n",
              "    }\n",
              "\n",
              "    [theme=dark] .colab-df-convert {\n",
              "      background-color: #3B4455;\n",
              "      fill: #D2E3FC;\n",
              "    }\n",
              "\n",
              "    [theme=dark] .colab-df-convert:hover {\n",
              "      background-color: #434B5C;\n",
              "      box-shadow: 0px 1px 3px 1px rgba(0, 0, 0, 0.15);\n",
              "      filter: drop-shadow(0px 1px 2px rgba(0, 0, 0, 0.3));\n",
              "      fill: #FFFFFF;\n",
              "    }\n",
              "  </style>\n",
              "\n",
              "      <script>\n",
              "        const buttonEl =\n",
              "          document.querySelector('#df-a6887543-aeee-4e79-83b8-23d98f621515 button.colab-df-convert');\n",
              "        buttonEl.style.display =\n",
              "          google.colab.kernel.accessAllowed ? 'block' : 'none';\n",
              "\n",
              "        async function convertToInteractive(key) {\n",
              "          const element = document.querySelector('#df-a6887543-aeee-4e79-83b8-23d98f621515');\n",
              "          const dataTable =\n",
              "            await google.colab.kernel.invokeFunction('convertToInteractive',\n",
              "                                                     [key], {});\n",
              "          if (!dataTable) return;\n",
              "\n",
              "          const docLinkHtml = 'Like what you see? Visit the ' +\n",
              "            '<a target=\"_blank\" href=https://colab.research.google.com/notebooks/data_table.ipynb>data table notebook</a>'\n",
              "            + ' to learn more about interactive tables.';\n",
              "          element.innerHTML = '';\n",
              "          dataTable['output_type'] = 'display_data';\n",
              "          await google.colab.output.renderOutput(dataTable, element);\n",
              "          const docLink = document.createElement('div');\n",
              "          docLink.innerHTML = docLinkHtml;\n",
              "          element.appendChild(docLink);\n",
              "        }\n",
              "      </script>\n",
              "    </div>\n",
              "  </div>\n",
              "  "
            ]
          },
          "metadata": {},
          "execution_count": 46
        }
      ]
    },
    {
      "cell_type": "code",
      "source": [
        "loaded_model = tf.keras.models.load_model('/content/drive/My Drive/zeni')"
      ],
      "metadata": {
        "id": "3zzXd5R47rzk"
      },
      "execution_count": null,
      "outputs": []
    },
    {
      "cell_type": "code",
      "source": [
        "tf.keras.models.save_model(loaded_model,'/content/drive/My Drive/zeni/model.h5')"
      ],
      "metadata": {
        "id": "G-lucmMq7zNv"
      },
      "execution_count": null,
      "outputs": []
    },
    {
      "cell_type": "code",
      "source": [
        "test_ds = tf.data.Dataset.from_tensor_slices((test[\"ToDo\"])).batch(config.batch_size).cache().prefetch(1)\n",
        "path = config.model_path\n",
        "if config.mode == config.modes[1]:\n",
        "    path = config.output_dataset_path + \"/\" + path\n",
        "model.load_weights(path)\n",
        "score = model.predict(test_ds)"
      ],
      "metadata": {
        "colab": {
          "base_uri": "https://localhost:8080/"
        },
        "id": "vHSjhtUz2xNI",
        "outputId": "7239a09a-fb24-483c-d76c-0bdec19c9bb5"
      },
      "execution_count": null,
      "outputs": [
        {
          "output_type": "stream",
          "name": "stdout",
          "text": [
            "71/71 [==============================] - 210s 3s/step\n"
          ]
        }
      ]
    },
    {
      "cell_type": "code",
      "source": [
        "score.shape"
      ],
      "metadata": {
        "id": "iucXuDxo_WBb",
        "outputId": "d4135c26-ba3d-42d6-8914-550dc65e0b6f",
        "colab": {
          "base_uri": "https://localhost:8080/"
        }
      },
      "execution_count": null,
      "outputs": [
        {
          "output_type": "execute_result",
          "data": {
            "text/plain": [
              "(8989, 6)"
            ]
          },
          "metadata": {},
          "execution_count": 64
        }
      ]
    },
    {
      "cell_type": "code",
      "source": [
        "type(score) "
      ],
      "metadata": {
        "colab": {
          "base_uri": "https://localhost:8080/"
        },
        "id": "y_Xpy_dz22XA",
        "outputId": "5d269b36-cac8-4ad0-ec0a-e692e6d31846"
      },
      "execution_count": null,
      "outputs": [
        {
          "output_type": "execute_result",
          "data": {
            "text/plain": [
              "numpy.ndarray"
            ]
          },
          "metadata": {},
          "execution_count": 50
        }
      ]
    },
    {
      "cell_type": "code",
      "source": [
        "from math import ceil"
      ],
      "metadata": {
        "id": "p0VY6DZ6-J3d"
      },
      "execution_count": null,
      "outputs": []
    },
    {
      "cell_type": "code",
      "source": [
        "score[9]"
      ],
      "metadata": {
        "colab": {
          "base_uri": "https://localhost:8080/"
        },
        "id": "pvLvBN8ymezH",
        "outputId": "f1bcb8b0-5a4a-495f-84aa-552c4cd50c62"
      },
      "execution_count": null,
      "outputs": [
        {
          "output_type": "execute_result",
          "data": {
            "text/plain": [
              "array([0.4530171 , 0.5752876 , 0.6111458 , 0.29539722, 0.4290289 ,\n",
              "       0.53364766], dtype=float32)"
            ]
          },
          "metadata": {},
          "execution_count": 95
        }
      ]
    },
    {
      "cell_type": "code",
      "source": [
        "score[0][2]"
      ],
      "metadata": {
        "colab": {
          "base_uri": "https://localhost:8080/"
        },
        "id": "POEvba-2mjVd",
        "outputId": "94b14c95-9cda-4904-868b-ed7c4f7a6d81"
      },
      "execution_count": null,
      "outputs": [
        {
          "output_type": "execute_result",
          "data": {
            "text/plain": [
              "0.49821416"
            ]
          },
          "metadata": {},
          "execution_count": 83
        }
      ]
    },
    {
      "cell_type": "code",
      "source": [
        "score1=[np.zeros(6) for i in range(8989)]"
      ],
      "metadata": {
        "id": "URXrL7S8j5_D"
      },
      "execution_count": null,
      "outputs": []
    },
    {
      "cell_type": "code",
      "source": [
        "score1[0]"
      ],
      "metadata": {
        "colab": {
          "base_uri": "https://localhost:8080/"
        },
        "id": "GTBmJALqlaEe",
        "outputId": "dde79f84-f590-4839-f57a-8fffd20ac8b3"
      },
      "execution_count": null,
      "outputs": [
        {
          "output_type": "execute_result",
          "data": {
            "text/plain": [
              "array([0., 0., 0., 0., 0., 0.])"
            ]
          },
          "metadata": {},
          "execution_count": 70
        }
      ]
    },
    {
      "cell_type": "code",
      "source": [
        "for j in range(8989):\n",
        "  for i in range(6):\n",
        "    if(score[j][i]==max(score[j])):\n",
        "      score1[j][i]=ceil(score[j][i])"
      ],
      "metadata": {
        "id": "gFdA7Qlmf2w1"
      },
      "execution_count": null,
      "outputs": []
    },
    {
      "cell_type": "code",
      "source": [],
      "metadata": {
        "id": "wpFL8KApgof-"
      },
      "execution_count": null,
      "outputs": []
    }
  ]
}