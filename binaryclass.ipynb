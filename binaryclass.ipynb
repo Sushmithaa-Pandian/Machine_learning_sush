{
  "cells": [
    {
      "cell_type": "markdown",
      "metadata": {
        "id": "view-in-github",
        "colab_type": "text"
      },
      "source": [
        "<a href=\"https://colab.research.google.com/github/Sushmithaa-Pandian/Machine_learning_sush/blob/main/binaryclass.ipynb\" target=\"_parent\"><img src=\"https://colab.research.google.com/assets/colab-badge.svg\" alt=\"Open In Colab\"/></a>"
      ]
    },
    {
      "cell_type": "code",
      "source": [
        "import os\n",
        "import random\n",
        "\n",
        "\n",
        "import cv2\n",
        "import numpy\n",
        "import matplotlib.pyplot as plt\n",
        "\n",
        "from sklearn.model_selection import train_test_split\n",
        "from sklearn.metrics import accuracy_score\n",
        "\n",
        "from keras.models import Sequential\n",
        "from keras.layers import Conv2D, MaxPooling2D, Flatten, Dense, Dropout"
      ],
      "metadata": {
        "id": "axCn5gi9M6c8"
      },
      "execution_count": null,
      "outputs": []
    },
    {
      "cell_type": "code",
      "source": [
        "HAPPY ='/content/emotion/happy'\n",
        "SAD ='/content/emotion/sad'\n",
        "\n",
        "IMAGE_SIZE = (64, 64)"
      ],
      "metadata": {
        "id": "f8ueXp9HnLCU"
      },
      "execution_count": 38,
      "outputs": []
    },
    {
      "cell_type": "code",
      "source": [
        "def get_data(directory: str, label: int) -> numpy.ndarray:\n",
        "    images = []\n",
        "    labels = []\n",
        "\n",
        "    for file_name in os.listdir(directory):\n",
        "        image = cv2.imread(os.path.join(directory, file_name), cv2.IMREAD_GRAYSCALE)\n",
        "\n",
        "        if image is not None:\n",
        "            image = image.astype(numpy.float32) / 255.\n",
        "            image = cv2.resize(image, IMAGE_SIZE)\n",
        "\n",
        "            images.append(image)\n",
        "            labels.append(label)\n",
        "\n",
        "    return numpy.array([(image, label) for image, label in zip(images, labels)], dtype=object)"
      ],
      "metadata": {
        "id": "ZRcH1E4xnoC6"
      },
      "execution_count": 39,
      "outputs": []
    },
    {
      "cell_type": "code",
      "source": [
        "data = numpy.concatenate((get_data(HAPPY, 0), get_data(SAD, 1)), axis=0)"
      ],
      "metadata": {
        "id": "4VYgO3wwnt02"
      },
      "execution_count": 41,
      "outputs": []
    },
    {
      "cell_type": "code",
      "source": [
        "X_train, X_test, y_train, y_test = train_test_split(\n",
        "    numpy.array([pair[0] for pair in data]),\n",
        "    numpy.array([pair[1] for pair in data]),\n",
        "    test_size=0.2, random_state=42\n",
        ")"
      ],
      "metadata": {
        "id": "0K7YImEyn4Wo"
      },
      "execution_count": 45,
      "outputs": []
    },
    {
      "cell_type": "code",
      "source": [
        "from keras.layers import Convolution2D, MaxPooling2D, Flatten, Dense, BatchNormalization, Dropout\n",
        "from keras.models import Sequential\n",
        "model = Sequential([\n",
        "    Conv2D(32, (3, 3), activation=\"relu\", input_shape=(64, 64, 1)),\n",
        "    MaxPooling2D((2, 2)),\n",
        "    Conv2D(64, (3, 3)),\n",
        "    Dropout(0.2),\n",
        "    MaxPooling2D((2, 2)),\n",
        "    Conv2D(128, (3, 3)),\n",
        "    Dropout(0.3),\n",
        "    MaxPooling2D((2, 2)),\n",
        "    Flatten(),\n",
        "    Dense(128, activation=\"relu\"),\n",
        "    Dropout(0.3),\n",
        "    Dense(1, activation=\"sigmoid\"),\n",
        "])\n",
        "model.compile(optimizer = 'adam', loss = 'categorical_crossentropy', metrics = ['accuracy'])\n",
        "print(model.summary())"
      ],
      "metadata": {
        "colab": {
          "base_uri": "https://localhost:8080/"
        },
        "id": "5PzNAwBioEuV",
        "outputId": "d7b23312-2063-459c-ad5c-e9d92ae6eadc"
      },
      "execution_count": 54,
      "outputs": [
        {
          "output_type": "stream",
          "name": "stdout",
          "text": [
            "Model: \"sequential_4\"\n",
            "_________________________________________________________________\n",
            " Layer (type)                Output Shape              Param #   \n",
            "=================================================================\n",
            " conv2d_8 (Conv2D)           (None, 62, 62, 32)        320       \n",
            "                                                                 \n",
            " max_pooling2d_8 (MaxPooling  (None, 31, 31, 32)       0         \n",
            " 2D)                                                             \n",
            "                                                                 \n",
            " conv2d_9 (Conv2D)           (None, 29, 29, 64)        18496     \n",
            "                                                                 \n",
            " dropout_16 (Dropout)        (None, 29, 29, 64)        0         \n",
            "                                                                 \n",
            " max_pooling2d_9 (MaxPooling  (None, 14, 14, 64)       0         \n",
            " 2D)                                                             \n",
            "                                                                 \n",
            " conv2d_10 (Conv2D)          (None, 12, 12, 128)       73856     \n",
            "                                                                 \n",
            " dropout_17 (Dropout)        (None, 12, 12, 128)       0         \n",
            "                                                                 \n",
            " max_pooling2d_10 (MaxPoolin  (None, 6, 6, 128)        0         \n",
            " g2D)                                                            \n",
            "                                                                 \n",
            " flatten_4 (Flatten)         (None, 4608)              0         \n",
            "                                                                 \n",
            " dense_12 (Dense)            (None, 128)               589952    \n",
            "                                                                 \n",
            " dropout_18 (Dropout)        (None, 128)               0         \n",
            "                                                                 \n",
            " dense_13 (Dense)            (None, 1)                 129       \n",
            "                                                                 \n",
            "=================================================================\n",
            "Total params: 682,753\n",
            "Trainable params: 682,753\n",
            "Non-trainable params: 0\n",
            "_________________________________________________________________\n",
            "None\n"
          ]
        }
      ]
    },
    {
      "cell_type": "code",
      "source": [
        "history = model.fit(X_train, y_train, epochs=10, validation_data=(X_test, y_test))"
      ],
      "metadata": {
        "colab": {
          "base_uri": "https://localhost:8080/"
        },
        "id": "K68YLaUjoMd7",
        "outputId": "ebe04012-0ad1-4f77-9f9f-565591bc5293"
      },
      "execution_count": 57,
      "outputs": [
        {
          "output_type": "stream",
          "name": "stdout",
          "text": [
            "Epoch 1/10\n",
            "5/5 [==============================] - 1s 209ms/step - loss: 0.0000e+00 - accuracy: 0.5263 - val_loss: 0.0000e+00 - val_accuracy: 0.5882\n",
            "Epoch 2/10\n",
            "5/5 [==============================] - 1s 203ms/step - loss: 0.0000e+00 - accuracy: 0.5263 - val_loss: 0.0000e+00 - val_accuracy: 0.5882\n",
            "Epoch 3/10\n",
            "5/5 [==============================] - 1s 205ms/step - loss: 0.0000e+00 - accuracy: 0.5263 - val_loss: 0.0000e+00 - val_accuracy: 0.5882\n",
            "Epoch 4/10\n",
            "5/5 [==============================] - 1s 205ms/step - loss: 0.0000e+00 - accuracy: 0.5263 - val_loss: 0.0000e+00 - val_accuracy: 0.5882\n",
            "Epoch 5/10\n",
            "5/5 [==============================] - 1s 204ms/step - loss: 0.0000e+00 - accuracy: 0.5263 - val_loss: 0.0000e+00 - val_accuracy: 0.5882\n",
            "Epoch 6/10\n",
            "5/5 [==============================] - 1s 209ms/step - loss: 0.0000e+00 - accuracy: 0.5263 - val_loss: 0.0000e+00 - val_accuracy: 0.5882\n",
            "Epoch 7/10\n",
            "5/5 [==============================] - 2s 362ms/step - loss: 0.0000e+00 - accuracy: 0.5263 - val_loss: 0.0000e+00 - val_accuracy: 0.5882\n",
            "Epoch 8/10\n",
            "5/5 [==============================] - 2s 384ms/step - loss: 0.0000e+00 - accuracy: 0.5263 - val_loss: 0.0000e+00 - val_accuracy: 0.5882\n",
            "Epoch 9/10\n",
            "5/5 [==============================] - 2s 315ms/step - loss: 0.0000e+00 - accuracy: 0.5263 - val_loss: 0.0000e+00 - val_accuracy: 0.5882\n",
            "Epoch 10/10\n",
            "5/5 [==============================] - 1s 210ms/step - loss: 0.0000e+00 - accuracy: 0.5263 - val_loss: 0.0000e+00 - val_accuracy: 0.5882\n"
          ]
        }
      ]
    },
    {
      "cell_type": "code",
      "source": [],
      "metadata": {
        "id": "sDmWKGgWpMFO"
      },
      "execution_count": null,
      "outputs": []
    }
  ],
  "metadata": {
    "colab": {
      "provenance": [],
      "include_colab_link": true
    },
    "kernelspec": {
      "display_name": "Python 3",
      "name": "python3"
    },
    "language_info": {
      "name": "python"
    }
  },
  "nbformat": 4,
  "nbformat_minor": 0
}