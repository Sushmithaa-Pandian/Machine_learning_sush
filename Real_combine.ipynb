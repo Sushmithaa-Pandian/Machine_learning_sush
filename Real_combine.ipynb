{
  "nbformat": 4,
  "nbformat_minor": 0,
  "metadata": {
    "colab": {
      "provenance": [],
      "authorship_tag": "ABX9TyMpjNtqL7rb85TTLYWcn+H8",
      "include_colab_link": true
    },
    "kernelspec": {
      "name": "python3",
      "display_name": "Python 3"
    },
    "language_info": {
      "name": "python"
    }
  },
  "cells": [
    {
      "cell_type": "markdown",
      "metadata": {
        "id": "view-in-github",
        "colab_type": "text"
      },
      "source": [
        "<a href=\"https://colab.research.google.com/github/Sushmithaa-Pandian/Machine_learning_sush/blob/main/Real_combine.ipynb\" target=\"_parent\"><img src=\"https://colab.research.google.com/assets/colab-badge.svg\" alt=\"Open In Colab\"/></a>"
      ]
    },
    {
      "cell_type": "code",
      "execution_count": null,
      "metadata": {
        "id": "V9oKy9cgIQGE"
      },
      "outputs": [],
      "source": [
        "import pandas as pd\n",
        "import numpy as np\n",
        "from tensorflow.keras import layers\n",
        "from kerastuner.tuners import RandomSearch\n"
      ]
    },
    {
      "cell_type": "code",
      "source": [
        "!pip install keras-tuner"
      ],
      "metadata": {
        "colab": {
          "base_uri": "https://localhost:8080/"
        },
        "id": "y84ac39e86Ru",
        "outputId": "e8833d34-e5bd-4cd4-cbc3-da0f2a601e2a"
      },
      "execution_count": null,
      "outputs": [
        {
          "output_type": "stream",
          "name": "stdout",
          "text": [
            "Looking in indexes: https://pypi.org/simple, https://us-python.pkg.dev/colab-wheels/public/simple/\n",
            "Collecting keras-tuner\n",
            "  Downloading keras_tuner-1.3.5-py3-none-any.whl (176 kB)\n",
            "\u001b[2K     \u001b[90m━━━━━━━━━━━━━━━━━━━━━━━━━━━━━━━━━━━━━━\u001b[0m \u001b[32m176.1/176.1 kB\u001b[0m \u001b[31m12.6 MB/s\u001b[0m eta \u001b[36m0:00:00\u001b[0m\n",
            "\u001b[?25hRequirement already satisfied: packaging in /usr/local/lib/python3.10/dist-packages (from keras-tuner) (23.1)\n",
            "Requirement already satisfied: requests in /usr/local/lib/python3.10/dist-packages (from keras-tuner) (2.27.1)\n",
            "Collecting kt-legacy (from keras-tuner)\n",
            "  Downloading kt_legacy-1.0.5-py3-none-any.whl (9.6 kB)\n",
            "Requirement already satisfied: urllib3<1.27,>=1.21.1 in /usr/local/lib/python3.10/dist-packages (from requests->keras-tuner) (1.26.15)\n",
            "Requirement already satisfied: certifi>=2017.4.17 in /usr/local/lib/python3.10/dist-packages (from requests->keras-tuner) (2022.12.7)\n",
            "Requirement already satisfied: charset-normalizer~=2.0.0 in /usr/local/lib/python3.10/dist-packages (from requests->keras-tuner) (2.0.12)\n",
            "Requirement already satisfied: idna<4,>=2.5 in /usr/local/lib/python3.10/dist-packages (from requests->keras-tuner) (3.4)\n",
            "Installing collected packages: kt-legacy, keras-tuner\n",
            "Successfully installed keras-tuner-1.3.5 kt-legacy-1.0.5\n"
          ]
        }
      ]
    },
    {
      "cell_type": "code",
      "source": [
        "from google.colab import files\n",
        "uploaded=files.upload()"
      ],
      "metadata": {
        "colab": {
          "base_uri": "https://localhost:8080/",
          "height": 73
        },
        "id": "a0XgxPIs9e1t",
        "outputId": "767e09fd-1c6b-4587-ddf5-0f10eaee116c"
      },
      "execution_count": null,
      "outputs": [
        {
          "output_type": "display_data",
          "data": {
            "text/plain": [
              "<IPython.core.display.HTML object>"
            ],
            "text/html": [
              "\n",
              "     <input type=\"file\" id=\"files-aac927e1-bb46-4780-b5dd-0abbf5e77ebf\" name=\"files[]\" multiple disabled\n",
              "        style=\"border:none\" />\n",
              "     <output id=\"result-aac927e1-bb46-4780-b5dd-0abbf5e77ebf\">\n",
              "      Upload widget is only available when the cell has been executed in the\n",
              "      current browser session. Please rerun this cell to enable.\n",
              "      </output>\n",
              "      <script>// Copyright 2017 Google LLC\n",
              "//\n",
              "// Licensed under the Apache License, Version 2.0 (the \"License\");\n",
              "// you may not use this file except in compliance with the License.\n",
              "// You may obtain a copy of the License at\n",
              "//\n",
              "//      http://www.apache.org/licenses/LICENSE-2.0\n",
              "//\n",
              "// Unless required by applicable law or agreed to in writing, software\n",
              "// distributed under the License is distributed on an \"AS IS\" BASIS,\n",
              "// WITHOUT WARRANTIES OR CONDITIONS OF ANY KIND, either express or implied.\n",
              "// See the License for the specific language governing permissions and\n",
              "// limitations under the License.\n",
              "\n",
              "/**\n",
              " * @fileoverview Helpers for google.colab Python module.\n",
              " */\n",
              "(function(scope) {\n",
              "function span(text, styleAttributes = {}) {\n",
              "  const element = document.createElement('span');\n",
              "  element.textContent = text;\n",
              "  for (const key of Object.keys(styleAttributes)) {\n",
              "    element.style[key] = styleAttributes[key];\n",
              "  }\n",
              "  return element;\n",
              "}\n",
              "\n",
              "// Max number of bytes which will be uploaded at a time.\n",
              "const MAX_PAYLOAD_SIZE = 100 * 1024;\n",
              "\n",
              "function _uploadFiles(inputId, outputId) {\n",
              "  const steps = uploadFilesStep(inputId, outputId);\n",
              "  const outputElement = document.getElementById(outputId);\n",
              "  // Cache steps on the outputElement to make it available for the next call\n",
              "  // to uploadFilesContinue from Python.\n",
              "  outputElement.steps = steps;\n",
              "\n",
              "  return _uploadFilesContinue(outputId);\n",
              "}\n",
              "\n",
              "// This is roughly an async generator (not supported in the browser yet),\n",
              "// where there are multiple asynchronous steps and the Python side is going\n",
              "// to poll for completion of each step.\n",
              "// This uses a Promise to block the python side on completion of each step,\n",
              "// then passes the result of the previous step as the input to the next step.\n",
              "function _uploadFilesContinue(outputId) {\n",
              "  const outputElement = document.getElementById(outputId);\n",
              "  const steps = outputElement.steps;\n",
              "\n",
              "  const next = steps.next(outputElement.lastPromiseValue);\n",
              "  return Promise.resolve(next.value.promise).then((value) => {\n",
              "    // Cache the last promise value to make it available to the next\n",
              "    // step of the generator.\n",
              "    outputElement.lastPromiseValue = value;\n",
              "    return next.value.response;\n",
              "  });\n",
              "}\n",
              "\n",
              "/**\n",
              " * Generator function which is called between each async step of the upload\n",
              " * process.\n",
              " * @param {string} inputId Element ID of the input file picker element.\n",
              " * @param {string} outputId Element ID of the output display.\n",
              " * @return {!Iterable<!Object>} Iterable of next steps.\n",
              " */\n",
              "function* uploadFilesStep(inputId, outputId) {\n",
              "  const inputElement = document.getElementById(inputId);\n",
              "  inputElement.disabled = false;\n",
              "\n",
              "  const outputElement = document.getElementById(outputId);\n",
              "  outputElement.innerHTML = '';\n",
              "\n",
              "  const pickedPromise = new Promise((resolve) => {\n",
              "    inputElement.addEventListener('change', (e) => {\n",
              "      resolve(e.target.files);\n",
              "    });\n",
              "  });\n",
              "\n",
              "  const cancel = document.createElement('button');\n",
              "  inputElement.parentElement.appendChild(cancel);\n",
              "  cancel.textContent = 'Cancel upload';\n",
              "  const cancelPromise = new Promise((resolve) => {\n",
              "    cancel.onclick = () => {\n",
              "      resolve(null);\n",
              "    };\n",
              "  });\n",
              "\n",
              "  // Wait for the user to pick the files.\n",
              "  const files = yield {\n",
              "    promise: Promise.race([pickedPromise, cancelPromise]),\n",
              "    response: {\n",
              "      action: 'starting',\n",
              "    }\n",
              "  };\n",
              "\n",
              "  cancel.remove();\n",
              "\n",
              "  // Disable the input element since further picks are not allowed.\n",
              "  inputElement.disabled = true;\n",
              "\n",
              "  if (!files) {\n",
              "    return {\n",
              "      response: {\n",
              "        action: 'complete',\n",
              "      }\n",
              "    };\n",
              "  }\n",
              "\n",
              "  for (const file of files) {\n",
              "    const li = document.createElement('li');\n",
              "    li.append(span(file.name, {fontWeight: 'bold'}));\n",
              "    li.append(span(\n",
              "        `(${file.type || 'n/a'}) - ${file.size} bytes, ` +\n",
              "        `last modified: ${\n",
              "            file.lastModifiedDate ? file.lastModifiedDate.toLocaleDateString() :\n",
              "                                    'n/a'} - `));\n",
              "    const percent = span('0% done');\n",
              "    li.appendChild(percent);\n",
              "\n",
              "    outputElement.appendChild(li);\n",
              "\n",
              "    const fileDataPromise = new Promise((resolve) => {\n",
              "      const reader = new FileReader();\n",
              "      reader.onload = (e) => {\n",
              "        resolve(e.target.result);\n",
              "      };\n",
              "      reader.readAsArrayBuffer(file);\n",
              "    });\n",
              "    // Wait for the data to be ready.\n",
              "    let fileData = yield {\n",
              "      promise: fileDataPromise,\n",
              "      response: {\n",
              "        action: 'continue',\n",
              "      }\n",
              "    };\n",
              "\n",
              "    // Use a chunked sending to avoid message size limits. See b/62115660.\n",
              "    let position = 0;\n",
              "    do {\n",
              "      const length = Math.min(fileData.byteLength - position, MAX_PAYLOAD_SIZE);\n",
              "      const chunk = new Uint8Array(fileData, position, length);\n",
              "      position += length;\n",
              "\n",
              "      const base64 = btoa(String.fromCharCode.apply(null, chunk));\n",
              "      yield {\n",
              "        response: {\n",
              "          action: 'append',\n",
              "          file: file.name,\n",
              "          data: base64,\n",
              "        },\n",
              "      };\n",
              "\n",
              "      let percentDone = fileData.byteLength === 0 ?\n",
              "          100 :\n",
              "          Math.round((position / fileData.byteLength) * 100);\n",
              "      percent.textContent = `${percentDone}% done`;\n",
              "\n",
              "    } while (position < fileData.byteLength);\n",
              "  }\n",
              "\n",
              "  // All done.\n",
              "  yield {\n",
              "    response: {\n",
              "      action: 'complete',\n",
              "    }\n",
              "  };\n",
              "}\n",
              "\n",
              "scope.google = scope.google || {};\n",
              "scope.google.colab = scope.google.colab || {};\n",
              "scope.google.colab._files = {\n",
              "  _uploadFiles,\n",
              "  _uploadFilesContinue,\n",
              "};\n",
              "})(self);\n",
              "</script> "
            ]
          },
          "metadata": {}
        },
        {
          "output_type": "stream",
          "name": "stdout",
          "text": [
            "Saving Real_Combine.csv to Real_Combine.csv\n"
          ]
        }
      ]
    },
    {
      "cell_type": "code",
      "source": [
        "df=pd.read_csv(\"Real_Combine.csv\")"
      ],
      "metadata": {
        "id": "mSGl2iQE-C9r"
      },
      "execution_count": null,
      "outputs": []
    },
    {
      "cell_type": "code",
      "source": [
        "df.head()"
      ],
      "metadata": {
        "colab": {
          "base_uri": "https://localhost:8080/",
          "height": 206
        },
        "id": "iMJxBGkZ-OON",
        "outputId": "b1ad9cfd-fd62-457b-c994-75acddbf2a8a"
      },
      "execution_count": null,
      "outputs": [
        {
          "output_type": "execute_result",
          "data": {
            "text/plain": [
              "      T    TM   Tm     SLP     H   VV    V    VM      PM 2.5\n",
              "0   7.4   9.8  4.8  1017.6  93.0  0.5  4.3   9.4  219.720833\n",
              "1   7.8  12.7  4.4  1018.5  87.0  0.6  4.4  11.1  182.187500\n",
              "2   6.7  13.4  2.4  1019.4  82.0  0.6  4.8  11.1  154.037500\n",
              "3   8.6  15.5  3.3  1018.7  72.0  0.8  8.1  20.6  223.208333\n",
              "4  12.4  20.9  4.4  1017.3  61.0  1.3  8.7  22.2  200.645833"
            ],
            "text/html": [
              "\n",
              "  <div id=\"df-ae9d1ce3-dae8-41f9-b315-a9fbd9e02948\">\n",
              "    <div class=\"colab-df-container\">\n",
              "      <div>\n",
              "<style scoped>\n",
              "    .dataframe tbody tr th:only-of-type {\n",
              "        vertical-align: middle;\n",
              "    }\n",
              "\n",
              "    .dataframe tbody tr th {\n",
              "        vertical-align: top;\n",
              "    }\n",
              "\n",
              "    .dataframe thead th {\n",
              "        text-align: right;\n",
              "    }\n",
              "</style>\n",
              "<table border=\"1\" class=\"dataframe\">\n",
              "  <thead>\n",
              "    <tr style=\"text-align: right;\">\n",
              "      <th></th>\n",
              "      <th>T</th>\n",
              "      <th>TM</th>\n",
              "      <th>Tm</th>\n",
              "      <th>SLP</th>\n",
              "      <th>H</th>\n",
              "      <th>VV</th>\n",
              "      <th>V</th>\n",
              "      <th>VM</th>\n",
              "      <th>PM 2.5</th>\n",
              "    </tr>\n",
              "  </thead>\n",
              "  <tbody>\n",
              "    <tr>\n",
              "      <th>0</th>\n",
              "      <td>7.4</td>\n",
              "      <td>9.8</td>\n",
              "      <td>4.8</td>\n",
              "      <td>1017.6</td>\n",
              "      <td>93.0</td>\n",
              "      <td>0.5</td>\n",
              "      <td>4.3</td>\n",
              "      <td>9.4</td>\n",
              "      <td>219.720833</td>\n",
              "    </tr>\n",
              "    <tr>\n",
              "      <th>1</th>\n",
              "      <td>7.8</td>\n",
              "      <td>12.7</td>\n",
              "      <td>4.4</td>\n",
              "      <td>1018.5</td>\n",
              "      <td>87.0</td>\n",
              "      <td>0.6</td>\n",
              "      <td>4.4</td>\n",
              "      <td>11.1</td>\n",
              "      <td>182.187500</td>\n",
              "    </tr>\n",
              "    <tr>\n",
              "      <th>2</th>\n",
              "      <td>6.7</td>\n",
              "      <td>13.4</td>\n",
              "      <td>2.4</td>\n",
              "      <td>1019.4</td>\n",
              "      <td>82.0</td>\n",
              "      <td>0.6</td>\n",
              "      <td>4.8</td>\n",
              "      <td>11.1</td>\n",
              "      <td>154.037500</td>\n",
              "    </tr>\n",
              "    <tr>\n",
              "      <th>3</th>\n",
              "      <td>8.6</td>\n",
              "      <td>15.5</td>\n",
              "      <td>3.3</td>\n",
              "      <td>1018.7</td>\n",
              "      <td>72.0</td>\n",
              "      <td>0.8</td>\n",
              "      <td>8.1</td>\n",
              "      <td>20.6</td>\n",
              "      <td>223.208333</td>\n",
              "    </tr>\n",
              "    <tr>\n",
              "      <th>4</th>\n",
              "      <td>12.4</td>\n",
              "      <td>20.9</td>\n",
              "      <td>4.4</td>\n",
              "      <td>1017.3</td>\n",
              "      <td>61.0</td>\n",
              "      <td>1.3</td>\n",
              "      <td>8.7</td>\n",
              "      <td>22.2</td>\n",
              "      <td>200.645833</td>\n",
              "    </tr>\n",
              "  </tbody>\n",
              "</table>\n",
              "</div>\n",
              "      <button class=\"colab-df-convert\" onclick=\"convertToInteractive('df-ae9d1ce3-dae8-41f9-b315-a9fbd9e02948')\"\n",
              "              title=\"Convert this dataframe to an interactive table.\"\n",
              "              style=\"display:none;\">\n",
              "        \n",
              "  <svg xmlns=\"http://www.w3.org/2000/svg\" height=\"24px\"viewBox=\"0 0 24 24\"\n",
              "       width=\"24px\">\n",
              "    <path d=\"M0 0h24v24H0V0z\" fill=\"none\"/>\n",
              "    <path d=\"M18.56 5.44l.94 2.06.94-2.06 2.06-.94-2.06-.94-.94-2.06-.94 2.06-2.06.94zm-11 1L8.5 8.5l.94-2.06 2.06-.94-2.06-.94L8.5 2.5l-.94 2.06-2.06.94zm10 10l.94 2.06.94-2.06 2.06-.94-2.06-.94-.94-2.06-.94 2.06-2.06.94z\"/><path d=\"M17.41 7.96l-1.37-1.37c-.4-.4-.92-.59-1.43-.59-.52 0-1.04.2-1.43.59L10.3 9.45l-7.72 7.72c-.78.78-.78 2.05 0 2.83L4 21.41c.39.39.9.59 1.41.59.51 0 1.02-.2 1.41-.59l7.78-7.78 2.81-2.81c.8-.78.8-2.07 0-2.86zM5.41 20L4 18.59l7.72-7.72 1.47 1.35L5.41 20z\"/>\n",
              "  </svg>\n",
              "      </button>\n",
              "      \n",
              "  <style>\n",
              "    .colab-df-container {\n",
              "      display:flex;\n",
              "      flex-wrap:wrap;\n",
              "      gap: 12px;\n",
              "    }\n",
              "\n",
              "    .colab-df-convert {\n",
              "      background-color: #E8F0FE;\n",
              "      border: none;\n",
              "      border-radius: 50%;\n",
              "      cursor: pointer;\n",
              "      display: none;\n",
              "      fill: #1967D2;\n",
              "      height: 32px;\n",
              "      padding: 0 0 0 0;\n",
              "      width: 32px;\n",
              "    }\n",
              "\n",
              "    .colab-df-convert:hover {\n",
              "      background-color: #E2EBFA;\n",
              "      box-shadow: 0px 1px 2px rgba(60, 64, 67, 0.3), 0px 1px 3px 1px rgba(60, 64, 67, 0.15);\n",
              "      fill: #174EA6;\n",
              "    }\n",
              "\n",
              "    [theme=dark] .colab-df-convert {\n",
              "      background-color: #3B4455;\n",
              "      fill: #D2E3FC;\n",
              "    }\n",
              "\n",
              "    [theme=dark] .colab-df-convert:hover {\n",
              "      background-color: #434B5C;\n",
              "      box-shadow: 0px 1px 3px 1px rgba(0, 0, 0, 0.15);\n",
              "      filter: drop-shadow(0px 1px 2px rgba(0, 0, 0, 0.3));\n",
              "      fill: #FFFFFF;\n",
              "    }\n",
              "  </style>\n",
              "\n",
              "      <script>\n",
              "        const buttonEl =\n",
              "          document.querySelector('#df-ae9d1ce3-dae8-41f9-b315-a9fbd9e02948 button.colab-df-convert');\n",
              "        buttonEl.style.display =\n",
              "          google.colab.kernel.accessAllowed ? 'block' : 'none';\n",
              "\n",
              "        async function convertToInteractive(key) {\n",
              "          const element = document.querySelector('#df-ae9d1ce3-dae8-41f9-b315-a9fbd9e02948');\n",
              "          const dataTable =\n",
              "            await google.colab.kernel.invokeFunction('convertToInteractive',\n",
              "                                                     [key], {});\n",
              "          if (!dataTable) return;\n",
              "\n",
              "          const docLinkHtml = 'Like what you see? Visit the ' +\n",
              "            '<a target=\"_blank\" href=https://colab.research.google.com/notebooks/data_table.ipynb>data table notebook</a>'\n",
              "            + ' to learn more about interactive tables.';\n",
              "          element.innerHTML = '';\n",
              "          dataTable['output_type'] = 'display_data';\n",
              "          await google.colab.output.renderOutput(dataTable, element);\n",
              "          const docLink = document.createElement('div');\n",
              "          docLink.innerHTML = docLinkHtml;\n",
              "          element.appendChild(docLink);\n",
              "        }\n",
              "      </script>\n",
              "    </div>\n",
              "  </div>\n",
              "  "
            ]
          },
          "metadata": {},
          "execution_count": 17
        }
      ]
    },
    {
      "cell_type": "code",
      "source": [
        "x=df.iloc[:,:-1]\n",
        "y=df.iloc[:,-1]\n"
      ],
      "metadata": {
        "id": "GoRe5hF5-WO_"
      },
      "execution_count": null,
      "outputs": []
    },
    {
      "cell_type": "code",
      "source": [
        "def build_model(hp):\n",
        "    model = keras.Sequential()\n",
        "    for i in range(hp.Int('num_layers', 2, 20)):\n",
        "        model.add(layers.Dense(units=hp.Int('units_' + str(i),\n",
        "                                            min_value=32,\n",
        "                                            max_value=512,\n",
        "                                            step=32),\n",
        "                               activation='relu'))\n",
        "    model.add(layers.Dense(1, activation='linear'))\n",
        "    model.compile(\n",
        "        optimizer=keras.optimizers.Adam(\n",
        "            hp.Choice('learning_rate', [1e-2, 1e-3, 1e-4])),\n",
        "        loss='mean_absolute_error',\n",
        "        metrics=['mean_absolute_error'])\n",
        "    return model\n"
      ],
      "metadata": {
        "id": "CzG1MpzzBeCe"
      },
      "execution_count": null,
      "outputs": []
    },
    {
      "cell_type": "code",
      "source": [
        "tuner = RandonSearch(\n",
        "    build_model,\n",
        "    objective='val_mean_absolute_error',\n",
        "    max_trials=5,\n",
        "    executions_per_trial=3,\n",
        "    directory='project',\n",
        "    project_name='Air Quality Index')"
      ],
      "metadata": {
        "id": "kxoBBtb3JYOr",
        "colab": {
          "base_uri": "https://localhost:8080/"
        },
        "outputId": "b027380e-4301-4bc8-a25b-7b2e0dc5fb79"
      },
      "execution_count": null,
      "outputs": [
        {
          "output_type": "error",
          "ename": "NameError",
          "evalue": "ignored",
          "traceback": [
            "\u001b[0;31m---------------------------------------------------------------------------\u001b[0m",
            "\u001b[0;31mNameError\u001b[0m                                 Traceback (most recent call last)",
            "\u001b[0;32m<ipython-input-1-1f6dcc451c7f>\u001b[0m in \u001b[0;36m<cell line: 1>\u001b[0;34m()\u001b[0m\n\u001b[0;32m----> 1\u001b[0;31m tuner = Hyperband(\n\u001b[0m\u001b[1;32m      2\u001b[0m     \u001b[0mbuild_model\u001b[0m\u001b[0;34m,\u001b[0m\u001b[0;34m\u001b[0m\u001b[0;34m\u001b[0m\u001b[0m\n\u001b[1;32m      3\u001b[0m     \u001b[0mobjective\u001b[0m\u001b[0;34m=\u001b[0m\u001b[0;34m'val_mean_absolute_error'\u001b[0m\u001b[0;34m,\u001b[0m\u001b[0;34m\u001b[0m\u001b[0;34m\u001b[0m\u001b[0m\n\u001b[1;32m      4\u001b[0m     \u001b[0mmax_trials\u001b[0m\u001b[0;34m=\u001b[0m\u001b[0;36m5\u001b[0m\u001b[0;34m,\u001b[0m\u001b[0;34m\u001b[0m\u001b[0;34m\u001b[0m\u001b[0m\n\u001b[1;32m      5\u001b[0m     \u001b[0mexecutions_per_trial\u001b[0m\u001b[0;34m=\u001b[0m\u001b[0;36m3\u001b[0m\u001b[0;34m,\u001b[0m\u001b[0;34m\u001b[0m\u001b[0;34m\u001b[0m\u001b[0m\n",
            "\u001b[0;31mNameError\u001b[0m: name 'Hyperband' is not defined"
          ]
        }
      ]
    },
    {
      "cell_type": "code",
      "source": [
        "best_hps=tuner.get_best_hyperparameters(num_trials=1)[0]"
      ],
      "metadata": {
        "id": "dAYj-UEeLp3R"
      },
      "execution_count": null,
      "outputs": []
    },
    {
      "cell_type": "code",
      "source": [
        "from sklearn.model_selection import train_test_split\n",
        "x_train, x_test, y_train, y_test = train_test_split(x, y, test_size=0.3, random_state=0)"
      ],
      "metadata": {
        "id": "iXvNIA4jJdib"
      },
      "execution_count": null,
      "outputs": []
    },
    {
      "cell_type": "code",
      "source": [
        "model = tuner.hypermodel.build(best_hps)\n",
        "history = model.fit(x_train, y_train, epochs=50, validation_split=0.2)\n",
        "\n"
      ],
      "metadata": {
        "colab": {
          "base_uri": "https://localhost:8080/"
        },
        "id": "r6ZvkWmQMNTC",
        "outputId": "7cc007c1-9cec-4cce-ead4-2a02c63fa555"
      },
      "execution_count": null,
      "outputs": [
        {
          "output_type": "stream",
          "name": "stdout",
          "text": [
            "Epoch 1/50\n",
            "20/20 [==============================] - 5s 38ms/step - loss: 98.7130 - mean_absolute_error: 98.7130 - val_loss: nan - val_mean_absolute_error: nan\n",
            "Epoch 2/50\n",
            "20/20 [==============================] - 0s 17ms/step - loss: 73.6142 - mean_absolute_error: 73.6142 - val_loss: nan - val_mean_absolute_error: nan\n",
            "Epoch 3/50\n",
            "20/20 [==============================] - 0s 17ms/step - loss: 70.3773 - mean_absolute_error: 70.3773 - val_loss: nan - val_mean_absolute_error: nan\n",
            "Epoch 4/50\n",
            "20/20 [==============================] - 0s 11ms/step - loss: 63.2106 - mean_absolute_error: 63.2106 - val_loss: nan - val_mean_absolute_error: nan\n",
            "Epoch 5/50\n",
            "20/20 [==============================] - 0s 10ms/step - loss: 61.4532 - mean_absolute_error: 61.4532 - val_loss: nan - val_mean_absolute_error: nan\n",
            "Epoch 6/50\n",
            "20/20 [==============================] - 0s 11ms/step - loss: 54.2509 - mean_absolute_error: 54.2509 - val_loss: nan - val_mean_absolute_error: nan\n",
            "Epoch 7/50\n",
            "20/20 [==============================] - 0s 11ms/step - loss: 61.8236 - mean_absolute_error: 61.8236 - val_loss: nan - val_mean_absolute_error: nan\n",
            "Epoch 8/50\n",
            "20/20 [==============================] - 0s 10ms/step - loss: 47.9976 - mean_absolute_error: 47.9976 - val_loss: nan - val_mean_absolute_error: nan\n",
            "Epoch 9/50\n",
            "20/20 [==============================] - 0s 10ms/step - loss: 62.2666 - mean_absolute_error: 62.2666 - val_loss: nan - val_mean_absolute_error: nan\n",
            "Epoch 10/50\n",
            "20/20 [==============================] - 0s 10ms/step - loss: 47.2304 - mean_absolute_error: 47.2304 - val_loss: nan - val_mean_absolute_error: nan\n",
            "Epoch 11/50\n",
            "20/20 [==============================] - 0s 10ms/step - loss: 52.6865 - mean_absolute_error: 52.6865 - val_loss: nan - val_mean_absolute_error: nan\n",
            "Epoch 12/50\n",
            "20/20 [==============================] - 0s 11ms/step - loss: 47.8086 - mean_absolute_error: 47.8086 - val_loss: nan - val_mean_absolute_error: nan\n",
            "Epoch 13/50\n",
            "20/20 [==============================] - 0s 10ms/step - loss: 60.0858 - mean_absolute_error: 60.0858 - val_loss: nan - val_mean_absolute_error: nan\n",
            "Epoch 14/50\n",
            "20/20 [==============================] - 0s 10ms/step - loss: 45.9071 - mean_absolute_error: 45.9071 - val_loss: nan - val_mean_absolute_error: nan\n",
            "Epoch 15/50\n",
            "20/20 [==============================] - 0s 9ms/step - loss: 45.9651 - mean_absolute_error: 45.9651 - val_loss: nan - val_mean_absolute_error: nan\n",
            "Epoch 16/50\n",
            "20/20 [==============================] - 0s 10ms/step - loss: 82.1684 - mean_absolute_error: 82.1684 - val_loss: nan - val_mean_absolute_error: nan\n",
            "Epoch 17/50\n",
            "20/20 [==============================] - 0s 10ms/step - loss: 54.4090 - mean_absolute_error: 54.4090 - val_loss: nan - val_mean_absolute_error: nan\n",
            "Epoch 18/50\n",
            "20/20 [==============================] - 0s 9ms/step - loss: 49.6312 - mean_absolute_error: 49.6312 - val_loss: nan - val_mean_absolute_error: nan\n",
            "Epoch 19/50\n",
            "20/20 [==============================] - 0s 10ms/step - loss: 45.4690 - mean_absolute_error: 45.4690 - val_loss: nan - val_mean_absolute_error: nan\n",
            "Epoch 20/50\n",
            "20/20 [==============================] - 0s 9ms/step - loss: 52.1796 - mean_absolute_error: 52.1796 - val_loss: nan - val_mean_absolute_error: nan\n",
            "Epoch 21/50\n",
            "20/20 [==============================] - 0s 9ms/step - loss: 47.4330 - mean_absolute_error: 47.4330 - val_loss: nan - val_mean_absolute_error: nan\n",
            "Epoch 22/50\n",
            "20/20 [==============================] - 0s 11ms/step - loss: 50.8502 - mean_absolute_error: 50.8502 - val_loss: nan - val_mean_absolute_error: nan\n",
            "Epoch 23/50\n",
            "20/20 [==============================] - 0s 10ms/step - loss: 44.8958 - mean_absolute_error: 44.8958 - val_loss: nan - val_mean_absolute_error: nan\n",
            "Epoch 24/50\n",
            "20/20 [==============================] - 0s 10ms/step - loss: 55.9650 - mean_absolute_error: 55.9650 - val_loss: nan - val_mean_absolute_error: nan\n",
            "Epoch 25/50\n",
            "20/20 [==============================] - 0s 9ms/step - loss: 53.4154 - mean_absolute_error: 53.4154 - val_loss: nan - val_mean_absolute_error: nan\n",
            "Epoch 26/50\n",
            "20/20 [==============================] - 0s 11ms/step - loss: 56.1077 - mean_absolute_error: 56.1077 - val_loss: nan - val_mean_absolute_error: nan\n",
            "Epoch 27/50\n",
            "20/20 [==============================] - 0s 10ms/step - loss: 46.3495 - mean_absolute_error: 46.3495 - val_loss: nan - val_mean_absolute_error: nan\n",
            "Epoch 28/50\n",
            "20/20 [==============================] - 0s 11ms/step - loss: 43.1649 - mean_absolute_error: 43.1649 - val_loss: nan - val_mean_absolute_error: nan\n",
            "Epoch 29/50\n",
            "20/20 [==============================] - 0s 11ms/step - loss: 44.9636 - mean_absolute_error: 44.9636 - val_loss: nan - val_mean_absolute_error: nan\n",
            "Epoch 30/50\n",
            "20/20 [==============================] - 0s 11ms/step - loss: 42.5973 - mean_absolute_error: 42.5973 - val_loss: nan - val_mean_absolute_error: nan\n",
            "Epoch 31/50\n",
            "20/20 [==============================] - 0s 12ms/step - loss: 49.2743 - mean_absolute_error: 49.2743 - val_loss: nan - val_mean_absolute_error: nan\n",
            "Epoch 32/50\n",
            "20/20 [==============================] - 0s 10ms/step - loss: 44.9460 - mean_absolute_error: 44.9460 - val_loss: nan - val_mean_absolute_error: nan\n",
            "Epoch 33/50\n",
            "20/20 [==============================] - 0s 10ms/step - loss: 42.3434 - mean_absolute_error: 42.3434 - val_loss: nan - val_mean_absolute_error: nan\n",
            "Epoch 34/50\n",
            "20/20 [==============================] - 0s 11ms/step - loss: 43.7560 - mean_absolute_error: 43.7560 - val_loss: nan - val_mean_absolute_error: nan\n",
            "Epoch 35/50\n",
            "20/20 [==============================] - 0s 10ms/step - loss: 43.0156 - mean_absolute_error: 43.0156 - val_loss: nan - val_mean_absolute_error: nan\n",
            "Epoch 36/50\n",
            "20/20 [==============================] - 0s 11ms/step - loss: 43.6141 - mean_absolute_error: 43.6141 - val_loss: nan - val_mean_absolute_error: nan\n",
            "Epoch 37/50\n",
            "20/20 [==============================] - 0s 10ms/step - loss: 45.6718 - mean_absolute_error: 45.6718 - val_loss: nan - val_mean_absolute_error: nan\n",
            "Epoch 38/50\n",
            "20/20 [==============================] - 0s 10ms/step - loss: 44.0367 - mean_absolute_error: 44.0367 - val_loss: nan - val_mean_absolute_error: nan\n",
            "Epoch 39/50\n",
            "20/20 [==============================] - 0s 11ms/step - loss: 48.6527 - mean_absolute_error: 48.6527 - val_loss: nan - val_mean_absolute_error: nan\n",
            "Epoch 40/50\n",
            "20/20 [==============================] - 0s 11ms/step - loss: 46.4083 - mean_absolute_error: 46.4083 - val_loss: nan - val_mean_absolute_error: nan\n",
            "Epoch 41/50\n",
            "20/20 [==============================] - 0s 10ms/step - loss: 45.0355 - mean_absolute_error: 45.0355 - val_loss: nan - val_mean_absolute_error: nan\n",
            "Epoch 42/50\n",
            "20/20 [==============================] - 0s 10ms/step - loss: 42.6223 - mean_absolute_error: 42.6223 - val_loss: nan - val_mean_absolute_error: nan\n",
            "Epoch 43/50\n",
            "20/20 [==============================] - 0s 10ms/step - loss: 40.6843 - mean_absolute_error: 40.6843 - val_loss: nan - val_mean_absolute_error: nan\n",
            "Epoch 44/50\n",
            "20/20 [==============================] - 0s 10ms/step - loss: 40.9592 - mean_absolute_error: 40.9592 - val_loss: nan - val_mean_absolute_error: nan\n",
            "Epoch 45/50\n",
            "20/20 [==============================] - 0s 11ms/step - loss: 41.1363 - mean_absolute_error: 41.1363 - val_loss: nan - val_mean_absolute_error: nan\n",
            "Epoch 46/50\n",
            "20/20 [==============================] - 0s 10ms/step - loss: 48.6312 - mean_absolute_error: 48.6312 - val_loss: nan - val_mean_absolute_error: nan\n",
            "Epoch 47/50\n",
            "20/20 [==============================] - 0s 9ms/step - loss: 45.0265 - mean_absolute_error: 45.0265 - val_loss: nan - val_mean_absolute_error: nan\n",
            "Epoch 48/50\n",
            "20/20 [==============================] - 0s 10ms/step - loss: 41.1638 - mean_absolute_error: 41.1638 - val_loss: nan - val_mean_absolute_error: nan\n",
            "Epoch 49/50\n",
            "20/20 [==============================] - 0s 10ms/step - loss: 43.7020 - mean_absolute_error: 43.7020 - val_loss: nan - val_mean_absolute_error: nan\n",
            "Epoch 50/50\n",
            "20/20 [==============================] - 0s 10ms/step - loss: 45.1097 - mean_absolute_error: 45.1097 - val_loss: nan - val_mean_absolute_error: nan\n"
          ]
        }
      ]
    },
    {
      "cell_type": "code",
      "source": [
        "eval_result = model.evaluate(x_test, y_test)\n",
        "print(eval_result)"
      ],
      "metadata": {
        "colab": {
          "base_uri": "https://localhost:8080/"
        },
        "id": "zAvajzlUMaUg",
        "outputId": "378c5e31-3132-4c23-8797-3ad8066f772d"
      },
      "execution_count": null,
      "outputs": [
        {
          "output_type": "stream",
          "name": "stdout",
          "text": [
            "11/11 [==============================] - 0s 3ms/step - loss: 44.7552 - mean_absolute_error: 44.7552\n",
            "[44.75521469116211, 44.75521469116211]\n"
          ]
        }
      ]
    },
    {
      "cell_type": "code",
      "source": [],
      "metadata": {
        "id": "or2JDZDqJtrD"
      },
      "execution_count": null,
      "outputs": []
    }
  ]
}